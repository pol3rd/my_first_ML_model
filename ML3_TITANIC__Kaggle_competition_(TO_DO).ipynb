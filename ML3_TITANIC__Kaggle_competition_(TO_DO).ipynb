{
  "nbformat": 4,
  "nbformat_minor": 0,
  "metadata": {
    "colab": {
      "provenance": [],
      "include_colab_link": true
    },
    "kernelspec": {
      "name": "python3",
      "display_name": "Python 3"
    },
    "language_info": {
      "name": "python"
    }
  },
  "cells": [
    {
      "cell_type": "markdown",
      "metadata": {
        "id": "view-in-github",
        "colab_type": "text"
      },
      "source": [
        "<a href=\"https://colab.research.google.com/github/pol3rd/my_first_ML_model/blob/main/ML3_TITANIC__Kaggle_competition_(TO_DO).ipynb\" target=\"_parent\"><img src=\"https://colab.research.google.com/assets/colab-badge.svg\" alt=\"Open In Colab\"/></a>"
      ]
    },
    {
      "cell_type": "markdown",
      "source": [
        "# TITANIC: Kaggle competition"
      ],
      "metadata": {
        "id": "dUmhy8WyPO_P"
      }
    },
    {
      "cell_type": "markdown",
      "source": [
        "**TAREA: CLASIFICACIÓN**<br>\n",
        "**NIVEL: INTERMEDIATE**"
      ],
      "metadata": {
        "id": "iD9oHcGBR7E8"
      }
    },
    {
      "cell_type": "markdown",
      "source": [
        "Vamos a participar en la competicion de **Kaggle del Titanic**: https://www.kaggle.com/competitions/titanic <br> Para ello atacaremos 3 puntos clave para obtener el mejor modelo posible:\n",
        "* ML Preprocessing\n",
        "* Competicion de modelos\n",
        "* Hiperparametros\n",
        "<br><br>\n",
        "A diferencia de en el flujo ML convencional, en las competiciones de Kaggle no haremos la evaluación del TEST en el notebook, sino que tendremos que subir un predict del test a la plataforma de submissions y la plataforma lo evaluará.\n",
        "<br><br>\n",
        "...A POR ELLO!"
      ],
      "metadata": {
        "id": "q4nQzFFlPVFx"
      }
    },
    {
      "cell_type": "markdown",
      "source": [
        "# Librerias"
      ],
      "metadata": {
        "id": "-nDdaWMERII7"
      }
    },
    {
      "cell_type": "markdown",
      "source": [
        "Importar llibrerias"
      ],
      "metadata": {
        "id": "YAIdJDfAD5Gs"
      }
    },
    {
      "cell_type": "code",
      "source": [
        "import pandas as pd\n",
        "import numpy as np\n",
        "import matplotlib.pyplot as plt\n",
        "import seaborn as sns\n",
        "\n",
        "from sklearn.preprocessing import LabelEncoder, MinMaxScaler, OrdinalEncoder\n",
        "\n",
        "import folium\n",
        "import plotly.express as px"
      ],
      "metadata": {
        "id": "Ubvw1vwNRHbm"
      },
      "execution_count": null,
      "outputs": []
    },
    {
      "cell_type": "markdown",
      "source": [
        "# Load dataset"
      ],
      "metadata": {
        "id": "lwNEUuavPmQ_"
      }
    },
    {
      "cell_type": "code",
      "source": [
        "from google.colab import drive\n",
        "drive.mount('/content/drive')"
      ],
      "metadata": {
        "id": "0k6l8mJMQeFE",
        "colab": {
          "base_uri": "https://localhost:8080/"
        },
        "outputId": "a83a4b61-1dbd-4f78-9f19-7bbe5d0976c7"
      },
      "execution_count": null,
      "outputs": [
        {
          "output_type": "stream",
          "name": "stdout",
          "text": [
            "Drive already mounted at /content/drive; to attempt to forcibly remount, call drive.mount(\"/content/drive\", force_remount=True).\n"
          ]
        }
      ]
    },
    {
      "cell_type": "markdown",
      "source": [
        "Importar el dataset"
      ],
      "metadata": {
        "id": "pPn7PbwFEnAr"
      }
    },
    {
      "cell_type": "code",
      "source": [
        "df = pd.read_csv('/content/drive/MyDrive/Titanic - Machine Learning from Disaster/train.csv')"
      ],
      "metadata": {
        "id": "NJCk-PiHbOkm"
      },
      "execution_count": null,
      "outputs": []
    },
    {
      "cell_type": "markdown",
      "source": [
        "# ML Preprocessing"
      ],
      "metadata": {
        "id": "dTA60a2FSu2X"
      }
    },
    {
      "cell_type": "markdown",
      "source": [
        "## EDA"
      ],
      "metadata": {
        "id": "St8wE8riXp3G"
      }
    },
    {
      "cell_type": "markdown",
      "source": [
        "Análisis exploratorio de los datos"
      ],
      "metadata": {
        "id": "DgedVBZgdT7-"
      }
    },
    {
      "cell_type": "markdown",
      "source": [
        "#### **Valores Faltantes**"
      ],
      "metadata": {
        "id": "JLtV2zfmUQxF"
      }
    },
    {
      "cell_type": "code",
      "source": [
        "for column_name in df:\n",
        "  if df[column_name].isnull().sum()>=1:\n",
        "    print(\"Faltan:\", df[column_name].isnull().sum(), f\"valores para {column_name}\")"
      ],
      "metadata": {
        "colab": {
          "base_uri": "https://localhost:8080/"
        },
        "id": "QTLX2MHgUXu1",
        "outputId": "343a7eb6-219b-43c1-ff4f-7990d4f1f754"
      },
      "execution_count": null,
      "outputs": [
        {
          "output_type": "stream",
          "name": "stdout",
          "text": [
            "Faltan: 177 valores para Age\n",
            "Faltan: 687 valores para Cabin\n",
            "Faltan: 2 valores para Embarked\n"
          ]
        }
      ]
    },
    {
      "cell_type": "markdown",
      "source": [
        "- **Edad**: Faltan 177 valores. Esto es crucial, ya que la edad podría ser un factor significativo en la supervivencia.\n",
        "- **Cabina**: Faltan 687 valores. La gran cantidad de datos faltantes hace que esta variable sea menos confiable para el modelado.\n",
        "- **Embarcado**: Solo faltan 2 valores, lo que es relativamente menor y puede ser manejable."
      ],
      "metadata": {
        "id": "ETferh62XI76"
      }
    },
    {
      "cell_type": "markdown",
      "source": [
        "#### **Estadísticas Resumidas**:"
      ],
      "metadata": {
        "id": "obsuWXvzXUh8"
      }
    },
    {
      "cell_type": "code",
      "source": [
        "edad_minima = df['Age'].min()\n",
        "edad_maxima = df['Age'].max()\n",
        "\n",
        "edad_media = np.mean(df['Age'])\n",
        "\n",
        "print(f\"La edad varía de {edad_minima} años a {edad_maxima} años, con una edad media de aproximadamente {edad_media.round()} años.\")"
      ],
      "metadata": {
        "colab": {
          "base_uri": "https://localhost:8080/"
        },
        "id": "H2XvQ54kXH_y",
        "outputId": "f11ec1a0-b51e-44db-b260-032e15d6a0b2"
      },
      "execution_count": null,
      "outputs": [
        {
          "output_type": "stream",
          "name": "stdout",
          "text": [
            "La edad varía de 0.42 años a 80.0 años, con una edad media de aproximadamente 30.0 años.\n"
          ]
        }
      ]
    },
    {
      "cell_type": "code",
      "source": [
        "registros = df['Pclass'].unique().tolist()\n",
        "\n",
        "registro_con_mas_ocurrencias = max(registros, key = registros.count)\n",
        "\n",
        "print(f\"La mayoría de los pasajeros están en la tercera clase (Pclass={registro_con_mas_ocurrencias}).\")"
      ],
      "metadata": {
        "colab": {
          "base_uri": "https://localhost:8080/"
        },
        "id": "nJKzp8VzYv4m",
        "outputId": "b6ab1ba2-22ea-4d04-c2e2-7dc947375f20"
      },
      "execution_count": null,
      "outputs": [
        {
          "output_type": "stream",
          "name": "stdout",
          "text": [
            "La mayoría de los pasajeros están en la tercera clase (Pclass=3).\n"
          ]
        }
      ]
    },
    {
      "cell_type": "markdown",
      "source": [
        "#### **Distribución de Características Categóricas**:"
      ],
      "metadata": {
        "id": "wnUNHF9RajD7"
      }
    },
    {
      "cell_type": "code",
      "source": [
        "men_on_board = (df['Sex']=='male').sum()\n",
        "women_on_board = (df['Sex']=='female').sum()\n",
        "\n",
        "print(f\"Hay más hombres ({men_on_board}) que mujeres ({women_on_board}) a bordo.\")"
      ],
      "metadata": {
        "colab": {
          "base_uri": "https://localhost:8080/"
        },
        "id": "BlLBYd91arQx",
        "outputId": "001d0b72-206e-4995-eb9c-294e9b20a9df"
      },
      "execution_count": null,
      "outputs": [
        {
          "output_type": "stream",
          "name": "stdout",
          "text": [
            "Hay más hombres (577) que mujeres (314) a bordo.\n"
          ]
        }
      ]
    },
    {
      "cell_type": "code",
      "source": [
        "registros = df['Embarked'].unique().tolist()\n",
        "\n",
        "registro_con_mas_ocurrencias = max(registros, key = registros.count)\n",
        "\n",
        "print(f\"La mayoría de los pasajeros embarcaron en '{registro_con_mas_ocurrencias}' (Southampton)\")"
      ],
      "metadata": {
        "colab": {
          "base_uri": "https://localhost:8080/"
        },
        "id": "6UotTiuCcn_w",
        "outputId": "b2de9e92-56e8-436f-c0c8-e29b588e0bbe"
      },
      "execution_count": null,
      "outputs": [
        {
          "output_type": "stream",
          "name": "stdout",
          "text": [
            "La mayoría de los pasajeros embarcaron en 'S' (Southampton)\n"
          ]
        }
      ]
    },
    {
      "cell_type": "markdown",
      "source": [
        "## Data cleaning"
      ],
      "metadata": {
        "id": "-I6FRKVDb-sl"
      }
    },
    {
      "cell_type": "markdown",
      "source": [
        "# **df['Name'] Tratamiento de la variable.**"
      ],
      "metadata": {
        "id": "NDW0fLtriCaT"
      }
    },
    {
      "cell_type": "code",
      "source": [
        "df['Name'].head(2)"
      ],
      "metadata": {
        "colab": {
          "base_uri": "https://localhost:8080/"
        },
        "id": "SxqVjlAIizZm",
        "outputId": "481430c7-1aa8-4640-928c-201f2ba44f4e"
      },
      "execution_count": null,
      "outputs": [
        {
          "output_type": "execute_result",
          "data": {
            "text/plain": [
              "0                              Braund, Mr. Owen Harris\n",
              "1    Cumings, Mrs. John Bradley (Florence Briggs Th...\n",
              "Name: Name, dtype: object"
            ]
          },
          "metadata": {},
          "execution_count": 1724
        }
      ]
    },
    {
      "cell_type": "markdown",
      "source": [
        "**Paso 1: Extracción de Títulos**"
      ],
      "metadata": {
        "id": "3RfRt0-tjZjd"
      }
    },
    {
      "cell_type": "code",
      "source": [
        "def extract_title(name):\n",
        "\n",
        "  title = name.split(\",\")[1].split(\".\")[0].strip()\n",
        "\n",
        "  return title"
      ],
      "metadata": {
        "id": "DGgXeBGZiLKa"
      },
      "execution_count": null,
      "outputs": []
    },
    {
      "cell_type": "markdown",
      "source": [
        "**Paso 2: Aplicación de la Función de Extracción**"
      ],
      "metadata": {
        "id": "Tokp7TaBjcKg"
      }
    },
    {
      "cell_type": "code",
      "source": [
        "df['Title'] = df['Name'].apply(extract_title)"
      ],
      "metadata": {
        "id": "5nOOAhr2jDQp"
      },
      "execution_count": null,
      "outputs": []
    },
    {
      "cell_type": "markdown",
      "source": [
        "**Paso 3: Mapeo y Normalización de Títulos**"
      ],
      "metadata": {
        "id": "42TDNpxijlcn"
      }
    },
    {
      "cell_type": "code",
      "source": [
        "df['Title'].unique()"
      ],
      "metadata": {
        "colab": {
          "base_uri": "https://localhost:8080/"
        },
        "id": "3OP2NfNJjxWP",
        "outputId": "4771ebcf-73ac-43f6-e796-d471e2dcbf0c"
      },
      "execution_count": null,
      "outputs": [
        {
          "output_type": "execute_result",
          "data": {
            "text/plain": [
              "array(['Mr', 'Mrs', 'Miss', 'Master', 'Don', 'Rev', 'Dr', 'Mme', 'Ms',\n",
              "       'Major', 'Lady', 'Sir', 'Mlle', 'Col', 'Capt', 'the Countess',\n",
              "       'Jonkheer'], dtype=object)"
            ]
          },
          "metadata": {},
          "execution_count": 1727
        }
      ]
    },
    {
      "cell_type": "code",
      "source": [
        "title_mapping = {\n",
        "    \"Mr\": \"Mr\",\n",
        "    \"Miss\" : \"Miss\",\n",
        "    \"Mrs\" : \"Mrs\",\n",
        "    \"Master\" : \"Master\",\n",
        "    \"Dr\" : \"Professional\",\n",
        "    \"Rev\" : \"Professional\",\n",
        "    \"Major\" : \"Military\",\n",
        "    \"Col\" : \"Military\",\n",
        "    \"Capt\" : \"Military\",\n",
        "    \"Jonkheer\" : \"Nobility\",\n",
        "    \"Sir\" : \"Nobility\",\n",
        "    \"Lady\" : \"Nobility\",\n",
        "    \"the Countess\" : \"Nobility\",\n",
        "    \"Don\" : \"Nobility\",\n",
        "    \"Dona\" : \"Nobility\",\n",
        "    \"Mme\" : \"Mrs\",\n",
        "    \"Mlle\" : \"Miss\",\n",
        "    \"Ms\" : \"Miss\"\n",
        "\n",
        "}"
      ],
      "metadata": {
        "id": "U0aYsPJ3jkq4"
      },
      "execution_count": null,
      "outputs": []
    },
    {
      "cell_type": "markdown",
      "source": [
        "**Paso 4: Aplicación del Mapeo a los Títulos**"
      ],
      "metadata": {
        "id": "khLK_A8VlQz0"
      }
    },
    {
      "cell_type": "code",
      "source": [
        "df['Title_Category'] = df['Title'].map(title_mapping)"
      ],
      "metadata": {
        "id": "P1ERGmHHlQG2"
      },
      "execution_count": null,
      "outputs": []
    },
    {
      "cell_type": "markdown",
      "source": [
        "**Paso 5: Eliminación de ['Name','Title']**"
      ],
      "metadata": {
        "id": "GOf_2C2-mmpr"
      }
    },
    {
      "cell_type": "code",
      "source": [
        "df.drop(['Name','Title'], axis = 1, inplace = True)"
      ],
      "metadata": {
        "id": "y3D1akuOlhjX"
      },
      "execution_count": null,
      "outputs": []
    },
    {
      "cell_type": "code",
      "source": [
        "num_records_by_title = df['Title_Category'].value_counts()\n",
        "\n",
        "num_records_by_title"
      ],
      "metadata": {
        "colab": {
          "base_uri": "https://localhost:8080/"
        },
        "id": "08BiGhqKmxu8",
        "outputId": "6b158257-4fa8-4a8c-cbbb-86389fdb2e3c"
      },
      "execution_count": null,
      "outputs": [
        {
          "output_type": "execute_result",
          "data": {
            "text/plain": [
              "Mr              517\n",
              "Miss            185\n",
              "Mrs             126\n",
              "Master           40\n",
              "Professional     13\n",
              "Nobility          5\n",
              "Military          5\n",
              "Name: Title_Category, dtype: int64"
            ]
          },
          "metadata": {},
          "execution_count": 1731
        }
      ]
    },
    {
      "cell_type": "markdown",
      "source": [
        "El step del data cleaning es el cajón de sastre donde corregiremos las particularidades del dataset más allá del ML preprocessing estandar. Por ejemplo:\n",
        "* Eliminar registros duplicados\n"
      ],
      "metadata": {
        "id": "rrXzCa-ATAjo"
      }
    },
    {
      "cell_type": "code",
      "source": [
        "df.duplicated().any() # No hay registros duplicados"
      ],
      "metadata": {
        "colab": {
          "base_uri": "https://localhost:8080/"
        },
        "id": "qGrgk2egdnU6",
        "outputId": "cb537bd9-3a19-4f76-85cc-fdf5ed15ed8d"
      },
      "execution_count": null,
      "outputs": [
        {
          "output_type": "execute_result",
          "data": {
            "text/plain": [
              "False"
            ]
          },
          "metadata": {},
          "execution_count": 1732
        }
      ]
    },
    {
      "cell_type": "markdown",
      "source": [
        "* Eliminar filas sin target informado\n"
      ],
      "metadata": {
        "id": "li67Ck9kdmMy"
      }
    },
    {
      "cell_type": "code",
      "source": [
        "df['Survived'].isnull().any() # No hay"
      ],
      "metadata": {
        "colab": {
          "base_uri": "https://localhost:8080/"
        },
        "id": "3tBXaDG9efbr",
        "outputId": "c3283416-ac2a-4d23-ceb2-811e8333d41f"
      },
      "execution_count": null,
      "outputs": [
        {
          "output_type": "execute_result",
          "data": {
            "text/plain": [
              "False"
            ]
          },
          "metadata": {},
          "execution_count": 1733
        }
      ]
    },
    {
      "cell_type": "markdown",
      "source": [
        "* Eliminar columnas irrelevantes\n"
      ],
      "metadata": {
        "id": "SHhisEtkeerS"
      }
    },
    {
      "cell_type": "code",
      "source": [
        "del(df['PassengerId'])"
      ],
      "metadata": {
        "id": "ClMJ8fKMesSq"
      },
      "execution_count": null,
      "outputs": []
    },
    {
      "cell_type": "markdown",
      "source": [
        "* Corregir erratas en literales\n"
      ],
      "metadata": {
        "id": "kku7vXlMerYg"
      }
    },
    {
      "cell_type": "markdown",
      "source": [
        "# **df['Ticket'] Tratamiento de la variable.**"
      ],
      "metadata": {
        "id": "dlQKgJmgsDSF"
      }
    },
    {
      "cell_type": "code",
      "source": [
        "df['Ticket'].unique()"
      ],
      "metadata": {
        "colab": {
          "base_uri": "https://localhost:8080/"
        },
        "id": "KdCBjBYMo9a5",
        "outputId": "8234173e-2989-4c8e-8291-e0233b9db736"
      },
      "execution_count": null,
      "outputs": [
        {
          "output_type": "execute_result",
          "data": {
            "text/plain": [
              "array(['A/5 21171', 'PC 17599', 'STON/O2. 3101282', '113803', '373450',\n",
              "       '330877', '17463', '349909', '347742', '237736', 'PP 9549',\n",
              "       '113783', 'A/5. 2151', '347082', '350406', '248706', '382652',\n",
              "       '244373', '345763', '2649', '239865', '248698', '330923', '113788',\n",
              "       '347077', '2631', '19950', '330959', '349216', 'PC 17601',\n",
              "       'PC 17569', '335677', 'C.A. 24579', 'PC 17604', '113789', '2677',\n",
              "       'A./5. 2152', '345764', '2651', '7546', '11668', '349253',\n",
              "       'SC/Paris 2123', '330958', 'S.C./A.4. 23567', '370371', '14311',\n",
              "       '2662', '349237', '3101295', 'A/4. 39886', 'PC 17572', '2926',\n",
              "       '113509', '19947', 'C.A. 31026', '2697', 'C.A. 34651', 'CA 2144',\n",
              "       '2669', '113572', '36973', '347088', 'PC 17605', '2661',\n",
              "       'C.A. 29395', 'S.P. 3464', '3101281', '315151', 'C.A. 33111',\n",
              "       'S.O.C. 14879', '2680', '1601', '348123', '349208', '374746',\n",
              "       '248738', '364516', '345767', '345779', '330932', '113059',\n",
              "       'SO/C 14885', '3101278', 'W./C. 6608', 'SOTON/OQ 392086', '343275',\n",
              "       '343276', '347466', 'W.E.P. 5734', 'C.A. 2315', '364500', '374910',\n",
              "       'PC 17754', 'PC 17759', '231919', '244367', '349245', '349215',\n",
              "       '35281', '7540', '3101276', '349207', '343120', '312991', '349249',\n",
              "       '371110', '110465', '2665', '324669', '4136', '2627',\n",
              "       'STON/O 2. 3101294', '370369', 'PC 17558', 'A4. 54510', '27267',\n",
              "       '370372', 'C 17369', '2668', '347061', '349241',\n",
              "       'SOTON/O.Q. 3101307', 'A/5. 3337', '228414', 'C.A. 29178',\n",
              "       'SC/PARIS 2133', '11752', '7534', 'PC 17593', '2678', '347081',\n",
              "       'STON/O2. 3101279', '365222', '231945', 'C.A. 33112', '350043',\n",
              "       '230080', '244310', 'S.O.P. 1166', '113776', 'A.5. 11206',\n",
              "       'A/5. 851', 'Fa 265302', 'PC 17597', '35851', 'SOTON/OQ 392090',\n",
              "       '315037', 'CA. 2343', '371362', 'C.A. 33595', '347068', '315093',\n",
              "       '363291', '113505', 'PC 17318', '111240', 'STON/O 2. 3101280',\n",
              "       '17764', '350404', '4133', 'PC 17595', '250653', 'LINE',\n",
              "       'SC/PARIS 2131', '230136', '315153', '113767', '370365', '111428',\n",
              "       '364849', '349247', '234604', '28424', '350046', 'PC 17610',\n",
              "       '368703', '4579', '370370', '248747', '345770', '3101264', '2628',\n",
              "       'A/5 3540', '347054', '2699', '367231', '112277',\n",
              "       'SOTON/O.Q. 3101311', 'F.C.C. 13528', 'A/5 21174', '250646',\n",
              "       '367229', '35273', 'STON/O2. 3101283', '243847', '11813',\n",
              "       'W/C 14208', 'SOTON/OQ 392089', '220367', '21440', '349234',\n",
              "       '19943', 'PP 4348', 'SW/PP 751', 'A/5 21173', '236171', '347067',\n",
              "       '237442', 'C.A. 29566', 'W./C. 6609', '26707', 'C.A. 31921',\n",
              "       '28665', 'SCO/W 1585', '367230', 'W./C. 14263',\n",
              "       'STON/O 2. 3101275', '2694', '19928', '347071', '250649', '11751',\n",
              "       '244252', '362316', '113514', 'A/5. 3336', '370129', '2650',\n",
              "       'PC 17585', '110152', 'PC 17755', '230433', '384461', '110413',\n",
              "       '112059', '382649', 'C.A. 17248', '347083', 'PC 17582', 'PC 17760',\n",
              "       '113798', '250644', 'PC 17596', '370375', '13502', '347073',\n",
              "       '239853', 'C.A. 2673', '336439', '347464', '345778', 'A/5. 10482',\n",
              "       '113056', '349239', '345774', '349206', '237798', '370373',\n",
              "       '19877', '11967', 'SC/Paris 2163', '349236', '349233', 'PC 17612',\n",
              "       '2693', '113781', '19988', '9234', '367226', '226593', 'A/5 2466',\n",
              "       '17421', 'PC 17758', 'P/PP 3381', 'PC 17485', '11767', 'PC 17608',\n",
              "       '250651', '349243', 'F.C.C. 13529', '347470', '29011', '36928',\n",
              "       '16966', 'A/5 21172', '349219', '234818', '345364', '28551',\n",
              "       '111361', '113043', 'PC 17611', '349225', '7598', '113784',\n",
              "       '248740', '244361', '229236', '248733', '31418', '386525',\n",
              "       'C.A. 37671', '315088', '7267', '113510', '2695', '2647', '345783',\n",
              "       '237671', '330931', '330980', 'SC/PARIS 2167', '2691',\n",
              "       'SOTON/O.Q. 3101310', 'C 7076', '110813', '2626', '14313',\n",
              "       'PC 17477', '11765', '3101267', '323951', 'C 7077', '113503',\n",
              "       '2648', '347069', 'PC 17757', '2653', 'STON/O 2. 3101293',\n",
              "       '349227', '27849', '367655', 'SC 1748', '113760', '350034',\n",
              "       '3101277', '350052', '350407', '28403', '244278', '240929',\n",
              "       'STON/O 2. 3101289', '341826', '4137', '315096', '28664', '347064',\n",
              "       '29106', '312992', '349222', '394140', 'STON/O 2. 3101269',\n",
              "       '343095', '28220', '250652', '28228', '345773', '349254',\n",
              "       'A/5. 13032', '315082', '347080', 'A/4. 34244', '2003', '250655',\n",
              "       '364851', 'SOTON/O.Q. 392078', '110564', '376564', 'SC/AH 3085',\n",
              "       'STON/O 2. 3101274', '13507', 'C.A. 18723', '345769', '347076',\n",
              "       '230434', '65306', '33638', '113794', '2666', '113786', '65303',\n",
              "       '113051', '17453', 'A/5 2817', '349240', '13509', '17464',\n",
              "       'F.C.C. 13531', '371060', '19952', '364506', '111320', '234360',\n",
              "       'A/S 2816', 'SOTON/O.Q. 3101306', '113792', '36209', '323592',\n",
              "       '315089', 'SC/AH Basle 541', '7553', '31027', '3460', '350060',\n",
              "       '3101298', '239854', 'A/5 3594', '4134', '11771', 'A.5. 18509',\n",
              "       '65304', 'SOTON/OQ 3101317', '113787', 'PC 17609', 'A/4 45380',\n",
              "       '36947', 'C.A. 6212', '350035', '315086', '364846', '330909',\n",
              "       '4135', '26360', '111427', 'C 4001', '382651', 'SOTON/OQ 3101316',\n",
              "       'PC 17473', 'PC 17603', '349209', '36967', 'C.A. 34260', '226875',\n",
              "       '349242', '12749', '349252', '2624', '2700', '367232',\n",
              "       'W./C. 14258', 'PC 17483', '3101296', '29104', '2641', '2690',\n",
              "       '315084', '113050', 'PC 17761', '364498', '13568', 'WE/P 5735',\n",
              "       '2908', '693', 'SC/PARIS 2146', '244358', '330979', '2620',\n",
              "       '347085', '113807', '11755', '345572', '372622', '349251',\n",
              "       '218629', 'SOTON/OQ 392082', 'SOTON/O.Q. 392087', 'A/4 48871',\n",
              "       '349205', '2686', '350417', 'S.W./PP 752', '11769', 'PC 17474',\n",
              "       '14312', 'A/4. 20589', '358585', '243880', '2689',\n",
              "       'STON/O 2. 3101286', '237789', '13049', '3411', '237565', '13567',\n",
              "       '14973', 'A./5. 3235', 'STON/O 2. 3101273', 'A/5 3902', '364848',\n",
              "       'SC/AH 29037', '248727', '2664', '349214', '113796', '364511',\n",
              "       '111426', '349910', '349246', '113804', 'SOTON/O.Q. 3101305',\n",
              "       '370377', '364512', '220845', '31028', '2659', '11753', '350029',\n",
              "       '54636', '36963', '219533', '349224', '334912', '27042', '347743',\n",
              "       '13214', '112052', '237668', 'STON/O 2. 3101292', '350050',\n",
              "       '349231', '13213', 'S.O./P.P. 751', 'CA. 2314', '349221', '8475',\n",
              "       '330919', '365226', '349223', '29751', '2623', '5727', '349210',\n",
              "       'STON/O 2. 3101285', '234686', '312993', 'A/5 3536', '19996',\n",
              "       '29750', 'F.C. 12750', 'C.A. 24580', '244270', '239856', '349912',\n",
              "       '342826', '4138', '330935', '6563', '349228', '350036', '24160',\n",
              "       '17474', '349256', '2672', '113800', '248731', '363592', '35852',\n",
              "       '348121', 'PC 17475', '36864', '350025', '223596', 'PC 17476',\n",
              "       'PC 17482', '113028', '7545', '250647', '348124', '34218', '36568',\n",
              "       '347062', '350048', '12233', '250643', '113806', '315094', '36866',\n",
              "       '236853', 'STON/O2. 3101271', '239855', '28425', '233639',\n",
              "       '349201', '349218', '16988', '376566', 'STON/O 2. 3101288',\n",
              "       '250648', '113773', '335097', '29103', '392096', '345780',\n",
              "       '349204', '350042', '29108', '363294', 'SOTON/O2 3101272', '2663',\n",
              "       '347074', '112379', '364850', '8471', '345781', '350047',\n",
              "       'S.O./P.P. 3', '2674', '29105', '347078', '383121', '36865',\n",
              "       '2687', '113501', 'W./C. 6607', 'SOTON/O.Q. 3101312', '374887',\n",
              "       '3101265', '12460', 'PC 17600', '349203', '28213', '17465',\n",
              "       '349244', '2685', '2625', '347089', '347063', '112050', '347087',\n",
              "       '248723', '3474', '28206', '364499', '112058', 'STON/O2. 3101290',\n",
              "       'S.C./PARIS 2079', 'C 7075', '315098', '19972', '368323', '367228',\n",
              "       '2671', '347468', '2223', 'PC 17756', '315097', '392092', '11774',\n",
              "       'SOTON/O2 3101287', '2683', '315090', 'C.A. 5547', '349213',\n",
              "       '347060', 'PC 17592', '392091', '113055', '2629', '350026',\n",
              "       '28134', '17466', '233866', '236852', 'SC/PARIS 2149', 'PC 17590',\n",
              "       '345777', '349248', '695', '345765', '2667', '349212', '349217',\n",
              "       '349257', '7552', 'C.A./SOTON 34068', 'SOTON/OQ 392076', '211536',\n",
              "       '112053', '111369', '370376'], dtype=object)"
            ]
          },
          "metadata": {},
          "execution_count": 1735
        }
      ]
    },
    {
      "cell_type": "markdown",
      "source": [
        "Tras analizar los prefijos de los tickets, hemos encontrado lo siguiente:\n",
        "\n",
        "- La mayoría de los tickets son puramente numéricos\n",
        "- Hay varios prefijos recurrentes como PC, CA, A5, entre otros\n",
        "- Algunos prefijos aparecen en formatos ligeramente variados pero posiblemente refiriéndose a la misma categoría (por ejemplo, SC/PARIS vs. SC/Paris).\n",
        "\n"
      ],
      "metadata": {
        "id": "4J9rvDfAsVy0"
      }
    },
    {
      "cell_type": "code",
      "source": [
        "def extract_ticket_prefix(ticket):\n",
        "\n",
        "  if ticket.isdigit():\n",
        "    return 'NUMERIC'\n",
        "  else:\n",
        "    return ticket.replace('.','').replace('/','').split()[0].upper()"
      ],
      "metadata": {
        "id": "IGwfOa_dr6f2"
      },
      "execution_count": null,
      "outputs": []
    },
    {
      "cell_type": "code",
      "source": [
        "df['Ticket_Prefix'] = df['Ticket'].apply(extract_ticket_prefix)"
      ],
      "metadata": {
        "id": "DnBWDd2NuOGe"
      },
      "execution_count": null,
      "outputs": []
    },
    {
      "cell_type": "code",
      "source": [
        "def normalize_and_group_prefix(prefix):\n",
        "  if 'STONO' in prefix:\n",
        "    return 'STONO'\n",
        "  elif 'SC' in prefix:\n",
        "    return 'SC'\n",
        "  elif 'C' in prefix and len(prefix) < 3:\n",
        "    return 'C'\n",
        "  common_prefixes = ['NUMERIC', 'PC', 'CA', 'A5', 'SQTONOQ', 'STONO', 'WC', 'SC', 'C']\n",
        "  if prefix in common_prefixes:\n",
        "    return prefix\n",
        "  else:\n",
        "    return 'OTHER'"
      ],
      "metadata": {
        "id": "Dg_3xhWPucE7"
      },
      "execution_count": null,
      "outputs": []
    },
    {
      "cell_type": "code",
      "source": [
        "df['Ticket_Prefix_Grouped'] = df['Ticket_Prefix'].apply(normalize_and_group_prefix)"
      ],
      "metadata": {
        "id": "dbpY-CSnu9-q"
      },
      "execution_count": null,
      "outputs": []
    },
    {
      "cell_type": "code",
      "source": [
        "df['Ticket_Prefix_Grouped'].value_counts()"
      ],
      "metadata": {
        "colab": {
          "base_uri": "https://localhost:8080/"
        },
        "id": "mri5PIFOv-Ea",
        "outputId": "374b27b8-41a6-4f89-e7e6-a45961816adb"
      },
      "execution_count": null,
      "outputs": [
        {
          "output_type": "execute_result",
          "data": {
            "text/plain": [
              "NUMERIC    661\n",
              "C          117\n",
              "OTHER       57\n",
              "A5          21\n",
              "STONO       18\n",
              "SC          17\n",
              "Name: Ticket_Prefix_Grouped, dtype: int64"
            ]
          },
          "metadata": {},
          "execution_count": 1740
        }
      ]
    },
    {
      "cell_type": "code",
      "source": [
        "df.drop(['Ticket_Prefix', 'Ticket'], axis = 1, inplace = True)"
      ],
      "metadata": {
        "id": "-4VS-PkGwQfL"
      },
      "execution_count": null,
      "outputs": []
    },
    {
      "cell_type": "markdown",
      "source": [
        "# **df['Cabin'] Tratamiento de la variable.**"
      ],
      "metadata": {
        "id": "GEOf5T6nxVGL"
      }
    },
    {
      "cell_type": "code",
      "source": [
        "for column_name in df:\n",
        "  if df[column_name].isnull().sum()>=1:\n",
        "    print(\"Faltan:\", df[column_name].isnull().sum(), f\"valores para {column_name}\")"
      ],
      "metadata": {
        "colab": {
          "base_uri": "https://localhost:8080/"
        },
        "id": "HPiASCDNxeX6",
        "outputId": "11159c74-58db-4b05-cbde-502588600939"
      },
      "execution_count": null,
      "outputs": [
        {
          "output_type": "stream",
          "name": "stdout",
          "text": [
            "Faltan: 177 valores para Age\n",
            "Faltan: 687 valores para Cabin\n",
            "Faltan: 2 valores para Embarked\n"
          ]
        }
      ]
    },
    {
      "cell_type": "code",
      "source": [
        "df['Cabin'].fillna('Unknown', inplace = True)"
      ],
      "metadata": {
        "id": "8G5QxeIdxhAj"
      },
      "execution_count": null,
      "outputs": []
    },
    {
      "cell_type": "code",
      "source": [
        "def process_cabin(cabin_value):\n",
        "  if cabin_value == 'Unknown' or cabin_value[0] == 'T':\n",
        "    return 'Unknown'\n",
        "  else:\n",
        "    return cabin_value.split()[0][0]"
      ],
      "metadata": {
        "id": "8Ow3DSSsySGB"
      },
      "execution_count": null,
      "outputs": []
    },
    {
      "cell_type": "code",
      "source": [
        "df['Cabin_Reduced'] = df['Cabin'].apply(process_cabin)"
      ],
      "metadata": {
        "id": "uMntjR7e41d4"
      },
      "execution_count": null,
      "outputs": []
    },
    {
      "cell_type": "code",
      "source": [
        "df['Cabin_Reduced'].value_counts()"
      ],
      "metadata": {
        "colab": {
          "base_uri": "https://localhost:8080/"
        },
        "id": "jZKzPDbvzYZz",
        "outputId": "170811ec-dfa9-4f02-8add-b223834d3fd0"
      },
      "execution_count": null,
      "outputs": [
        {
          "output_type": "execute_result",
          "data": {
            "text/plain": [
              "Unknown    688\n",
              "C           59\n",
              "B           47\n",
              "D           33\n",
              "E           32\n",
              "A           15\n",
              "F           13\n",
              "G            4\n",
              "Name: Cabin_Reduced, dtype: int64"
            ]
          },
          "metadata": {},
          "execution_count": 1746
        }
      ]
    },
    {
      "cell_type": "markdown",
      "source": [
        "* Corregir data types"
      ],
      "metadata": {
        "id": "TUwREkxno5jO"
      }
    },
    {
      "cell_type": "code",
      "source": [
        "df.info()"
      ],
      "metadata": {
        "colab": {
          "base_uri": "https://localhost:8080/"
        },
        "id": "YbMMXbRao3qm",
        "outputId": "2dcfb1ee-c738-4396-a4f6-cc28406e0514"
      },
      "execution_count": null,
      "outputs": [
        {
          "output_type": "stream",
          "name": "stdout",
          "text": [
            "<class 'pandas.core.frame.DataFrame'>\n",
            "RangeIndex: 891 entries, 0 to 890\n",
            "Data columns (total 12 columns):\n",
            " #   Column                 Non-Null Count  Dtype  \n",
            "---  ------                 --------------  -----  \n",
            " 0   Survived               891 non-null    int64  \n",
            " 1   Pclass                 891 non-null    int64  \n",
            " 2   Sex                    891 non-null    object \n",
            " 3   Age                    714 non-null    float64\n",
            " 4   SibSp                  891 non-null    int64  \n",
            " 5   Parch                  891 non-null    int64  \n",
            " 6   Fare                   891 non-null    float64\n",
            " 7   Cabin                  891 non-null    object \n",
            " 8   Embarked               889 non-null    object \n",
            " 9   Title_Category         891 non-null    object \n",
            " 10  Ticket_Prefix_Grouped  891 non-null    object \n",
            " 11  Cabin_Reduced          891 non-null    object \n",
            "dtypes: float64(2), int64(4), object(6)\n",
            "memory usage: 83.7+ KB\n"
          ]
        }
      ]
    },
    {
      "cell_type": "code",
      "source": [
        "df['Pclass'] = df['Pclass'].astype('category')\n",
        "df['Pclass'] = df['Pclass'].replace({1: \"1ª clase\", 2: \"2ª clase\", 3: \"3ª clase\"})"
      ],
      "metadata": {
        "id": "cGoTTy-jAgRo"
      },
      "execution_count": null,
      "outputs": []
    },
    {
      "cell_type": "code",
      "source": [
        "df['Sex'] = df['Sex'].astype('category')"
      ],
      "metadata": {
        "id": "CUiIB74w99E-"
      },
      "execution_count": null,
      "outputs": []
    },
    {
      "cell_type": "code",
      "source": [
        "df['SibSp'] = df['SibSp'].astype('int8')"
      ],
      "metadata": {
        "id": "5DRGE4dTCQQ0"
      },
      "execution_count": null,
      "outputs": []
    },
    {
      "cell_type": "code",
      "source": [
        "df['Parch'] = df['Parch'].astype('int8')"
      ],
      "metadata": {
        "id": "DajfmewQ9V7q"
      },
      "execution_count": null,
      "outputs": []
    },
    {
      "cell_type": "code",
      "source": [
        "df['Fare'] = df['Fare'].astype('float32')"
      ],
      "metadata": {
        "id": "rlyQF5zg-Xjj"
      },
      "execution_count": null,
      "outputs": []
    },
    {
      "cell_type": "code",
      "source": [
        "del(df['Cabin'])"
      ],
      "metadata": {
        "id": "8O6d3doy9V-R"
      },
      "execution_count": null,
      "outputs": []
    },
    {
      "cell_type": "code",
      "source": [
        "df['Title_Category'] = df['Title_Category'].astype('category')"
      ],
      "metadata": {
        "id": "Obo1ODXv9WAs"
      },
      "execution_count": null,
      "outputs": []
    },
    {
      "cell_type": "code",
      "source": [
        "df['Ticket_Prefix_Grouped'] = df['Ticket_Prefix_Grouped'].astype('category')"
      ],
      "metadata": {
        "id": "JVzByWTM9WDJ"
      },
      "execution_count": null,
      "outputs": []
    },
    {
      "cell_type": "code",
      "source": [
        "df['Cabin_Reduced'] = df['Cabin_Reduced'].astype('category')"
      ],
      "metadata": {
        "id": "dgvFWGGO_AqF"
      },
      "execution_count": null,
      "outputs": []
    },
    {
      "cell_type": "code",
      "source": [
        "df.info()"
      ],
      "metadata": {
        "colab": {
          "base_uri": "https://localhost:8080/"
        },
        "id": "_uya2sRhEU5f",
        "outputId": "1fb8ce9f-fb6f-42a1-ab61-7003fb6061ef"
      },
      "execution_count": null,
      "outputs": [
        {
          "output_type": "stream",
          "name": "stdout",
          "text": [
            "<class 'pandas.core.frame.DataFrame'>\n",
            "RangeIndex: 891 entries, 0 to 890\n",
            "Data columns (total 11 columns):\n",
            " #   Column                 Non-Null Count  Dtype   \n",
            "---  ------                 --------------  -----   \n",
            " 0   Survived               891 non-null    int64   \n",
            " 1   Pclass                 891 non-null    category\n",
            " 2   Sex                    891 non-null    category\n",
            " 3   Age                    714 non-null    float64 \n",
            " 4   SibSp                  891 non-null    int8    \n",
            " 5   Parch                  891 non-null    int8    \n",
            " 6   Fare                   891 non-null    float32 \n",
            " 7   Embarked               889 non-null    object  \n",
            " 8   Title_Category         891 non-null    category\n",
            " 9   Ticket_Prefix_Grouped  891 non-null    category\n",
            " 10  Cabin_Reduced          891 non-null    category\n",
            "dtypes: category(5), float32(1), float64(1), int64(1), int8(2), object(1)\n",
            "memory usage: 31.7+ KB\n"
          ]
        }
      ]
    },
    {
      "cell_type": "code",
      "source": [
        "..."
      ],
      "metadata": {
        "id": "wTYbaGs9UHWp",
        "colab": {
          "base_uri": "https://localhost:8080/"
        },
        "outputId": "69aef2ac-a52c-424a-9e47-5c59dd858fe2"
      },
      "execution_count": null,
      "outputs": [
        {
          "output_type": "execute_result",
          "data": {
            "text/plain": [
              "Ellipsis"
            ]
          },
          "metadata": {},
          "execution_count": 1758
        }
      ]
    },
    {
      "cell_type": "markdown",
      "source": [
        "## Imputar valores en nulos"
      ],
      "metadata": {
        "id": "lAyuU9TZYzDR"
      }
    },
    {
      "cell_type": "markdown",
      "source": [
        "Algunas de las estrategias mas comunes:\n",
        "* Imputar valor outlier (-999, 'Unknown')\n",
        "* Imputar media en numericos\n",
        "* Imputar moda en categoricos\n",
        "* Imputar 0"
      ],
      "metadata": {
        "id": "gIjYU6c6c8iu"
      }
    },
    {
      "cell_type": "code",
      "source": [
        "df['Age'].fillna(-999,inplace=True)"
      ],
      "metadata": {
        "id": "LH7UkFdNEjeX"
      },
      "execution_count": null,
      "outputs": []
    },
    {
      "cell_type": "code",
      "source": [
        "df['Age'] = df['Age'].astype('float32')"
      ],
      "metadata": {
        "id": "HaEwTnx7Eu-T"
      },
      "execution_count": null,
      "outputs": []
    },
    {
      "cell_type": "code",
      "source": [
        "df['Embarked'] = df['Embarked'].replace({'C' : 'Cherbourg', 'Q': 'Queenstown', 'S' : 'Southampton'})"
      ],
      "metadata": {
        "id": "01wYl0gOFlzU"
      },
      "execution_count": null,
      "outputs": []
    },
    {
      "cell_type": "code",
      "source": [
        "df['Embarked'].fillna('Unknown', inplace = True)"
      ],
      "metadata": {
        "id": "ytqJq4cWGFrG"
      },
      "execution_count": null,
      "outputs": []
    },
    {
      "cell_type": "code",
      "source": [
        "df['Embarked'].value_counts()"
      ],
      "metadata": {
        "colab": {
          "base_uri": "https://localhost:8080/"
        },
        "id": "bY0Zh6rAGP4i",
        "outputId": "6e6a9149-abff-4a30-b12a-0ab691a9532d"
      },
      "execution_count": null,
      "outputs": [
        {
          "output_type": "execute_result",
          "data": {
            "text/plain": [
              "Southampton    644\n",
              "Cherbourg      168\n",
              "Queenstown      77\n",
              "Unknown          2\n",
              "Name: Embarked, dtype: int64"
            ]
          },
          "metadata": {},
          "execution_count": 1763
        }
      ]
    },
    {
      "cell_type": "code",
      "source": [
        "df['Embarked'] = df['Embarked'].astype('category')"
      ],
      "metadata": {
        "id": "uYMXbjnbGY1H"
      },
      "execution_count": null,
      "outputs": []
    },
    {
      "cell_type": "code",
      "source": [
        "df.isnull().any()"
      ],
      "metadata": {
        "colab": {
          "base_uri": "https://localhost:8080/"
        },
        "id": "FZBbA6p7Gldw",
        "outputId": "4c3be243-262c-4cef-caeb-ca9a1c74e3e3"
      },
      "execution_count": null,
      "outputs": [
        {
          "output_type": "execute_result",
          "data": {
            "text/plain": [
              "Survived                 False\n",
              "Pclass                   False\n",
              "Sex                      False\n",
              "Age                      False\n",
              "SibSp                    False\n",
              "Parch                    False\n",
              "Fare                     False\n",
              "Embarked                 False\n",
              "Title_Category           False\n",
              "Ticket_Prefix_Grouped    False\n",
              "Cabin_Reduced            False\n",
              "dtype: bool"
            ]
          },
          "metadata": {},
          "execution_count": 1765
        }
      ]
    },
    {
      "cell_type": "code",
      "source": [
        "..."
      ],
      "metadata": {
        "id": "FZT9yKG5lXz-",
        "colab": {
          "base_uri": "https://localhost:8080/"
        },
        "outputId": "cf1fd587-a88b-4d37-e521-fb2eb4e9ec9e"
      },
      "execution_count": null,
      "outputs": [
        {
          "output_type": "execute_result",
          "data": {
            "text/plain": [
              "Ellipsis"
            ]
          },
          "metadata": {},
          "execution_count": 1766
        }
      ]
    },
    {
      "cell_type": "markdown",
      "source": [
        "## Encoding categoricos"
      ],
      "metadata": {
        "id": "nt3j3bDHbj5O"
      }
    },
    {
      "cell_type": "markdown",
      "source": [
        "3 opciones:\n",
        "* Si tienen un sentido ordinal -> convertir a numerico.\n",
        "* Si tienen un sentido cardinal:\n",
        "  * 2 posibles categorias -> indicador booleano\n",
        "  * más de 2 categorias -> One-Hot-Encoding"
      ],
      "metadata": {
        "id": "Z_sm18tp7nEb"
      }
    },
    {
      "cell_type": "code",
      "source": [
        "encoder = OrdinalEncoder(categories=[['1ª clase', '2ª clase', '3ª clase']])\n",
        "df['Pclass'] = encoder.fit_transform(df[['Pclass']])\n",
        "# '3ª clase' == 2.0, '2ª clase' == 1.0, '1ª clase' == 0.0"
      ],
      "metadata": {
        "id": "mI2yGnEyJrxO"
      },
      "execution_count": null,
      "outputs": []
    },
    {
      "cell_type": "code",
      "source": [
        "df = pd.get_dummies(df, columns=['Sex', 'Title_Category', 'Cabin_Reduced', 'Ticket_Prefix_Grouped', 'Embarked'])\n"
      ],
      "metadata": {
        "id": "g9U4qLIw5Vg1"
      },
      "execution_count": null,
      "outputs": []
    },
    {
      "cell_type": "code",
      "source": [
        "df.head(10)"
      ],
      "metadata": {
        "colab": {
          "base_uri": "https://localhost:8080/",
          "height": 412
        },
        "id": "ZuNRk3WsUWvI",
        "outputId": "db246c39-b2e5-467c-9c9a-fdd1a0e78969"
      },
      "execution_count": null,
      "outputs": [
        {
          "output_type": "execute_result",
          "data": {
            "text/plain": [
              "   Survived  Pclass    Age  SibSp  Parch       Fare  Sex_female  Sex_male  \\\n",
              "0         0     2.0   22.0      1      0   7.250000           0         1   \n",
              "1         1     0.0   38.0      1      0  71.283302           1         0   \n",
              "2         1     2.0   26.0      0      0   7.925000           1         0   \n",
              "3         1     0.0   35.0      1      0  53.099998           1         0   \n",
              "4         0     2.0   35.0      0      0   8.050000           0         1   \n",
              "5         0     2.0 -999.0      0      0   8.458300           0         1   \n",
              "6         0     0.0   54.0      0      0  51.862499           0         1   \n",
              "7         0     2.0    2.0      3      1  21.075001           0         1   \n",
              "8         1     2.0   27.0      0      2  11.133300           1         0   \n",
              "9         1     1.0   14.0      1      0  30.070801           1         0   \n",
              "\n",
              "   Title_Category_Master  Title_Category_Military  ...  \\\n",
              "0                      0                        0  ...   \n",
              "1                      0                        0  ...   \n",
              "2                      0                        0  ...   \n",
              "3                      0                        0  ...   \n",
              "4                      0                        0  ...   \n",
              "5                      0                        0  ...   \n",
              "6                      0                        0  ...   \n",
              "7                      1                        0  ...   \n",
              "8                      0                        0  ...   \n",
              "9                      0                        0  ...   \n",
              "\n",
              "   Ticket_Prefix_Grouped_A5  Ticket_Prefix_Grouped_C  \\\n",
              "0                         1                        0   \n",
              "1                         0                        1   \n",
              "2                         0                        0   \n",
              "3                         0                        0   \n",
              "4                         0                        0   \n",
              "5                         0                        0   \n",
              "6                         0                        0   \n",
              "7                         0                        0   \n",
              "8                         0                        0   \n",
              "9                         0                        0   \n",
              "\n",
              "   Ticket_Prefix_Grouped_NUMERIC  Ticket_Prefix_Grouped_OTHER  \\\n",
              "0                              0                            0   \n",
              "1                              0                            0   \n",
              "2                              0                            0   \n",
              "3                              1                            0   \n",
              "4                              1                            0   \n",
              "5                              1                            0   \n",
              "6                              1                            0   \n",
              "7                              1                            0   \n",
              "8                              1                            0   \n",
              "9                              1                            0   \n",
              "\n",
              "   Ticket_Prefix_Grouped_SC  Ticket_Prefix_Grouped_STONO  Embarked_Cherbourg  \\\n",
              "0                         0                            0                   0   \n",
              "1                         0                            0                   1   \n",
              "2                         0                            1                   0   \n",
              "3                         0                            0                   0   \n",
              "4                         0                            0                   0   \n",
              "5                         0                            0                   0   \n",
              "6                         0                            0                   0   \n",
              "7                         0                            0                   0   \n",
              "8                         0                            0                   0   \n",
              "9                         0                            0                   1   \n",
              "\n",
              "   Embarked_Queenstown  Embarked_Southampton  Embarked_Unknown  \n",
              "0                    0                     1                 0  \n",
              "1                    0                     0                 0  \n",
              "2                    0                     1                 0  \n",
              "3                    0                     1                 0  \n",
              "4                    0                     1                 0  \n",
              "5                    1                     0                 0  \n",
              "6                    0                     1                 0  \n",
              "7                    0                     1                 0  \n",
              "8                    0                     1                 0  \n",
              "9                    0                     0                 0  \n",
              "\n",
              "[10 rows x 33 columns]"
            ],
            "text/html": [
              "\n",
              "  <div id=\"df-aa1bf86b-7f2d-4f83-b67a-e1fdb2ba09ce\" class=\"colab-df-container\">\n",
              "    <div>\n",
              "<style scoped>\n",
              "    .dataframe tbody tr th:only-of-type {\n",
              "        vertical-align: middle;\n",
              "    }\n",
              "\n",
              "    .dataframe tbody tr th {\n",
              "        vertical-align: top;\n",
              "    }\n",
              "\n",
              "    .dataframe thead th {\n",
              "        text-align: right;\n",
              "    }\n",
              "</style>\n",
              "<table border=\"1\" class=\"dataframe\">\n",
              "  <thead>\n",
              "    <tr style=\"text-align: right;\">\n",
              "      <th></th>\n",
              "      <th>Survived</th>\n",
              "      <th>Pclass</th>\n",
              "      <th>Age</th>\n",
              "      <th>SibSp</th>\n",
              "      <th>Parch</th>\n",
              "      <th>Fare</th>\n",
              "      <th>Sex_female</th>\n",
              "      <th>Sex_male</th>\n",
              "      <th>Title_Category_Master</th>\n",
              "      <th>Title_Category_Military</th>\n",
              "      <th>...</th>\n",
              "      <th>Ticket_Prefix_Grouped_A5</th>\n",
              "      <th>Ticket_Prefix_Grouped_C</th>\n",
              "      <th>Ticket_Prefix_Grouped_NUMERIC</th>\n",
              "      <th>Ticket_Prefix_Grouped_OTHER</th>\n",
              "      <th>Ticket_Prefix_Grouped_SC</th>\n",
              "      <th>Ticket_Prefix_Grouped_STONO</th>\n",
              "      <th>Embarked_Cherbourg</th>\n",
              "      <th>Embarked_Queenstown</th>\n",
              "      <th>Embarked_Southampton</th>\n",
              "      <th>Embarked_Unknown</th>\n",
              "    </tr>\n",
              "  </thead>\n",
              "  <tbody>\n",
              "    <tr>\n",
              "      <th>0</th>\n",
              "      <td>0</td>\n",
              "      <td>2.0</td>\n",
              "      <td>22.0</td>\n",
              "      <td>1</td>\n",
              "      <td>0</td>\n",
              "      <td>7.250000</td>\n",
              "      <td>0</td>\n",
              "      <td>1</td>\n",
              "      <td>0</td>\n",
              "      <td>0</td>\n",
              "      <td>...</td>\n",
              "      <td>1</td>\n",
              "      <td>0</td>\n",
              "      <td>0</td>\n",
              "      <td>0</td>\n",
              "      <td>0</td>\n",
              "      <td>0</td>\n",
              "      <td>0</td>\n",
              "      <td>0</td>\n",
              "      <td>1</td>\n",
              "      <td>0</td>\n",
              "    </tr>\n",
              "    <tr>\n",
              "      <th>1</th>\n",
              "      <td>1</td>\n",
              "      <td>0.0</td>\n",
              "      <td>38.0</td>\n",
              "      <td>1</td>\n",
              "      <td>0</td>\n",
              "      <td>71.283302</td>\n",
              "      <td>1</td>\n",
              "      <td>0</td>\n",
              "      <td>0</td>\n",
              "      <td>0</td>\n",
              "      <td>...</td>\n",
              "      <td>0</td>\n",
              "      <td>1</td>\n",
              "      <td>0</td>\n",
              "      <td>0</td>\n",
              "      <td>0</td>\n",
              "      <td>0</td>\n",
              "      <td>1</td>\n",
              "      <td>0</td>\n",
              "      <td>0</td>\n",
              "      <td>0</td>\n",
              "    </tr>\n",
              "    <tr>\n",
              "      <th>2</th>\n",
              "      <td>1</td>\n",
              "      <td>2.0</td>\n",
              "      <td>26.0</td>\n",
              "      <td>0</td>\n",
              "      <td>0</td>\n",
              "      <td>7.925000</td>\n",
              "      <td>1</td>\n",
              "      <td>0</td>\n",
              "      <td>0</td>\n",
              "      <td>0</td>\n",
              "      <td>...</td>\n",
              "      <td>0</td>\n",
              "      <td>0</td>\n",
              "      <td>0</td>\n",
              "      <td>0</td>\n",
              "      <td>0</td>\n",
              "      <td>1</td>\n",
              "      <td>0</td>\n",
              "      <td>0</td>\n",
              "      <td>1</td>\n",
              "      <td>0</td>\n",
              "    </tr>\n",
              "    <tr>\n",
              "      <th>3</th>\n",
              "      <td>1</td>\n",
              "      <td>0.0</td>\n",
              "      <td>35.0</td>\n",
              "      <td>1</td>\n",
              "      <td>0</td>\n",
              "      <td>53.099998</td>\n",
              "      <td>1</td>\n",
              "      <td>0</td>\n",
              "      <td>0</td>\n",
              "      <td>0</td>\n",
              "      <td>...</td>\n",
              "      <td>0</td>\n",
              "      <td>0</td>\n",
              "      <td>1</td>\n",
              "      <td>0</td>\n",
              "      <td>0</td>\n",
              "      <td>0</td>\n",
              "      <td>0</td>\n",
              "      <td>0</td>\n",
              "      <td>1</td>\n",
              "      <td>0</td>\n",
              "    </tr>\n",
              "    <tr>\n",
              "      <th>4</th>\n",
              "      <td>0</td>\n",
              "      <td>2.0</td>\n",
              "      <td>35.0</td>\n",
              "      <td>0</td>\n",
              "      <td>0</td>\n",
              "      <td>8.050000</td>\n",
              "      <td>0</td>\n",
              "      <td>1</td>\n",
              "      <td>0</td>\n",
              "      <td>0</td>\n",
              "      <td>...</td>\n",
              "      <td>0</td>\n",
              "      <td>0</td>\n",
              "      <td>1</td>\n",
              "      <td>0</td>\n",
              "      <td>0</td>\n",
              "      <td>0</td>\n",
              "      <td>0</td>\n",
              "      <td>0</td>\n",
              "      <td>1</td>\n",
              "      <td>0</td>\n",
              "    </tr>\n",
              "    <tr>\n",
              "      <th>5</th>\n",
              "      <td>0</td>\n",
              "      <td>2.0</td>\n",
              "      <td>-999.0</td>\n",
              "      <td>0</td>\n",
              "      <td>0</td>\n",
              "      <td>8.458300</td>\n",
              "      <td>0</td>\n",
              "      <td>1</td>\n",
              "      <td>0</td>\n",
              "      <td>0</td>\n",
              "      <td>...</td>\n",
              "      <td>0</td>\n",
              "      <td>0</td>\n",
              "      <td>1</td>\n",
              "      <td>0</td>\n",
              "      <td>0</td>\n",
              "      <td>0</td>\n",
              "      <td>0</td>\n",
              "      <td>1</td>\n",
              "      <td>0</td>\n",
              "      <td>0</td>\n",
              "    </tr>\n",
              "    <tr>\n",
              "      <th>6</th>\n",
              "      <td>0</td>\n",
              "      <td>0.0</td>\n",
              "      <td>54.0</td>\n",
              "      <td>0</td>\n",
              "      <td>0</td>\n",
              "      <td>51.862499</td>\n",
              "      <td>0</td>\n",
              "      <td>1</td>\n",
              "      <td>0</td>\n",
              "      <td>0</td>\n",
              "      <td>...</td>\n",
              "      <td>0</td>\n",
              "      <td>0</td>\n",
              "      <td>1</td>\n",
              "      <td>0</td>\n",
              "      <td>0</td>\n",
              "      <td>0</td>\n",
              "      <td>0</td>\n",
              "      <td>0</td>\n",
              "      <td>1</td>\n",
              "      <td>0</td>\n",
              "    </tr>\n",
              "    <tr>\n",
              "      <th>7</th>\n",
              "      <td>0</td>\n",
              "      <td>2.0</td>\n",
              "      <td>2.0</td>\n",
              "      <td>3</td>\n",
              "      <td>1</td>\n",
              "      <td>21.075001</td>\n",
              "      <td>0</td>\n",
              "      <td>1</td>\n",
              "      <td>1</td>\n",
              "      <td>0</td>\n",
              "      <td>...</td>\n",
              "      <td>0</td>\n",
              "      <td>0</td>\n",
              "      <td>1</td>\n",
              "      <td>0</td>\n",
              "      <td>0</td>\n",
              "      <td>0</td>\n",
              "      <td>0</td>\n",
              "      <td>0</td>\n",
              "      <td>1</td>\n",
              "      <td>0</td>\n",
              "    </tr>\n",
              "    <tr>\n",
              "      <th>8</th>\n",
              "      <td>1</td>\n",
              "      <td>2.0</td>\n",
              "      <td>27.0</td>\n",
              "      <td>0</td>\n",
              "      <td>2</td>\n",
              "      <td>11.133300</td>\n",
              "      <td>1</td>\n",
              "      <td>0</td>\n",
              "      <td>0</td>\n",
              "      <td>0</td>\n",
              "      <td>...</td>\n",
              "      <td>0</td>\n",
              "      <td>0</td>\n",
              "      <td>1</td>\n",
              "      <td>0</td>\n",
              "      <td>0</td>\n",
              "      <td>0</td>\n",
              "      <td>0</td>\n",
              "      <td>0</td>\n",
              "      <td>1</td>\n",
              "      <td>0</td>\n",
              "    </tr>\n",
              "    <tr>\n",
              "      <th>9</th>\n",
              "      <td>1</td>\n",
              "      <td>1.0</td>\n",
              "      <td>14.0</td>\n",
              "      <td>1</td>\n",
              "      <td>0</td>\n",
              "      <td>30.070801</td>\n",
              "      <td>1</td>\n",
              "      <td>0</td>\n",
              "      <td>0</td>\n",
              "      <td>0</td>\n",
              "      <td>...</td>\n",
              "      <td>0</td>\n",
              "      <td>0</td>\n",
              "      <td>1</td>\n",
              "      <td>0</td>\n",
              "      <td>0</td>\n",
              "      <td>0</td>\n",
              "      <td>1</td>\n",
              "      <td>0</td>\n",
              "      <td>0</td>\n",
              "      <td>0</td>\n",
              "    </tr>\n",
              "  </tbody>\n",
              "</table>\n",
              "<p>10 rows × 33 columns</p>\n",
              "</div>\n",
              "    <div class=\"colab-df-buttons\">\n",
              "\n",
              "  <div class=\"colab-df-container\">\n",
              "    <button class=\"colab-df-convert\" onclick=\"convertToInteractive('df-aa1bf86b-7f2d-4f83-b67a-e1fdb2ba09ce')\"\n",
              "            title=\"Convert this dataframe to an interactive table.\"\n",
              "            style=\"display:none;\">\n",
              "\n",
              "  <svg xmlns=\"http://www.w3.org/2000/svg\" height=\"24px\" viewBox=\"0 -960 960 960\">\n",
              "    <path d=\"M120-120v-720h720v720H120Zm60-500h600v-160H180v160Zm220 220h160v-160H400v160Zm0 220h160v-160H400v160ZM180-400h160v-160H180v160Zm440 0h160v-160H620v160ZM180-180h160v-160H180v160Zm440 0h160v-160H620v160Z\"/>\n",
              "  </svg>\n",
              "    </button>\n",
              "\n",
              "  <style>\n",
              "    .colab-df-container {\n",
              "      display:flex;\n",
              "      gap: 12px;\n",
              "    }\n",
              "\n",
              "    .colab-df-convert {\n",
              "      background-color: #E8F0FE;\n",
              "      border: none;\n",
              "      border-radius: 50%;\n",
              "      cursor: pointer;\n",
              "      display: none;\n",
              "      fill: #1967D2;\n",
              "      height: 32px;\n",
              "      padding: 0 0 0 0;\n",
              "      width: 32px;\n",
              "    }\n",
              "\n",
              "    .colab-df-convert:hover {\n",
              "      background-color: #E2EBFA;\n",
              "      box-shadow: 0px 1px 2px rgba(60, 64, 67, 0.3), 0px 1px 3px 1px rgba(60, 64, 67, 0.15);\n",
              "      fill: #174EA6;\n",
              "    }\n",
              "\n",
              "    .colab-df-buttons div {\n",
              "      margin-bottom: 4px;\n",
              "    }\n",
              "\n",
              "    [theme=dark] .colab-df-convert {\n",
              "      background-color: #3B4455;\n",
              "      fill: #D2E3FC;\n",
              "    }\n",
              "\n",
              "    [theme=dark] .colab-df-convert:hover {\n",
              "      background-color: #434B5C;\n",
              "      box-shadow: 0px 1px 3px 1px rgba(0, 0, 0, 0.15);\n",
              "      filter: drop-shadow(0px 1px 2px rgba(0, 0, 0, 0.3));\n",
              "      fill: #FFFFFF;\n",
              "    }\n",
              "  </style>\n",
              "\n",
              "    <script>\n",
              "      const buttonEl =\n",
              "        document.querySelector('#df-aa1bf86b-7f2d-4f83-b67a-e1fdb2ba09ce button.colab-df-convert');\n",
              "      buttonEl.style.display =\n",
              "        google.colab.kernel.accessAllowed ? 'block' : 'none';\n",
              "\n",
              "      async function convertToInteractive(key) {\n",
              "        const element = document.querySelector('#df-aa1bf86b-7f2d-4f83-b67a-e1fdb2ba09ce');\n",
              "        const dataTable =\n",
              "          await google.colab.kernel.invokeFunction('convertToInteractive',\n",
              "                                                    [key], {});\n",
              "        if (!dataTable) return;\n",
              "\n",
              "        const docLinkHtml = 'Like what you see? Visit the ' +\n",
              "          '<a target=\"_blank\" href=https://colab.research.google.com/notebooks/data_table.ipynb>data table notebook</a>'\n",
              "          + ' to learn more about interactive tables.';\n",
              "        element.innerHTML = '';\n",
              "        dataTable['output_type'] = 'display_data';\n",
              "        await google.colab.output.renderOutput(dataTable, element);\n",
              "        const docLink = document.createElement('div');\n",
              "        docLink.innerHTML = docLinkHtml;\n",
              "        element.appendChild(docLink);\n",
              "      }\n",
              "    </script>\n",
              "  </div>\n",
              "\n",
              "\n",
              "<div id=\"df-2d206cad-673d-4667-9ea5-0b2cb66be55e\">\n",
              "  <button class=\"colab-df-quickchart\" onclick=\"quickchart('df-2d206cad-673d-4667-9ea5-0b2cb66be55e')\"\n",
              "            title=\"Suggest charts\"\n",
              "            style=\"display:none;\">\n",
              "\n",
              "<svg xmlns=\"http://www.w3.org/2000/svg\" height=\"24px\"viewBox=\"0 0 24 24\"\n",
              "     width=\"24px\">\n",
              "    <g>\n",
              "        <path d=\"M19 3H5c-1.1 0-2 .9-2 2v14c0 1.1.9 2 2 2h14c1.1 0 2-.9 2-2V5c0-1.1-.9-2-2-2zM9 17H7v-7h2v7zm4 0h-2V7h2v10zm4 0h-2v-4h2v4z\"/>\n",
              "    </g>\n",
              "</svg>\n",
              "  </button>\n",
              "\n",
              "<style>\n",
              "  .colab-df-quickchart {\n",
              "      --bg-color: #E8F0FE;\n",
              "      --fill-color: #1967D2;\n",
              "      --hover-bg-color: #E2EBFA;\n",
              "      --hover-fill-color: #174EA6;\n",
              "      --disabled-fill-color: #AAA;\n",
              "      --disabled-bg-color: #DDD;\n",
              "  }\n",
              "\n",
              "  [theme=dark] .colab-df-quickchart {\n",
              "      --bg-color: #3B4455;\n",
              "      --fill-color: #D2E3FC;\n",
              "      --hover-bg-color: #434B5C;\n",
              "      --hover-fill-color: #FFFFFF;\n",
              "      --disabled-bg-color: #3B4455;\n",
              "      --disabled-fill-color: #666;\n",
              "  }\n",
              "\n",
              "  .colab-df-quickchart {\n",
              "    background-color: var(--bg-color);\n",
              "    border: none;\n",
              "    border-radius: 50%;\n",
              "    cursor: pointer;\n",
              "    display: none;\n",
              "    fill: var(--fill-color);\n",
              "    height: 32px;\n",
              "    padding: 0;\n",
              "    width: 32px;\n",
              "  }\n",
              "\n",
              "  .colab-df-quickchart:hover {\n",
              "    background-color: var(--hover-bg-color);\n",
              "    box-shadow: 0 1px 2px rgba(60, 64, 67, 0.3), 0 1px 3px 1px rgba(60, 64, 67, 0.15);\n",
              "    fill: var(--button-hover-fill-color);\n",
              "  }\n",
              "\n",
              "  .colab-df-quickchart-complete:disabled,\n",
              "  .colab-df-quickchart-complete:disabled:hover {\n",
              "    background-color: var(--disabled-bg-color);\n",
              "    fill: var(--disabled-fill-color);\n",
              "    box-shadow: none;\n",
              "  }\n",
              "\n",
              "  .colab-df-spinner {\n",
              "    border: 2px solid var(--fill-color);\n",
              "    border-color: transparent;\n",
              "    border-bottom-color: var(--fill-color);\n",
              "    animation:\n",
              "      spin 1s steps(1) infinite;\n",
              "  }\n",
              "\n",
              "  @keyframes spin {\n",
              "    0% {\n",
              "      border-color: transparent;\n",
              "      border-bottom-color: var(--fill-color);\n",
              "      border-left-color: var(--fill-color);\n",
              "    }\n",
              "    20% {\n",
              "      border-color: transparent;\n",
              "      border-left-color: var(--fill-color);\n",
              "      border-top-color: var(--fill-color);\n",
              "    }\n",
              "    30% {\n",
              "      border-color: transparent;\n",
              "      border-left-color: var(--fill-color);\n",
              "      border-top-color: var(--fill-color);\n",
              "      border-right-color: var(--fill-color);\n",
              "    }\n",
              "    40% {\n",
              "      border-color: transparent;\n",
              "      border-right-color: var(--fill-color);\n",
              "      border-top-color: var(--fill-color);\n",
              "    }\n",
              "    60% {\n",
              "      border-color: transparent;\n",
              "      border-right-color: var(--fill-color);\n",
              "    }\n",
              "    80% {\n",
              "      border-color: transparent;\n",
              "      border-right-color: var(--fill-color);\n",
              "      border-bottom-color: var(--fill-color);\n",
              "    }\n",
              "    90% {\n",
              "      border-color: transparent;\n",
              "      border-bottom-color: var(--fill-color);\n",
              "    }\n",
              "  }\n",
              "</style>\n",
              "\n",
              "  <script>\n",
              "    async function quickchart(key) {\n",
              "      const quickchartButtonEl =\n",
              "        document.querySelector('#' + key + ' button');\n",
              "      quickchartButtonEl.disabled = true;  // To prevent multiple clicks.\n",
              "      quickchartButtonEl.classList.add('colab-df-spinner');\n",
              "      try {\n",
              "        const charts = await google.colab.kernel.invokeFunction(\n",
              "            'suggestCharts', [key], {});\n",
              "      } catch (error) {\n",
              "        console.error('Error during call to suggestCharts:', error);\n",
              "      }\n",
              "      quickchartButtonEl.classList.remove('colab-df-spinner');\n",
              "      quickchartButtonEl.classList.add('colab-df-quickchart-complete');\n",
              "    }\n",
              "    (() => {\n",
              "      let quickchartButtonEl =\n",
              "        document.querySelector('#df-2d206cad-673d-4667-9ea5-0b2cb66be55e button');\n",
              "      quickchartButtonEl.style.display =\n",
              "        google.colab.kernel.accessAllowed ? 'block' : 'none';\n",
              "    })();\n",
              "  </script>\n",
              "</div>\n",
              "    </div>\n",
              "  </div>\n"
            ],
            "application/vnd.google.colaboratory.intrinsic+json": {
              "type": "dataframe",
              "variable_name": "df"
            }
          },
          "metadata": {},
          "execution_count": 1769
        }
      ]
    },
    {
      "cell_type": "code",
      "source": [
        "df.columns"
      ],
      "metadata": {
        "colab": {
          "base_uri": "https://localhost:8080/"
        },
        "id": "iREJzKSThRM0",
        "outputId": "216d3ab1-527e-4855-8f99-41918148c6b1"
      },
      "execution_count": null,
      "outputs": [
        {
          "output_type": "execute_result",
          "data": {
            "text/plain": [
              "Index(['Survived', 'Pclass', 'Age', 'SibSp', 'Parch', 'Fare', 'Sex_female',\n",
              "       'Sex_male', 'Title_Category_Master', 'Title_Category_Military',\n",
              "       'Title_Category_Miss', 'Title_Category_Mr', 'Title_Category_Mrs',\n",
              "       'Title_Category_Nobility', 'Title_Category_Professional',\n",
              "       'Cabin_Reduced_A', 'Cabin_Reduced_B', 'Cabin_Reduced_C',\n",
              "       'Cabin_Reduced_D', 'Cabin_Reduced_E', 'Cabin_Reduced_F',\n",
              "       'Cabin_Reduced_G', 'Cabin_Reduced_Unknown', 'Ticket_Prefix_Grouped_A5',\n",
              "       'Ticket_Prefix_Grouped_C', 'Ticket_Prefix_Grouped_NUMERIC',\n",
              "       'Ticket_Prefix_Grouped_OTHER', 'Ticket_Prefix_Grouped_SC',\n",
              "       'Ticket_Prefix_Grouped_STONO', 'Embarked_Cherbourg',\n",
              "       'Embarked_Queenstown', 'Embarked_Southampton', 'Embarked_Unknown'],\n",
              "      dtype='object')"
            ]
          },
          "metadata": {},
          "execution_count": 1770
        }
      ]
    },
    {
      "cell_type": "code",
      "source": [
        "df.shape"
      ],
      "metadata": {
        "colab": {
          "base_uri": "https://localhost:8080/"
        },
        "id": "TAcc9jNSdHL4",
        "outputId": "faa41d53-7fc0-48e8-a2aa-ce2c6d140df4"
      },
      "execution_count": null,
      "outputs": [
        {
          "output_type": "execute_result",
          "data": {
            "text/plain": [
              "(891, 33)"
            ]
          },
          "metadata": {},
          "execution_count": 1771
        }
      ]
    },
    {
      "cell_type": "code",
      "source": [
        "..."
      ],
      "metadata": {
        "id": "eMozfpLmUb0O",
        "colab": {
          "base_uri": "https://localhost:8080/"
        },
        "outputId": "de84a66a-ea3f-4cd7-8015-67d6d6d370fa"
      },
      "execution_count": null,
      "outputs": [
        {
          "output_type": "execute_result",
          "data": {
            "text/plain": [
              "Ellipsis"
            ]
          },
          "metadata": {},
          "execution_count": 1772
        }
      ]
    },
    {
      "cell_type": "markdown",
      "source": [
        "## Eliminar alta correlación"
      ],
      "metadata": {
        "id": "_WkHPdvwWXVG"
      }
    },
    {
      "cell_type": "code",
      "source": [
        "corr = df.corr()"
      ],
      "metadata": {
        "id": "wKtl460se6IH"
      },
      "execution_count": null,
      "outputs": []
    },
    {
      "cell_type": "code",
      "source": [
        "corr.style.background_gradient()"
      ],
      "metadata": {
        "colab": {
          "base_uri": "https://localhost:8080/",
          "height": 1000
        },
        "id": "dokL2yHKgzOJ",
        "outputId": "30fc0160-f343-4cdf-e4b9-b10a31da603f"
      },
      "execution_count": null,
      "outputs": [
        {
          "output_type": "execute_result",
          "data": {
            "text/plain": [
              "<pandas.io.formats.style.Styler at 0x7ca261a182b0>"
            ],
            "text/html": [
              "<style type=\"text/css\">\n",
              "#T_2a96a_row0_col0, #T_2a96a_row1_col1, #T_2a96a_row2_col2, #T_2a96a_row3_col3, #T_2a96a_row4_col4, #T_2a96a_row5_col5, #T_2a96a_row6_col6, #T_2a96a_row7_col7, #T_2a96a_row8_col8, #T_2a96a_row9_col9, #T_2a96a_row10_col10, #T_2a96a_row11_col11, #T_2a96a_row12_col12, #T_2a96a_row13_col13, #T_2a96a_row14_col14, #T_2a96a_row15_col15, #T_2a96a_row16_col16, #T_2a96a_row17_col17, #T_2a96a_row18_col18, #T_2a96a_row19_col19, #T_2a96a_row20_col20, #T_2a96a_row21_col21, #T_2a96a_row22_col22, #T_2a96a_row23_col23, #T_2a96a_row24_col24, #T_2a96a_row25_col25, #T_2a96a_row26_col26, #T_2a96a_row27_col27, #T_2a96a_row28_col28, #T_2a96a_row29_col29, #T_2a96a_row30_col30, #T_2a96a_row31_col31, #T_2a96a_row32_col32 {\n",
              "  background-color: #023858;\n",
              "  color: #f1f1f1;\n",
              "}\n",
              "#T_2a96a_row0_col1, #T_2a96a_row0_col13, #T_2a96a_row0_col23, #T_2a96a_row0_col32, #T_2a96a_row1_col0, #T_2a96a_row12_col8, #T_2a96a_row16_col14, #T_2a96a_row25_col3 {\n",
              "  background-color: #eae6f1;\n",
              "  color: #000000;\n",
              "}\n",
              "#T_2a96a_row0_col2, #T_2a96a_row2_col18, #T_2a96a_row2_col26, #T_2a96a_row12_col18, #T_2a96a_row21_col17, #T_2a96a_row21_col30, #T_2a96a_row22_col29, #T_2a96a_row23_col30 {\n",
              "  background-color: #b9c6e0;\n",
              "  color: #000000;\n",
              "}\n",
              "#T_2a96a_row0_col3, #T_2a96a_row4_col21, #T_2a96a_row9_col20, #T_2a96a_row13_col20, #T_2a96a_row16_col3, #T_2a96a_row17_col8, #T_2a96a_row17_col23, #T_2a96a_row18_col1, #T_2a96a_row18_col15, #T_2a96a_row18_col28, #T_2a96a_row19_col15, #T_2a96a_row19_col28, #T_2a96a_row23_col27, #T_2a96a_row28_col27, #T_2a96a_row29_col8 {\n",
              "  background-color: #e1dfed;\n",
              "  color: #000000;\n",
              "}\n",
              "#T_2a96a_row0_col4, #T_2a96a_row1_col23, #T_2a96a_row14_col16, #T_2a96a_row14_col26, #T_2a96a_row22_col24, #T_2a96a_row26_col5, #T_2a96a_row27_col18, #T_2a96a_row28_col5 {\n",
              "  background-color: #bcc7e1;\n",
              "  color: #000000;\n",
              "}\n",
              "#T_2a96a_row0_col5, #T_2a96a_row5_col0, #T_2a96a_row29_col24 {\n",
              "  background-color: #69a5cc;\n",
              "  color: #f1f1f1;\n",
              "}\n",
              "#T_2a96a_row0_col6 {\n",
              "  background-color: #056caa;\n",
              "  color: #f1f1f1;\n",
              "}\n",
              "#T_2a96a_row0_col7, #T_2a96a_row0_col20, #T_2a96a_row2_col22, #T_2a96a_row7_col19, #T_2a96a_row11_col15, #T_2a96a_row11_col18, #T_2a96a_row11_col28, #T_2a96a_row16_col19, #T_2a96a_row17_col18, #T_2a96a_row26_col18, #T_2a96a_row29_col2, #T_2a96a_row31_col18 {\n",
              "  background-color: #d5d5e8;\n",
              "  color: #000000;\n",
              "}\n",
              "#T_2a96a_row0_col8, #T_2a96a_row8_col20, #T_2a96a_row12_col26, #T_2a96a_row12_col30, #T_2a96a_row17_col4, #T_2a96a_row18_col16, #T_2a96a_row18_col26, #T_2a96a_row19_col16, #T_2a96a_row25_col16, #T_2a96a_row31_col23, #T_2a96a_row32_col2, #T_2a96a_row32_col22 {\n",
              "  background-color: #c9cee4;\n",
              "  color: #000000;\n",
              "}\n",
              "#T_2a96a_row0_col9, #T_2a96a_row2_col30, #T_2a96a_row3_col21, #T_2a96a_row7_col3, #T_2a96a_row9_col21, #T_2a96a_row13_col21, #T_2a96a_row23_col14, #T_2a96a_row24_col14, #T_2a96a_row25_col32, #T_2a96a_row29_col9, #T_2a96a_row32_col21 {\n",
              "  background-color: #efe9f3;\n",
              "  color: #000000;\n",
              "}\n",
              "#T_2a96a_row0_col10 {\n",
              "  background-color: #3f93c2;\n",
              "  color: #f1f1f1;\n",
              "}\n",
              "#T_2a96a_row0_col11, #T_2a96a_row3_col23, #T_2a96a_row5_col27, #T_2a96a_row8_col28, #T_2a96a_row12_col21, #T_2a96a_row14_col20, #T_2a96a_row15_col20, #T_2a96a_row16_col15, #T_2a96a_row16_col28, #T_2a96a_row18_col8, #T_2a96a_row19_col3, #T_2a96a_row19_col27, #T_2a96a_row27_col20, #T_2a96a_row28_col3, #T_2a96a_row28_col20 {\n",
              "  background-color: #e2dfee;\n",
              "  color: #000000;\n",
              "}\n",
              "#T_2a96a_row0_col12, #T_2a96a_row12_col0, #T_2a96a_row24_col5 {\n",
              "  background-color: #4e9ac6;\n",
              "  color: #f1f1f1;\n",
              "}\n",
              "#T_2a96a_row0_col14, #T_2a96a_row1_col19, #T_2a96a_row4_col9, #T_2a96a_row8_col9, #T_2a96a_row8_col13, #T_2a96a_row18_col9, #T_2a96a_row18_col13, #T_2a96a_row19_col9, #T_2a96a_row19_col13, #T_2a96a_row19_col22, #T_2a96a_row30_col21 {\n",
              "  background-color: #f1ebf5;\n",
              "  color: #000000;\n",
              "}\n",
              "#T_2a96a_row0_col15, #T_2a96a_row0_col27, #T_2a96a_row0_col28, #T_2a96a_row4_col27, #T_2a96a_row5_col8, #T_2a96a_row5_col15, #T_2a96a_row7_col2, #T_2a96a_row7_col18, #T_2a96a_row7_col28, #T_2a96a_row12_col11, #T_2a96a_row15_col8, #T_2a96a_row16_col9, #T_2a96a_row23_col4, #T_2a96a_row25_col2, #T_2a96a_row25_col15, #T_2a96a_row27_col8, #T_2a96a_row30_col8, #T_2a96a_row31_col20 {\n",
              "  background-color: #d9d8ea;\n",
              "  color: #000000;\n",
              "}\n",
              "#T_2a96a_row0_col16, #T_2a96a_row5_col12, #T_2a96a_row7_col22, #T_2a96a_row8_col24, #T_2a96a_row10_col24, #T_2a96a_row11_col22, #T_2a96a_row12_col5, #T_2a96a_row12_col24, #T_2a96a_row21_col11, #T_2a96a_row25_col10, #T_2a96a_row29_col11, #T_2a96a_row30_col11, #T_2a96a_row32_col29 {\n",
              "  background-color: #93b5d6;\n",
              "  color: #000000;\n",
              "}\n",
              "#T_2a96a_row0_col17, #T_2a96a_row1_col10, #T_2a96a_row3_col29, #T_2a96a_row9_col25, #T_2a96a_row12_col25, #T_2a96a_row16_col11, #T_2a96a_row18_col12, #T_2a96a_row18_col24, #T_2a96a_row22_col25, #T_2a96a_row24_col0, #T_2a96a_row25_col1, #T_2a96a_row26_col1, #T_2a96a_row27_col10, #T_2a96a_row29_col17, #T_2a96a_row31_col22, #T_2a96a_row31_col26 {\n",
              "  background-color: #9ab8d8;\n",
              "  color: #000000;\n",
              "}\n",
              "#T_2a96a_row0_col18, #T_2a96a_row4_col7, #T_2a96a_row4_col25, #T_2a96a_row7_col25, #T_2a96a_row11_col26, #T_2a96a_row12_col17, #T_2a96a_row13_col0, #T_2a96a_row26_col10 {\n",
              "  background-color: #a5bddb;\n",
              "  color: #000000;\n",
              "}\n",
              "#T_2a96a_row0_col19, #T_2a96a_row2_col16, #T_2a96a_row6_col17, #T_2a96a_row7_col26, #T_2a96a_row15_col0, #T_2a96a_row15_col5, #T_2a96a_row15_col10, #T_2a96a_row16_col25, #T_2a96a_row16_col31, #T_2a96a_row27_col0 {\n",
              "  background-color: #a8bedc;\n",
              "  color: #000000;\n",
              "}\n",
              "#T_2a96a_row0_col21, #T_2a96a_row5_col32, #T_2a96a_row22_col14 {\n",
              "  background-color: #ede7f2;\n",
              "  color: #000000;\n",
              "}\n",
              "#T_2a96a_row0_col22, #T_2a96a_row1_col2, #T_2a96a_row9_col14, #T_2a96a_row10_col8, #T_2a96a_row13_col14, #T_2a96a_row16_col1, #T_2a96a_row25_col9, #T_2a96a_row29_col14, #T_2a96a_row31_col9 {\n",
              "  background-color: #eee8f3;\n",
              "  color: #000000;\n",
              "}\n",
              "#T_2a96a_row0_col24, #T_2a96a_row3_col7, #T_2a96a_row9_col31, #T_2a96a_row10_col30, #T_2a96a_row16_col7, #T_2a96a_row25_col11, #T_2a96a_row32_col16 {\n",
              "  background-color: #8bb2d4;\n",
              "  color: #000000;\n",
              "}\n",
              "#T_2a96a_row0_col25, #T_2a96a_row3_col12, #T_2a96a_row11_col29, #T_2a96a_row16_col12, #T_2a96a_row23_col29, #T_2a96a_row32_col31 {\n",
              "  background-color: #9ebad9;\n",
              "  color: #000000;\n",
              "}\n",
              "#T_2a96a_row0_col26, #T_2a96a_row1_col12, #T_2a96a_row7_col15, #T_2a96a_row9_col18, #T_2a96a_row12_col1, #T_2a96a_row13_col18, #T_2a96a_row15_col2, #T_2a96a_row21_col18, #T_2a96a_row25_col19, #T_2a96a_row27_col2, #T_2a96a_row27_col25, #T_2a96a_row31_col0, #T_2a96a_row31_col3, #T_2a96a_row32_col19 {\n",
              "  background-color: #ced0e6;\n",
              "  color: #000000;\n",
              "}\n",
              "#T_2a96a_row0_col29, #T_2a96a_row4_col3, #T_2a96a_row14_col7, #T_2a96a_row16_col29, #T_2a96a_row24_col6, #T_2a96a_row32_col6 {\n",
              "  background-color: #63a2cb;\n",
              "  color: #f1f1f1;\n",
              "}\n",
              "#T_2a96a_row0_col30, #T_2a96a_row9_col12, #T_2a96a_row10_col17, #T_2a96a_row13_col12, #T_2a96a_row14_col17, #T_2a96a_row20_col5, #T_2a96a_row25_col22, #T_2a96a_row28_col12 {\n",
              "  background-color: #b4c4df;\n",
              "  color: #000000;\n",
              "}\n",
              "#T_2a96a_row0_col31, #T_2a96a_row3_col17, #T_2a96a_row3_col25, #T_2a96a_row4_col17, #T_2a96a_row10_col1, #T_2a96a_row10_col16, #T_2a96a_row14_col30, #T_2a96a_row31_col12 {\n",
              "  background-color: #afc1dd;\n",
              "  color: #000000;\n",
              "}\n",
              "#T_2a96a_row1_col3, #T_2a96a_row1_col8, #T_2a96a_row6_col1, #T_2a96a_row8_col26, #T_2a96a_row10_col3, #T_2a96a_row10_col26, #T_2a96a_row20_col4, #T_2a96a_row23_col2, #T_2a96a_row24_col2, #T_2a96a_row27_col4, #T_2a96a_row29_col15, #T_2a96a_row31_col28 {\n",
              "  background-color: #cacee5;\n",
              "  color: #000000;\n",
              "}\n",
              "#T_2a96a_row1_col4, #T_2a96a_row3_col26, #T_2a96a_row16_col32, #T_2a96a_row26_col2 {\n",
              "  background-color: #cccfe5;\n",
              "  color: #000000;\n",
              "}\n",
              "#T_2a96a_row1_col5, #T_2a96a_row1_col9, #T_2a96a_row1_col13, #T_2a96a_row5_col1, #T_2a96a_row6_col7, #T_2a96a_row6_col11, #T_2a96a_row7_col0, #T_2a96a_row7_col6, #T_2a96a_row7_col10, #T_2a96a_row7_col12, #T_2a96a_row11_col0, #T_2a96a_row11_col3, #T_2a96a_row11_col4, #T_2a96a_row11_col8, #T_2a96a_row11_col14, #T_2a96a_row17_col22, #T_2a96a_row22_col15, #T_2a96a_row22_col16, #T_2a96a_row22_col17, #T_2a96a_row22_col18, #T_2a96a_row22_col19, #T_2a96a_row22_col20, #T_2a96a_row22_col21, #T_2a96a_row22_col32, #T_2a96a_row24_col25, #T_2a96a_row25_col23, #T_2a96a_row25_col24, #T_2a96a_row25_col26, #T_2a96a_row25_col27, #T_2a96a_row25_col28, #T_2a96a_row29_col31, #T_2a96a_row30_col2, #T_2a96a_row31_col29, #T_2a96a_row31_col30 {\n",
              "  background-color: #fff7fb;\n",
              "  color: #000000;\n",
              "}\n",
              "#T_2a96a_row1_col6, #T_2a96a_row6_col4, #T_2a96a_row24_col10, #T_2a96a_row31_col6, #T_2a96a_row32_col11 {\n",
              "  background-color: #8eb3d5;\n",
              "  color: #000000;\n",
              "}\n",
              "#T_2a96a_row1_col7, #T_2a96a_row31_col7 {\n",
              "  background-color: #549cc7;\n",
              "  color: #f1f1f1;\n",
              "}\n",
              "#T_2a96a_row1_col11, #T_2a96a_row15_col7, #T_2a96a_row18_col6, #T_2a96a_row22_col11, #T_2a96a_row23_col7, #T_2a96a_row29_col6 {\n",
              "  background-color: #60a1ca;\n",
              "  color: #f1f1f1;\n",
              "}\n",
              "#T_2a96a_row1_col14, #T_2a96a_row16_col22 {\n",
              "  background-color: #faf2f8;\n",
              "  color: #000000;\n",
              "}\n",
              "#T_2a96a_row1_col15, #T_2a96a_row7_col21, #T_2a96a_row11_col32 {\n",
              "  background-color: #fbf3f9;\n",
              "  color: #000000;\n",
              "}\n",
              "#T_2a96a_row1_col16, #T_2a96a_row1_col17, #T_2a96a_row11_col12, #T_2a96a_row22_col5, #T_2a96a_row22_col13 {\n",
              "  background-color: #f8f1f8;\n",
              "  color: #000000;\n",
              "}\n",
              "#T_2a96a_row1_col18, #T_2a96a_row3_col32, #T_2a96a_row4_col32, #T_2a96a_row29_col32 {\n",
              "  background-color: #f6eff7;\n",
              "  color: #000000;\n",
              "}\n",
              "#T_2a96a_row1_col20, #T_2a96a_row2_col20, #T_2a96a_row11_col27, #T_2a96a_row12_col23, #T_2a96a_row13_col3, #T_2a96a_row14_col23, #T_2a96a_row15_col23, #T_2a96a_row19_col8, #T_2a96a_row20_col23, #T_2a96a_row21_col8, #T_2a96a_row24_col1, #T_2a96a_row27_col3, #T_2a96a_row30_col23, #T_2a96a_row32_col8 {\n",
              "  background-color: #dddbec;\n",
              "  color: #000000;\n",
              "}\n",
              "#T_2a96a_row1_col21, #T_2a96a_row1_col27, #T_2a96a_row3_col15, #T_2a96a_row16_col20, #T_2a96a_row17_col20, #T_2a96a_row24_col13, #T_2a96a_row26_col8, #T_2a96a_row26_col20, #T_2a96a_row30_col27, #T_2a96a_row30_col31 {\n",
              "  background-color: #e5e1ef;\n",
              "  color: #000000;\n",
              "}\n",
              "#T_2a96a_row1_col22 {\n",
              "  background-color: #04649e;\n",
              "  color: #f1f1f1;\n",
              "}\n",
              "#T_2a96a_row1_col24, #T_2a96a_row12_col22, #T_2a96a_row14_col19, #T_2a96a_row15_col19, #T_2a96a_row20_col19, #T_2a96a_row21_col22, #T_2a96a_row23_col18, #T_2a96a_row25_col5, #T_2a96a_row27_col19, #T_2a96a_row28_col18 {\n",
              "  background-color: #d2d2e7;\n",
              "  color: #000000;\n",
              "}\n",
              "#T_2a96a_row1_col25, #T_2a96a_row11_col1, #T_2a96a_row16_col10, #T_2a96a_row19_col0, #T_2a96a_row19_col11, #T_2a96a_row25_col30 {\n",
              "  background-color: #89b1d4;\n",
              "  color: #000000;\n",
              "}\n",
              "#T_2a96a_row1_col26, #T_2a96a_row2_col17, #T_2a96a_row2_col25, #T_2a96a_row8_col5, #T_2a96a_row9_col5, #T_2a96a_row20_col1, #T_2a96a_row23_col10, #T_2a96a_row23_col24, #T_2a96a_row25_col12 {\n",
              "  background-color: #abbfdc;\n",
              "  color: #000000;\n",
              "}\n",
              "#T_2a96a_row1_col28, #T_2a96a_row5_col25, #T_2a96a_row6_col2, #T_2a96a_row6_col3, #T_2a96a_row7_col17, #T_2a96a_row11_col23, #T_2a96a_row14_col1, #T_2a96a_row16_col4, #T_2a96a_row16_col26, #T_2a96a_row18_col30, #T_2a96a_row20_col8, #T_2a96a_row21_col16, #T_2a96a_row31_col19 {\n",
              "  background-color: #c2cbe2;\n",
              "  color: #000000;\n",
              "}\n",
              "#T_2a96a_row1_col29, #T_2a96a_row4_col22, #T_2a96a_row5_col19, #T_2a96a_row19_col2, #T_2a96a_row21_col4, #T_2a96a_row23_col17, #T_2a96a_row27_col17, #T_2a96a_row27_col30, #T_2a96a_row28_col17, #T_2a96a_row28_col30 {\n",
              "  background-color: #bfc9e1;\n",
              "  color: #000000;\n",
              "}\n",
              "#T_2a96a_row1_col30, #T_2a96a_row3_col31, #T_2a96a_row4_col24, #T_2a96a_row5_col10, #T_2a96a_row8_col3 {\n",
              "  background-color: #7dacd1;\n",
              "  color: #f1f1f1;\n",
              "}\n",
              "#T_2a96a_row1_col31, #T_2a96a_row3_col8, #T_2a96a_row6_col29, #T_2a96a_row13_col29, #T_2a96a_row23_col31, #T_2a96a_row25_col7 {\n",
              "  background-color: #7bacd1;\n",
              "  color: #f1f1f1;\n",
              "}\n",
              "#T_2a96a_row1_col32, #T_2a96a_row22_col9 {\n",
              "  background-color: #fdf5fa;\n",
              "  color: #000000;\n",
              "}\n",
              "#T_2a96a_row2_col0, #T_2a96a_row5_col4, #T_2a96a_row10_col25, #T_2a96a_row15_col24, #T_2a96a_row20_col10, #T_2a96a_row28_col10 {\n",
              "  background-color: #97b7d7;\n",
              "  color: #000000;\n",
              "}\n",
              "#T_2a96a_row2_col1, #T_2a96a_row2_col8, #T_2a96a_row3_col19, #T_2a96a_row7_col5, #T_2a96a_row9_col4, #T_2a96a_row11_col5, #T_2a96a_row18_col4, #T_2a96a_row19_col4, #T_2a96a_row19_col18, #T_2a96a_row24_col8, #T_2a96a_row24_col26, #T_2a96a_row29_col26 {\n",
              "  background-color: #d3d4e7;\n",
              "  color: #000000;\n",
              "}\n",
              "#T_2a96a_row2_col3, #T_2a96a_row6_col28, #T_2a96a_row7_col20, #T_2a96a_row14_col27, #T_2a96a_row15_col27, #T_2a96a_row16_col23, #T_2a96a_row20_col22, #T_2a96a_row20_col27, #T_2a96a_row21_col20, #T_2a96a_row23_col8, #T_2a96a_row23_col15, #T_2a96a_row23_col28, #T_2a96a_row26_col23, #T_2a96a_row27_col15, #T_2a96a_row27_col28, #T_2a96a_row28_col8, #T_2a96a_row28_col15, #T_2a96a_row29_col13, #T_2a96a_row30_col3, #T_2a96a_row30_col20, #T_2a96a_row32_col20 {\n",
              "  background-color: #e0deed;\n",
              "  color: #000000;\n",
              "}\n",
              "#T_2a96a_row2_col4, #T_2a96a_row5_col18, #T_2a96a_row8_col30, #T_2a96a_row9_col26, #T_2a96a_row13_col16, #T_2a96a_row21_col5, #T_2a96a_row26_col24, #T_2a96a_row27_col5, #T_2a96a_row31_col24 {\n",
              "  background-color: #b3c3de;\n",
              "  color: #000000;\n",
              "}\n",
              "#T_2a96a_row2_col5, #T_2a96a_row2_col29, #T_2a96a_row8_col6, #T_2a96a_row18_col5, #T_2a96a_row18_col10, #T_2a96a_row19_col10, #T_2a96a_row20_col29, #T_2a96a_row21_col29, #T_2a96a_row22_col30, #T_2a96a_row24_col11, #T_2a96a_row29_col16 {\n",
              "  background-color: #94b6d7;\n",
              "  color: #000000;\n",
              "}\n",
              "#T_2a96a_row2_col6, #T_2a96a_row19_col6 {\n",
              "  background-color: #67a4cc;\n",
              "  color: #f1f1f1;\n",
              "}\n",
              "#T_2a96a_row2_col7, #T_2a96a_row4_col31, #T_2a96a_row12_col29, #T_2a96a_row19_col7 {\n",
              "  background-color: #7eadd1;\n",
              "  color: #f1f1f1;\n",
              "}\n",
              "#T_2a96a_row2_col9, #T_2a96a_row2_col13, #T_2a96a_row4_col28, #T_2a96a_row5_col28, #T_2a96a_row6_col23, #T_2a96a_row10_col11, #T_2a96a_row11_col20, #T_2a96a_row17_col9, #T_2a96a_row26_col9 {\n",
              "  background-color: #e8e4f0;\n",
              "  color: #000000;\n",
              "}\n",
              "#T_2a96a_row2_col10, #T_2a96a_row2_col24, #T_2a96a_row3_col1, #T_2a96a_row4_col0, #T_2a96a_row5_col7, #T_2a96a_row8_col0, #T_2a96a_row8_col1, #T_2a96a_row8_col25, #T_2a96a_row13_col31, #T_2a96a_row15_col25, #T_2a96a_row15_col31, #T_2a96a_row18_col25, #T_2a96a_row18_col31, #T_2a96a_row31_col1 {\n",
              "  background-color: #99b8d8;\n",
              "  color: #000000;\n",
              "}\n",
              "#T_2a96a_row2_col11, #T_2a96a_row4_col8, #T_2a96a_row6_col25, #T_2a96a_row8_col29, #T_2a96a_row9_col11, #T_2a96a_row12_col4, #T_2a96a_row13_col11, #T_2a96a_row14_col25, #T_2a96a_row17_col10, #T_2a96a_row19_col24, #T_2a96a_row20_col25, #T_2a96a_row30_col22, #T_2a96a_row32_col25 {\n",
              "  background-color: #96b6d7;\n",
              "  color: #000000;\n",
              "}\n",
              "#T_2a96a_row2_col12, #T_2a96a_row17_col12, #T_2a96a_row17_col25, #T_2a96a_row17_col31, #T_2a96a_row20_col24, #T_2a96a_row21_col12, #T_2a96a_row28_col29, #T_2a96a_row29_col12 {\n",
              "  background-color: #9cb9d9;\n",
              "  color: #000000;\n",
              "}\n",
              "#T_2a96a_row2_col14, #T_2a96a_row4_col15, #T_2a96a_row15_col3, #T_2a96a_row17_col27, #T_2a96a_row18_col20, #T_2a96a_row19_col20, #T_2a96a_row23_col3, #T_2a96a_row24_col23, #T_2a96a_row26_col27, #T_2a96a_row30_col15, #T_2a96a_row30_col28 {\n",
              "  background-color: #e4e1ef;\n",
              "  color: #000000;\n",
              "}\n",
              "#T_2a96a_row2_col15, #T_2a96a_row2_col27, #T_2a96a_row8_col27, #T_2a96a_row21_col3, #T_2a96a_row29_col1 {\n",
              "  background-color: #dcdaeb;\n",
              "  color: #000000;\n",
              "}\n",
              "#T_2a96a_row2_col19, #T_2a96a_row3_col30, #T_2a96a_row9_col30, #T_2a96a_row13_col17, #T_2a96a_row13_col30 {\n",
              "  background-color: #bbc7e0;\n",
              "  color: #000000;\n",
              "}\n",
              "#T_2a96a_row2_col21, #T_2a96a_row6_col32, #T_2a96a_row10_col15, #T_2a96a_row22_col2, #T_2a96a_row29_col28 {\n",
              "  background-color: #e9e5f1;\n",
              "  color: #000000;\n",
              "}\n",
              "#T_2a96a_row2_col23, #T_2a96a_row7_col16, #T_2a96a_row11_col16, #T_2a96a_row12_col7, #T_2a96a_row13_col4, #T_2a96a_row17_col3, #T_2a96a_row17_col19, #T_2a96a_row22_col8, #T_2a96a_row25_col4, #T_2a96a_row31_col8 {\n",
              "  background-color: #d6d6e9;\n",
              "  color: #000000;\n",
              "}\n",
              "#T_2a96a_row2_col28, #T_2a96a_row3_col18, #T_2a96a_row4_col18, #T_2a96a_row5_col30, #T_2a96a_row8_col19, #T_2a96a_row9_col19, #T_2a96a_row10_col2, #T_2a96a_row13_col19, #T_2a96a_row21_col19, #T_2a96a_row24_col30, #T_2a96a_row28_col25, #T_2a96a_row29_col19, #T_2a96a_row30_col16, #T_2a96a_row30_col26 {\n",
              "  background-color: #d0d1e6;\n",
              "  color: #000000;\n",
              "}\n",
              "#T_2a96a_row2_col31, #T_2a96a_row5_col16, #T_2a96a_row5_col17, #T_2a96a_row10_col0, #T_2a96a_row22_col7 {\n",
              "  background-color: #509ac6;\n",
              "  color: #f1f1f1;\n",
              "}\n",
              "#T_2a96a_row2_col32, #T_2a96a_row3_col13, #T_2a96a_row7_col13, #T_2a96a_row8_col14, #T_2a96a_row9_col13, #T_2a96a_row13_col9, #T_2a96a_row14_col21, #T_2a96a_row15_col21, #T_2a96a_row18_col21, #T_2a96a_row19_col14, #T_2a96a_row19_col21, #T_2a96a_row20_col21, #T_2a96a_row21_col9, #T_2a96a_row21_col13, #T_2a96a_row23_col21, #T_2a96a_row27_col21, #T_2a96a_row28_col21, #T_2a96a_row32_col9, #T_2a96a_row32_col13 {\n",
              "  background-color: #f0eaf4;\n",
              "  color: #000000;\n",
              "}\n",
              "#T_2a96a_row3_col0, #T_2a96a_row3_col11, #T_2a96a_row5_col2, #T_2a96a_row7_col8, #T_2a96a_row14_col0, #T_2a96a_row14_col22, #T_2a96a_row20_col30, #T_2a96a_row25_col17 {\n",
              "  background-color: #b5c4df;\n",
              "  color: #000000;\n",
              "}\n",
              "#T_2a96a_row3_col2, #T_2a96a_row6_col22, #T_2a96a_row8_col18, #T_2a96a_row16_col18, #T_2a96a_row18_col19, #T_2a96a_row22_col3, #T_2a96a_row24_col22, #T_2a96a_row29_col30, #T_2a96a_row30_col19, #T_2a96a_row32_col4 {\n",
              "  background-color: #d4d4e8;\n",
              "  color: #000000;\n",
              "}\n",
              "#T_2a96a_row3_col4 {\n",
              "  background-color: #569dc8;\n",
              "  color: #f1f1f1;\n",
              "}\n",
              "#T_2a96a_row3_col5, #T_2a96a_row3_col10, #T_2a96a_row10_col29, #T_2a96a_row15_col6, #T_2a96a_row18_col7, #T_2a96a_row19_col31, #T_2a96a_row23_col6, #T_2a96a_row29_col7 {\n",
              "  background-color: #84b0d3;\n",
              "  color: #f1f1f1;\n",
              "}\n",
              "#T_2a96a_row3_col6, #T_2a96a_row16_col6 {\n",
              "  background-color: #589ec8;\n",
              "  color: #f1f1f1;\n",
              "}\n",
              "#T_2a96a_row3_col9, #T_2a96a_row4_col14, #T_2a96a_row5_col21, #T_2a96a_row17_col1, #T_2a96a_row17_col13, #T_2a96a_row18_col22, #T_2a96a_row24_col21, #T_2a96a_row25_col13, #T_2a96a_row26_col13, #T_2a96a_row30_col9, #T_2a96a_row30_col13 {\n",
              "  background-color: #f2ecf5;\n",
              "  color: #000000;\n",
              "}\n",
              "#T_2a96a_row3_col14, #T_2a96a_row5_col9, #T_2a96a_row6_col13, #T_2a96a_row10_col32, #T_2a96a_row15_col14, #T_2a96a_row20_col14, #T_2a96a_row27_col14, #T_2a96a_row28_col14 {\n",
              "  background-color: #eee9f3;\n",
              "  color: #000000;\n",
              "}\n",
              "#T_2a96a_row3_col16, #T_2a96a_row4_col30, #T_2a96a_row9_col1, #T_2a96a_row9_col15, #T_2a96a_row10_col18, #T_2a96a_row11_col30, #T_2a96a_row13_col1, #T_2a96a_row23_col26, #T_2a96a_row25_col18, #T_2a96a_row26_col19, #T_2a96a_row26_col30, #T_2a96a_row27_col16, #T_2a96a_row28_col16, #T_2a96a_row28_col26, #T_2a96a_row30_col5 {\n",
              "  background-color: #c6cce3;\n",
              "  color: #000000;\n",
              "}\n",
              "#T_2a96a_row3_col20, #T_2a96a_row3_col27, #T_2a96a_row7_col14, #T_2a96a_row9_col28, #T_2a96a_row11_col2, #T_2a96a_row12_col20, #T_2a96a_row13_col28, #T_2a96a_row18_col3, #T_2a96a_row18_col23, #T_2a96a_row19_col23, #T_2a96a_row21_col15, #T_2a96a_row21_col27, #T_2a96a_row32_col27 {\n",
              "  background-color: #dfddec;\n",
              "  color: #000000;\n",
              "}\n",
              "#T_2a96a_row3_col22, #T_2a96a_row22_col26, #T_2a96a_row24_col3, #T_2a96a_row24_col4, #T_2a96a_row25_col0, #T_2a96a_row27_col22, #T_2a96a_row27_col31, #T_2a96a_row30_col29 {\n",
              "  background-color: #adc1dd;\n",
              "  color: #000000;\n",
              "}\n",
              "#T_2a96a_row3_col24, #T_2a96a_row7_col31, #T_2a96a_row28_col7, #T_2a96a_row30_col10 {\n",
              "  background-color: #6fa7ce;\n",
              "  color: #f1f1f1;\n",
              "}\n",
              "#T_2a96a_row3_col28, #T_2a96a_row4_col23, #T_2a96a_row12_col28, #T_2a96a_row15_col22, #T_2a96a_row16_col27, #T_2a96a_row17_col15, #T_2a96a_row17_col28, #T_2a96a_row23_col20, #T_2a96a_row26_col15, #T_2a96a_row26_col28 {\n",
              "  background-color: #e3e0ee;\n",
              "  color: #000000;\n",
              "}\n",
              "#T_2a96a_row4_col1, #T_2a96a_row5_col11, #T_2a96a_row6_col31, #T_2a96a_row13_col5, #T_2a96a_row21_col0, #T_2a96a_row27_col12, #T_2a96a_row27_col24, #T_2a96a_row28_col0, #T_2a96a_row28_col24 {\n",
              "  background-color: #a9bfdc;\n",
              "  color: #000000;\n",
              "}\n",
              "#T_2a96a_row4_col2, #T_2a96a_row4_col16, #T_2a96a_row23_col12, #T_2a96a_row29_col18 {\n",
              "  background-color: #b1c2de;\n",
              "  color: #000000;\n",
              "}\n",
              "#T_2a96a_row4_col5, #T_2a96a_row18_col29, #T_2a96a_row20_col7 {\n",
              "  background-color: #76aad0;\n",
              "  color: #f1f1f1;\n",
              "}\n",
              "#T_2a96a_row4_col6 {\n",
              "  background-color: #3790c0;\n",
              "  color: #f1f1f1;\n",
              "}\n",
              "#T_2a96a_row4_col10, #T_2a96a_row6_col5, #T_2a96a_row9_col6, #T_2a96a_row17_col7 {\n",
              "  background-color: #80aed2;\n",
              "  color: #f1f1f1;\n",
              "}\n",
              "#T_2a96a_row4_col11, #T_2a96a_row12_col10, #T_2a96a_row16_col17, #T_2a96a_row17_col2, #T_2a96a_row24_col19, #T_2a96a_row26_col16 {\n",
              "  background-color: #c4cbe3;\n",
              "  color: #000000;\n",
              "}\n",
              "#T_2a96a_row4_col12, #T_2a96a_row13_col7, #T_2a96a_row27_col7, #T_2a96a_row30_col1 {\n",
              "  background-color: #75a9cf;\n",
              "  color: #f1f1f1;\n",
              "}\n",
              "#T_2a96a_row4_col13, #T_2a96a_row8_col32, #T_2a96a_row10_col9, #T_2a96a_row10_col13, #T_2a96a_row10_col14, #T_2a96a_row18_col32, #T_2a96a_row19_col32, #T_2a96a_row23_col32, #T_2a96a_row28_col32 {\n",
              "  background-color: #f4eef6;\n",
              "  color: #000000;\n",
              "}\n",
              "#T_2a96a_row4_col19, #T_2a96a_row6_col26, #T_2a96a_row12_col3, #T_2a96a_row15_col18, #T_2a96a_row20_col18, #T_2a96a_row31_col5 {\n",
              "  background-color: #d1d2e6;\n",
              "  color: #000000;\n",
              "}\n",
              "#T_2a96a_row4_col20, #T_2a96a_row9_col23, #T_2a96a_row10_col28, #T_2a96a_row12_col27, #T_2a96a_row13_col23, #T_2a96a_row15_col9, #T_2a96a_row20_col3, #T_2a96a_row21_col23, #T_2a96a_row26_col4, #T_2a96a_row28_col4, #T_2a96a_row32_col23 {\n",
              "  background-color: #dbdaeb;\n",
              "  color: #000000;\n",
              "}\n",
              "#T_2a96a_row4_col26, #T_2a96a_row5_col26, #T_2a96a_row9_col22, #T_2a96a_row17_col16, #T_2a96a_row17_col26, #T_2a96a_row20_col2, #T_2a96a_row22_col28, #T_2a96a_row32_col18 {\n",
              "  background-color: #cdd0e5;\n",
              "  color: #000000;\n",
              "}\n",
              "#T_2a96a_row4_col29, #T_2a96a_row10_col5, #T_2a96a_row12_col31, #T_2a96a_row13_col24, #T_2a96a_row14_col29, #T_2a96a_row14_col31, #T_2a96a_row25_col31, #T_2a96a_row28_col1, #T_2a96a_row29_col10, #T_2a96a_row31_col2, #T_2a96a_row32_col10 {\n",
              "  background-color: #8fb4d6;\n",
              "  color: #000000;\n",
              "}\n",
              "#T_2a96a_row5_col3, #T_2a96a_row8_col11, #T_2a96a_row10_col4, #T_2a96a_row27_col1, #T_2a96a_row29_col25, #T_2a96a_row30_col24, #T_2a96a_row31_col10 {\n",
              "  background-color: #b7c5df;\n",
              "  color: #000000;\n",
              "}\n",
              "#T_2a96a_row5_col6 {\n",
              "  background-color: #4697c4;\n",
              "  color: #f1f1f1;\n",
              "}\n",
              "#T_2a96a_row5_col13, #T_2a96a_row21_col14, #T_2a96a_row31_col14, #T_2a96a_row32_col14 {\n",
              "  background-color: #ede8f3;\n",
              "  color: #000000;\n",
              "}\n",
              "#T_2a96a_row5_col14, #T_2a96a_row6_col15, #T_2a96a_row17_col14, #T_2a96a_row26_col14, #T_2a96a_row26_col25 {\n",
              "  background-color: #ebe6f2;\n",
              "  color: #000000;\n",
              "}\n",
              "#T_2a96a_row5_col20, #T_2a96a_row7_col9, #T_2a96a_row10_col7, #T_2a96a_row10_col21, #T_2a96a_row29_col3, #T_2a96a_row29_col20 {\n",
              "  background-color: #e6e2ef;\n",
              "  color: #000000;\n",
              "}\n",
              "#T_2a96a_row5_col22 {\n",
              "  background-color: #fef6fb;\n",
              "  color: #000000;\n",
              "}\n",
              "#T_2a96a_row5_col23, #T_2a96a_row10_col23, #T_2a96a_row12_col15, #T_2a96a_row16_col13, #T_2a96a_row18_col14, #T_2a96a_row22_col0, #T_2a96a_row24_col27, #T_2a96a_row24_col28, #T_2a96a_row25_col14, #T_2a96a_row26_col3, #T_2a96a_row29_col23, #T_2a96a_row30_col14, #T_2a96a_row31_col15, #T_2a96a_row31_col21 {\n",
              "  background-color: #e7e3f0;\n",
              "  color: #000000;\n",
              "}\n",
              "#T_2a96a_row5_col24, #T_2a96a_row16_col5 {\n",
              "  background-color: #4094c3;\n",
              "  color: #f1f1f1;\n",
              "}\n",
              "#T_2a96a_row5_col29, #T_2a96a_row17_col5 {\n",
              "  background-color: #4897c4;\n",
              "  color: #f1f1f1;\n",
              "}\n",
              "#T_2a96a_row5_col31, #T_2a96a_row8_col10, #T_2a96a_row8_col22, #T_2a96a_row11_col24, #T_2a96a_row12_col16 {\n",
              "  background-color: #b0c2de;\n",
              "  color: #000000;\n",
              "}\n",
              "#T_2a96a_row6_col0 {\n",
              "  background-color: #167bb6;\n",
              "  color: #f1f1f1;\n",
              "}\n",
              "#T_2a96a_row6_col8, #T_2a96a_row9_col32, #T_2a96a_row12_col9, #T_2a96a_row12_col13, #T_2a96a_row13_col32, #T_2a96a_row14_col32, #T_2a96a_row15_col32, #T_2a96a_row20_col32, #T_2a96a_row21_col32, #T_2a96a_row25_col21, #T_2a96a_row27_col32 {\n",
              "  background-color: #f4edf6;\n",
              "  color: #000000;\n",
              "}\n",
              "#T_2a96a_row6_col9, #T_2a96a_row11_col10, #T_2a96a_row31_col13 {\n",
              "  background-color: #f7f0f7;\n",
              "  color: #000000;\n",
              "}\n",
              "#T_2a96a_row6_col10 {\n",
              "  background-color: #04649d;\n",
              "  color: #f1f1f1;\n",
              "}\n",
              "#T_2a96a_row6_col12 {\n",
              "  background-color: #157ab5;\n",
              "  color: #f1f1f1;\n",
              "}\n",
              "#T_2a96a_row6_col14, #T_2a96a_row7_col4, #T_2a96a_row11_col6, #T_2a96a_row24_col32 {\n",
              "  background-color: #f5eff6;\n",
              "  color: #000000;\n",
              "}\n",
              "#T_2a96a_row6_col16, #T_2a96a_row6_col30, #T_2a96a_row9_col24, #T_2a96a_row13_col25, #T_2a96a_row19_col12, #T_2a96a_row21_col24, #T_2a96a_row24_col12, #T_2a96a_row24_col31, #T_2a96a_row26_col29, #T_2a96a_row28_col22 {\n",
              "  background-color: #a4bcda;\n",
              "  color: #000000;\n",
              "}\n",
              "#T_2a96a_row6_col18, #T_2a96a_row14_col12, #T_2a96a_row15_col12, #T_2a96a_row16_col2, #T_2a96a_row19_col26, #T_2a96a_row26_col12, #T_2a96a_row32_col17, #T_2a96a_row32_col30 {\n",
              "  background-color: #b8c6e0;\n",
              "  color: #000000;\n",
              "}\n",
              "#T_2a96a_row6_col19, #T_2a96a_row11_col17, #T_2a96a_row12_col19, #T_2a96a_row13_col26, #T_2a96a_row18_col17, #T_2a96a_row19_col17, #T_2a96a_row23_col0, #T_2a96a_row30_col12, #T_2a96a_row30_col17 {\n",
              "  background-color: #c1cae2;\n",
              "  color: #000000;\n",
              "}\n",
              "#T_2a96a_row6_col20, #T_2a96a_row6_col21, #T_2a96a_row6_col27, #T_2a96a_row7_col27, #T_2a96a_row9_col8, #T_2a96a_row10_col20, #T_2a96a_row13_col8, #T_2a96a_row14_col3, #T_2a96a_row21_col28, #T_2a96a_row24_col20, #T_2a96a_row27_col23, #T_2a96a_row28_col23, #T_2a96a_row29_col22, #T_2a96a_row30_col4, #T_2a96a_row32_col15, #T_2a96a_row32_col28 {\n",
              "  background-color: #dedcec;\n",
              "  color: #000000;\n",
              "}\n",
              "#T_2a96a_row6_col24, #T_2a96a_row7_col1, #T_2a96a_row9_col29, #T_2a96a_row17_col11, #T_2a96a_row18_col11, #T_2a96a_row20_col11, #T_2a96a_row21_col10, #T_2a96a_row23_col1 {\n",
              "  background-color: #8cb3d5;\n",
              "  color: #000000;\n",
              "}\n",
              "#T_2a96a_row7_col11 {\n",
              "  background-color: #034b76;\n",
              "  color: #f1f1f1;\n",
              "}\n",
              "#T_2a96a_row7_col23, #T_2a96a_row10_col19, #T_2a96a_row21_col2, #T_2a96a_row22_col12, #T_2a96a_row22_col23, #T_2a96a_row23_col16, #T_2a96a_row24_col18 {\n",
              "  background-color: #c8cde4;\n",
              "  color: #000000;\n",
              "}\n",
              "#T_2a96a_row7_col24, #T_2a96a_row9_col0, #T_2a96a_row9_col17, #T_2a96a_row10_col31, #T_2a96a_row14_col5, #T_2a96a_row20_col12, #T_2a96a_row29_col27, #T_2a96a_row30_col0 {\n",
              "  background-color: #acc0dd;\n",
              "  color: #000000;\n",
              "}\n",
              "#T_2a96a_row7_col29, #T_2a96a_row19_col25, #T_2a96a_row20_col0, #T_2a96a_row24_col17, #T_2a96a_row31_col25, #T_2a96a_row32_col0 {\n",
              "  background-color: #9fbad9;\n",
              "  color: #000000;\n",
              "}\n",
              "#T_2a96a_row7_col30, #T_2a96a_row8_col2, #T_2a96a_row8_col16, #T_2a96a_row9_col2, #T_2a96a_row13_col2, #T_2a96a_row13_col22, #T_2a96a_row14_col2, #T_2a96a_row14_col18, #T_2a96a_row15_col16, #T_2a96a_row15_col26, #T_2a96a_row16_col30, #T_2a96a_row20_col16, #T_2a96a_row20_col26, #T_2a96a_row26_col17, #T_2a96a_row27_col26, #T_2a96a_row31_col17 {\n",
              "  background-color: #c5cce3;\n",
              "  color: #000000;\n",
              "}\n",
              "#T_2a96a_row7_col32 {\n",
              "  background-color: #fcf4fa;\n",
              "  color: #000000;\n",
              "}\n",
              "#T_2a96a_row8_col4, #T_2a96a_row8_col31, #T_2a96a_row18_col0 {\n",
              "  background-color: #88b1d4;\n",
              "  color: #000000;\n",
              "}\n",
              "#T_2a96a_row8_col7 {\n",
              "  background-color: #4c99c5;\n",
              "  color: #f1f1f1;\n",
              "}\n",
              "#T_2a96a_row8_col12, #T_2a96a_row10_col22, #T_2a96a_row17_col30, #T_2a96a_row31_col4, #T_2a96a_row32_col26 {\n",
              "  background-color: #c0c9e2;\n",
              "  color: #000000;\n",
              "}\n",
              "#T_2a96a_row8_col15, #T_2a96a_row19_col1, #T_2a96a_row25_col20 {\n",
              "  background-color: #dad9ea;\n",
              "  color: #000000;\n",
              "}\n",
              "#T_2a96a_row8_col17, #T_2a96a_row12_col2, #T_2a96a_row15_col13, #T_2a96a_row15_col17, #T_2a96a_row15_col30, #T_2a96a_row18_col2, #T_2a96a_row19_col30, #T_2a96a_row20_col17, #T_2a96a_row23_col5, #T_2a96a_row26_col0, #T_2a96a_row28_col2, #T_2a96a_row32_col1 {\n",
              "  background-color: #bdc8e1;\n",
              "  color: #000000;\n",
              "}\n",
              "#T_2a96a_row8_col21, #T_2a96a_row14_col9, #T_2a96a_row14_col13, #T_2a96a_row16_col21, #T_2a96a_row17_col21, #T_2a96a_row20_col9, #T_2a96a_row20_col13, #T_2a96a_row23_col9, #T_2a96a_row23_col13, #T_2a96a_row27_col9, #T_2a96a_row27_col13, #T_2a96a_row28_col9, #T_2a96a_row28_col13 {\n",
              "  background-color: #f1ebf4;\n",
              "  color: #000000;\n",
              "}\n",
              "#T_2a96a_row8_col23, #T_2a96a_row9_col3, #T_2a96a_row9_col27, #T_2a96a_row10_col27, #T_2a96a_row13_col27, #T_2a96a_row14_col8, #T_2a96a_row14_col15, #T_2a96a_row14_col28, #T_2a96a_row15_col28, #T_2a96a_row16_col8, #T_2a96a_row20_col15, #T_2a96a_row20_col28, #T_2a96a_row32_col3 {\n",
              "  background-color: #e0dded;\n",
              "  color: #000000;\n",
              "}\n",
              "#T_2a96a_row9_col7, #T_2a96a_row17_col6, #T_2a96a_row29_col5, #T_2a96a_row31_col11 {\n",
              "  background-color: #65a3cb;\n",
              "  color: #f1f1f1;\n",
              "}\n",
              "#T_2a96a_row9_col10, #T_2a96a_row13_col10, #T_2a96a_row14_col11, #T_2a96a_row19_col5, #T_2a96a_row21_col1, #T_2a96a_row21_col26 {\n",
              "  background-color: #a1bbda;\n",
              "  color: #000000;\n",
              "}\n",
              "#T_2a96a_row9_col16, #T_2a96a_row14_col24, #T_2a96a_row22_col10, #T_2a96a_row23_col22, #T_2a96a_row24_col16, #T_2a96a_row32_col5, #T_2a96a_row32_col12, #T_2a96a_row32_col24 {\n",
              "  background-color: #a2bcda;\n",
              "  color: #000000;\n",
              "}\n",
              "#T_2a96a_row10_col6 {\n",
              "  background-color: #045f95;\n",
              "  color: #f1f1f1;\n",
              "}\n",
              "#T_2a96a_row10_col12, #T_2a96a_row15_col1, #T_2a96a_row15_col4, #T_2a96a_row22_col4, #T_2a96a_row22_col27, #T_2a96a_row30_col18 {\n",
              "  background-color: #d7d6e9;\n",
              "  color: #000000;\n",
              "}\n",
              "#T_2a96a_row11_col7 {\n",
              "  background-color: #034973;\n",
              "  color: #f1f1f1;\n",
              "}\n",
              "#T_2a96a_row11_col9, #T_2a96a_row11_col13 {\n",
              "  background-color: #fbf4f9;\n",
              "  color: #000000;\n",
              "}\n",
              "#T_2a96a_row11_col19, #T_2a96a_row18_col27, #T_2a96a_row23_col19, #T_2a96a_row23_col25, #T_2a96a_row28_col19, #T_2a96a_row29_col4 {\n",
              "  background-color: #d2d3e7;\n",
              "  color: #000000;\n",
              "}\n",
              "#T_2a96a_row11_col21 {\n",
              "  background-color: #f9f2f8;\n",
              "  color: #000000;\n",
              "}\n",
              "#T_2a96a_row11_col25, #T_2a96a_row13_col15, #T_2a96a_row14_col10, #T_2a96a_row21_col25, #T_2a96a_row25_col29, #T_2a96a_row26_col22 {\n",
              "  background-color: #a7bddb;\n",
              "  color: #000000;\n",
              "}\n",
              "#T_2a96a_row11_col31, #T_2a96a_row20_col6 {\n",
              "  background-color: #71a8ce;\n",
              "  color: #f1f1f1;\n",
              "}\n",
              "#T_2a96a_row12_col6 {\n",
              "  background-color: #056ba9;\n",
              "  color: #f1f1f1;\n",
              "}\n",
              "#T_2a96a_row12_col14, #T_2a96a_row24_col9, #T_2a96a_row29_col21 {\n",
              "  background-color: #f3edf5;\n",
              "  color: #000000;\n",
              "}\n",
              "#T_2a96a_row12_col32 {\n",
              "  background-color: #ece7f2;\n",
              "  color: #000000;\n",
              "}\n",
              "#T_2a96a_row13_col6, #T_2a96a_row17_col29, #T_2a96a_row22_col31, #T_2a96a_row27_col6, #T_2a96a_row30_col25 {\n",
              "  background-color: #73a9cf;\n",
              "  color: #f1f1f1;\n",
              "}\n",
              "#T_2a96a_row14_col4, #T_2a96a_row24_col15, #T_2a96a_row25_col8, #T_2a96a_row26_col21, #T_2a96a_row31_col16 {\n",
              "  background-color: #d8d7e9;\n",
              "  color: #000000;\n",
              "}\n",
              "#T_2a96a_row14_col6, #T_2a96a_row16_col0, #T_2a96a_row16_col24, #T_2a96a_row24_col7, #T_2a96a_row27_col11, #T_2a96a_row32_col7 {\n",
              "  background-color: #81aed2;\n",
              "  color: #f1f1f1;\n",
              "}\n",
              "#T_2a96a_row15_col11, #T_2a96a_row28_col11, #T_2a96a_row28_col31 {\n",
              "  background-color: #79abd0;\n",
              "  color: #f1f1f1;\n",
              "}\n",
              "#T_2a96a_row15_col29, #T_2a96a_row28_col6 {\n",
              "  background-color: #78abd0;\n",
              "  color: #f1f1f1;\n",
              "}\n",
              "#T_2a96a_row17_col0, #T_2a96a_row19_col29, #T_2a96a_row22_col6 {\n",
              "  background-color: #91b5d6;\n",
              "  color: #000000;\n",
              "}\n",
              "#T_2a96a_row17_col24, #T_2a96a_row20_col31, #T_2a96a_row21_col7, #T_2a96a_row26_col6 {\n",
              "  background-color: #86b0d3;\n",
              "  color: #000000;\n",
              "}\n",
              "#T_2a96a_row17_col32, #T_2a96a_row26_col32, #T_2a96a_row30_col32, #T_2a96a_row31_col27 {\n",
              "  background-color: #f5eef6;\n",
              "  color: #000000;\n",
              "}\n",
              "#T_2a96a_row21_col6, #T_2a96a_row26_col7 {\n",
              "  background-color: #5ea0ca;\n",
              "  color: #f1f1f1;\n",
              "}\n",
              "#T_2a96a_row21_col31, #T_2a96a_row29_col0, #T_2a96a_row30_col7 {\n",
              "  background-color: #83afd3;\n",
              "  color: #f1f1f1;\n",
              "}\n",
              "#T_2a96a_row22_col1 {\n",
              "  background-color: #04639b;\n",
              "  color: #f1f1f1;\n",
              "}\n",
              "#T_2a96a_row23_col11, #T_2a96a_row25_col6, #T_2a96a_row26_col11, #T_2a96a_row26_col31 {\n",
              "  background-color: #6ba5cd;\n",
              "  color: #f1f1f1;\n",
              "}\n",
              "#T_2a96a_row24_col29, #T_2a96a_row27_col29 {\n",
              "  background-color: #5a9ec9;\n",
              "  color: #f1f1f1;\n",
              "}\n",
              "#T_2a96a_row30_col6 {\n",
              "  background-color: #62a2cb;\n",
              "  color: #f1f1f1;\n",
              "}\n",
              "#T_2a96a_row31_col32 {\n",
              "  background-color: #fef6fa;\n",
              "  color: #000000;\n",
              "}\n",
              "</style>\n",
              "<table id=\"T_2a96a\" class=\"dataframe\">\n",
              "  <thead>\n",
              "    <tr>\n",
              "      <th class=\"blank level0\" >&nbsp;</th>\n",
              "      <th id=\"T_2a96a_level0_col0\" class=\"col_heading level0 col0\" >Survived</th>\n",
              "      <th id=\"T_2a96a_level0_col1\" class=\"col_heading level0 col1\" >Pclass</th>\n",
              "      <th id=\"T_2a96a_level0_col2\" class=\"col_heading level0 col2\" >Age</th>\n",
              "      <th id=\"T_2a96a_level0_col3\" class=\"col_heading level0 col3\" >SibSp</th>\n",
              "      <th id=\"T_2a96a_level0_col4\" class=\"col_heading level0 col4\" >Parch</th>\n",
              "      <th id=\"T_2a96a_level0_col5\" class=\"col_heading level0 col5\" >Fare</th>\n",
              "      <th id=\"T_2a96a_level0_col6\" class=\"col_heading level0 col6\" >Sex_female</th>\n",
              "      <th id=\"T_2a96a_level0_col7\" class=\"col_heading level0 col7\" >Sex_male</th>\n",
              "      <th id=\"T_2a96a_level0_col8\" class=\"col_heading level0 col8\" >Title_Category_Master</th>\n",
              "      <th id=\"T_2a96a_level0_col9\" class=\"col_heading level0 col9\" >Title_Category_Military</th>\n",
              "      <th id=\"T_2a96a_level0_col10\" class=\"col_heading level0 col10\" >Title_Category_Miss</th>\n",
              "      <th id=\"T_2a96a_level0_col11\" class=\"col_heading level0 col11\" >Title_Category_Mr</th>\n",
              "      <th id=\"T_2a96a_level0_col12\" class=\"col_heading level0 col12\" >Title_Category_Mrs</th>\n",
              "      <th id=\"T_2a96a_level0_col13\" class=\"col_heading level0 col13\" >Title_Category_Nobility</th>\n",
              "      <th id=\"T_2a96a_level0_col14\" class=\"col_heading level0 col14\" >Title_Category_Professional</th>\n",
              "      <th id=\"T_2a96a_level0_col15\" class=\"col_heading level0 col15\" >Cabin_Reduced_A</th>\n",
              "      <th id=\"T_2a96a_level0_col16\" class=\"col_heading level0 col16\" >Cabin_Reduced_B</th>\n",
              "      <th id=\"T_2a96a_level0_col17\" class=\"col_heading level0 col17\" >Cabin_Reduced_C</th>\n",
              "      <th id=\"T_2a96a_level0_col18\" class=\"col_heading level0 col18\" >Cabin_Reduced_D</th>\n",
              "      <th id=\"T_2a96a_level0_col19\" class=\"col_heading level0 col19\" >Cabin_Reduced_E</th>\n",
              "      <th id=\"T_2a96a_level0_col20\" class=\"col_heading level0 col20\" >Cabin_Reduced_F</th>\n",
              "      <th id=\"T_2a96a_level0_col21\" class=\"col_heading level0 col21\" >Cabin_Reduced_G</th>\n",
              "      <th id=\"T_2a96a_level0_col22\" class=\"col_heading level0 col22\" >Cabin_Reduced_Unknown</th>\n",
              "      <th id=\"T_2a96a_level0_col23\" class=\"col_heading level0 col23\" >Ticket_Prefix_Grouped_A5</th>\n",
              "      <th id=\"T_2a96a_level0_col24\" class=\"col_heading level0 col24\" >Ticket_Prefix_Grouped_C</th>\n",
              "      <th id=\"T_2a96a_level0_col25\" class=\"col_heading level0 col25\" >Ticket_Prefix_Grouped_NUMERIC</th>\n",
              "      <th id=\"T_2a96a_level0_col26\" class=\"col_heading level0 col26\" >Ticket_Prefix_Grouped_OTHER</th>\n",
              "      <th id=\"T_2a96a_level0_col27\" class=\"col_heading level0 col27\" >Ticket_Prefix_Grouped_SC</th>\n",
              "      <th id=\"T_2a96a_level0_col28\" class=\"col_heading level0 col28\" >Ticket_Prefix_Grouped_STONO</th>\n",
              "      <th id=\"T_2a96a_level0_col29\" class=\"col_heading level0 col29\" >Embarked_Cherbourg</th>\n",
              "      <th id=\"T_2a96a_level0_col30\" class=\"col_heading level0 col30\" >Embarked_Queenstown</th>\n",
              "      <th id=\"T_2a96a_level0_col31\" class=\"col_heading level0 col31\" >Embarked_Southampton</th>\n",
              "      <th id=\"T_2a96a_level0_col32\" class=\"col_heading level0 col32\" >Embarked_Unknown</th>\n",
              "    </tr>\n",
              "  </thead>\n",
              "  <tbody>\n",
              "    <tr>\n",
              "      <th id=\"T_2a96a_level0_row0\" class=\"row_heading level0 row0\" >Survived</th>\n",
              "      <td id=\"T_2a96a_row0_col0\" class=\"data row0 col0\" >1.000000</td>\n",
              "      <td id=\"T_2a96a_row0_col1\" class=\"data row0 col1\" >-0.338481</td>\n",
              "      <td id=\"T_2a96a_row0_col2\" class=\"data row0 col2\" >0.089941</td>\n",
              "      <td id=\"T_2a96a_row0_col3\" class=\"data row0 col3\" >-0.035322</td>\n",
              "      <td id=\"T_2a96a_row0_col4\" class=\"data row0 col4\" >0.081629</td>\n",
              "      <td id=\"T_2a96a_row0_col5\" class=\"data row0 col5\" >0.257307</td>\n",
              "      <td id=\"T_2a96a_row0_col6\" class=\"data row0 col6\" >0.543351</td>\n",
              "      <td id=\"T_2a96a_row0_col7\" class=\"data row0 col7\" >-0.543351</td>\n",
              "      <td id=\"T_2a96a_row0_col8\" class=\"data row0 col8\" >0.085221</td>\n",
              "      <td id=\"T_2a96a_row0_col9\" class=\"data row0 col9\" >0.002496</td>\n",
              "      <td id=\"T_2a96a_row0_col10\" class=\"data row0 col10\" >0.335636</td>\n",
              "      <td id=\"T_2a96a_row0_col11\" class=\"data row0 col11\" >-0.549199</td>\n",
              "      <td id=\"T_2a96a_row0_col12\" class=\"data row0 col12\" >0.341994</td>\n",
              "      <td id=\"T_2a96a_row0_col13\" class=\"data row0 col13\" >0.033391</td>\n",
              "      <td id=\"T_2a96a_row0_col14\" class=\"data row0 col14\" >-0.038299</td>\n",
              "      <td id=\"T_2a96a_row0_col15\" class=\"data row0 col15\" >0.022287</td>\n",
              "      <td id=\"T_2a96a_row0_col16\" class=\"data row0 col16\" >0.175095</td>\n",
              "      <td id=\"T_2a96a_row0_col17\" class=\"data row0 col17\" >0.114652</td>\n",
              "      <td id=\"T_2a96a_row0_col18\" class=\"data row0 col18\" >0.150716</td>\n",
              "      <td id=\"T_2a96a_row0_col19\" class=\"data row0 col19\" >0.145321</td>\n",
              "      <td id=\"T_2a96a_row0_col20\" class=\"data row0 col20\" >0.057935</td>\n",
              "      <td id=\"T_2a96a_row0_col21\" class=\"data row0 col21\" >0.016040</td>\n",
              "      <td id=\"T_2a96a_row0_col22\" class=\"data row0 col22\" >-0.319572</td>\n",
              "      <td id=\"T_2a96a_row0_col23\" class=\"data row0 col23\" >-0.092199</td>\n",
              "      <td id=\"T_2a96a_row0_col24\" class=\"data row0 col24\" >0.075785</td>\n",
              "      <td id=\"T_2a96a_row0_col25\" class=\"data row0 col25\" >0.001492</td>\n",
              "      <td id=\"T_2a96a_row0_col26\" class=\"data row0 col26\" >-0.074305</td>\n",
              "      <td id=\"T_2a96a_row0_col27\" class=\"data row0 col27\" >0.024878</td>\n",
              "      <td id=\"T_2a96a_row0_col28\" class=\"data row0 col28\" >0.017895</td>\n",
              "      <td id=\"T_2a96a_row0_col29\" class=\"data row0 col29\" >0.168240</td>\n",
              "      <td id=\"T_2a96a_row0_col30\" class=\"data row0 col30\" >0.003650</td>\n",
              "      <td id=\"T_2a96a_row0_col31\" class=\"data row0 col31\" >-0.155660</td>\n",
              "      <td id=\"T_2a96a_row0_col32\" class=\"data row0 col32\" >0.060095</td>\n",
              "    </tr>\n",
              "    <tr>\n",
              "      <th id=\"T_2a96a_level0_row1\" class=\"row_heading level0 row1\" >Pclass</th>\n",
              "      <td id=\"T_2a96a_row1_col0\" class=\"data row1 col0\" >-0.338481</td>\n",
              "      <td id=\"T_2a96a_row1_col1\" class=\"data row1 col1\" >1.000000</td>\n",
              "      <td id=\"T_2a96a_row1_col2\" class=\"data row1 col2\" >-0.183331</td>\n",
              "      <td id=\"T_2a96a_row1_col3\" class=\"data row1 col3\" >0.083081</td>\n",
              "      <td id=\"T_2a96a_row1_col4\" class=\"data row1 col4\" >0.018443</td>\n",
              "      <td id=\"T_2a96a_row1_col5\" class=\"data row1 col5\" >-0.549500</td>\n",
              "      <td id=\"T_2a96a_row1_col6\" class=\"data row1 col6\" >-0.131900</td>\n",
              "      <td id=\"T_2a96a_row1_col7\" class=\"data row1 col7\" >0.131900</td>\n",
              "      <td id=\"T_2a96a_row1_col8\" class=\"data row1 col8\" >0.082081</td>\n",
              "      <td id=\"T_2a96a_row1_col9\" class=\"data row1 col9\" >-0.117649</td>\n",
              "      <td id=\"T_2a96a_row1_col10\" class=\"data row1 col10\" >-0.010261</td>\n",
              "      <td id=\"T_2a96a_row1_col11\" class=\"data row1 col11\" >0.142698</td>\n",
              "      <td id=\"T_2a96a_row1_col12\" class=\"data row1 col12\" >-0.153758</td>\n",
              "      <td id=\"T_2a96a_row1_col13\" class=\"data row1 col13\" >-0.117649</td>\n",
              "      <td id=\"T_2a96a_row1_col14\" class=\"data row1 col14\" >-0.100953</td>\n",
              "      <td id=\"T_2a96a_row1_col15\" class=\"data row1 col15\" >-0.204934</td>\n",
              "      <td id=\"T_2a96a_row1_col16\" class=\"data row1 col16\" >-0.369572</td>\n",
              "      <td id=\"T_2a96a_row1_col17\" class=\"data row1 col17\" >-0.417048</td>\n",
              "      <td id=\"T_2a96a_row1_col18\" class=\"data row1 col18\" >-0.278690</td>\n",
              "      <td id=\"T_2a96a_row1_col19\" class=\"data row1 col19\" >-0.230091</td>\n",
              "      <td id=\"T_2a96a_row1_col20\" class=\"data row1 col20\" >0.011063</td>\n",
              "      <td id=\"T_2a96a_row1_col21\" class=\"data row1 col21\" >0.055561</td>\n",
              "      <td id=\"T_2a96a_row1_col22\" class=\"data row1 col22\" >0.722607</td>\n",
              "      <td id=\"T_2a96a_row1_col23\" class=\"data row1 col23\" >0.128545</td>\n",
              "      <td id=\"T_2a96a_row1_col24\" class=\"data row1 col24\" >-0.250982</td>\n",
              "      <td id=\"T_2a96a_row1_col25\" class=\"data row1 col25\" >0.079763</td>\n",
              "      <td id=\"T_2a96a_row1_col26\" class=\"data row1 col26\" >0.079080</td>\n",
              "      <td id=\"T_2a96a_row1_col27\" class=\"data row1 col27\" >-0.041696</td>\n",
              "      <td id=\"T_2a96a_row1_col28\" class=\"data row1 col28\" >0.118804</td>\n",
              "      <td id=\"T_2a96a_row1_col29\" class=\"data row1 col29\" >-0.243292</td>\n",
              "      <td id=\"T_2a96a_row1_col30\" class=\"data row1 col30\" >0.221009</td>\n",
              "      <td id=\"T_2a96a_row1_col31\" class=\"data row1 col31\" >0.081720</td>\n",
              "      <td id=\"T_2a96a_row1_col32\" class=\"data row1 col32\" >-0.074282</td>\n",
              "    </tr>\n",
              "    <tr>\n",
              "      <th id=\"T_2a96a_level0_row2\" class=\"row_heading level0 row2\" >Age</th>\n",
              "      <td id=\"T_2a96a_row2_col0\" class=\"data row2 col0\" >0.089941</td>\n",
              "      <td id=\"T_2a96a_row2_col1\" class=\"data row2 col1\" >-0.183331</td>\n",
              "      <td id=\"T_2a96a_row2_col2\" class=\"data row2 col2\" >1.000000</td>\n",
              "      <td id=\"T_2a96a_row2_col3\" class=\"data row2 col3\" >-0.026309</td>\n",
              "      <td id=\"T_2a96a_row2_col4\" class=\"data row2 col4\" >0.118371</td>\n",
              "      <td id=\"T_2a96a_row2_col5\" class=\"data row2 col5\" >0.103554</td>\n",
              "      <td id=\"T_2a96a_row2_col6\" class=\"data row2 col6\" >0.052524</td>\n",
              "      <td id=\"T_2a96a_row2_col7\" class=\"data row2 col7\" >-0.052524</td>\n",
              "      <td id=\"T_2a96a_row2_col8\" class=\"data row2 col8\" >0.041641</td>\n",
              "      <td id=\"T_2a96a_row2_col9\" class=\"data row2 col9\" >0.042305</td>\n",
              "      <td id=\"T_2a96a_row2_col10\" class=\"data row2 col10\" >-0.002680</td>\n",
              "      <td id=\"T_2a96a_row2_col11\" class=\"data row2 col11\" >-0.086957</td>\n",
              "      <td id=\"T_2a96a_row2_col12\" class=\"data row2 col12\" >0.070001</td>\n",
              "      <td id=\"T_2a96a_row2_col13\" class=\"data row2 col13\" >0.039561</td>\n",
              "      <td id=\"T_2a96a_row2_col14\" class=\"data row2 col14\" >0.040630</td>\n",
              "      <td id=\"T_2a96a_row2_col15\" class=\"data row2 col15\" >0.003417</td>\n",
              "      <td id=\"T_2a96a_row2_col16\" class=\"data row2 col16\" >0.095172</td>\n",
              "      <td id=\"T_2a96a_row2_col17\" class=\"data row2 col17\" >0.045648</td>\n",
              "      <td id=\"T_2a96a_row2_col18\" class=\"data row2 col18\" >0.072008</td>\n",
              "      <td id=\"T_2a96a_row2_col19\" class=\"data row2 col19\" >0.069540</td>\n",
              "      <td id=\"T_2a96a_row2_col20\" class=\"data row2 col20\" >0.011215</td>\n",
              "      <td id=\"T_2a96a_row2_col21\" class=\"data row2 col21\" >0.030974</td>\n",
              "      <td id=\"T_2a96a_row2_col22\" class=\"data row2 col22\" >-0.150247</td>\n",
              "      <td id=\"T_2a96a_row2_col23\" class=\"data row2 col23\" >0.022075</td>\n",
              "      <td id=\"T_2a96a_row2_col24\" class=\"data row2 col24\" >0.020398</td>\n",
              "      <td id=\"T_2a96a_row2_col25\" class=\"data row2 col25\" >-0.056692</td>\n",
              "      <td id=\"T_2a96a_row2_col26\" class=\"data row2 col26\" >0.015272</td>\n",
              "      <td id=\"T_2a96a_row2_col27\" class=\"data row2 col27\" >0.006416</td>\n",
              "      <td id=\"T_2a96a_row2_col28\" class=\"data row2 col28\" >0.070766</td>\n",
              "      <td id=\"T_2a96a_row2_col29\" class=\"data row2 col29\" >-0.032240</td>\n",
              "      <td id=\"T_2a96a_row2_col30\" class=\"data row2 col30\" >-0.337683</td>\n",
              "      <td id=\"T_2a96a_row2_col31\" class=\"data row2 col31\" >0.237399</td>\n",
              "      <td id=\"T_2a96a_row2_col32\" class=\"data row2 col32\" >0.025949</td>\n",
              "    </tr>\n",
              "    <tr>\n",
              "      <th id=\"T_2a96a_level0_row3\" class=\"row_heading level0 row3\" >SibSp</th>\n",
              "      <td id=\"T_2a96a_row3_col0\" class=\"data row3 col0\" >-0.035322</td>\n",
              "      <td id=\"T_2a96a_row3_col1\" class=\"data row3 col1\" >0.083081</td>\n",
              "      <td id=\"T_2a96a_row3_col2\" class=\"data row3 col2\" >-0.026309</td>\n",
              "      <td id=\"T_2a96a_row3_col3\" class=\"data row3 col3\" >1.000000</td>\n",
              "      <td id=\"T_2a96a_row3_col4\" class=\"data row3 col4\" >0.414838</td>\n",
              "      <td id=\"T_2a96a_row3_col5\" class=\"data row3 col5\" >0.159651</td>\n",
              "      <td id=\"T_2a96a_row3_col6\" class=\"data row3 col6\" >0.114631</td>\n",
              "      <td id=\"T_2a96a_row3_col7\" class=\"data row3 col7\" >-0.114631</td>\n",
              "      <td id=\"T_2a96a_row3_col8\" class=\"data row3 col8\" >0.349559</td>\n",
              "      <td id=\"T_2a96a_row3_col9\" class=\"data row3 col9\" >-0.022017</td>\n",
              "      <td id=\"T_2a96a_row3_col10\" class=\"data row3 col10\" >0.083462</td>\n",
              "      <td id=\"T_2a96a_row3_col11\" class=\"data row3 col11\" >-0.250489</td>\n",
              "      <td id=\"T_2a96a_row3_col12\" class=\"data row3 col12\" >0.061668</td>\n",
              "      <td id=\"T_2a96a_row3_col13\" class=\"data row3 col13\" >-0.008384</td>\n",
              "      <td id=\"T_2a96a_row3_col14\" class=\"data row3 col14\" >-0.015279</td>\n",
              "      <td id=\"T_2a96a_row3_col15\" class=\"data row3 col15\" >-0.046266</td>\n",
              "      <td id=\"T_2a96a_row3_col16\" class=\"data row3 col16\" >-0.034538</td>\n",
              "      <td id=\"T_2a96a_row3_col17\" class=\"data row3 col17\" >0.029251</td>\n",
              "      <td id=\"T_2a96a_row3_col18\" class=\"data row3 col18\" >-0.017575</td>\n",
              "      <td id=\"T_2a96a_row3_col19\" class=\"data row3 col19\" >-0.036865</td>\n",
              "      <td id=\"T_2a96a_row3_col20\" class=\"data row3 col20\" >0.001706</td>\n",
              "      <td id=\"T_2a96a_row3_col21\" class=\"data row3 col21\" >-0.001402</td>\n",
              "      <td id=\"T_2a96a_row3_col22\" class=\"data row3 col22\" >0.039260</td>\n",
              "      <td id=\"T_2a96a_row3_col23\" class=\"data row3 col23\" >-0.046876</td>\n",
              "      <td id=\"T_2a96a_row3_col24\" class=\"data row3 col24\" >0.189374</td>\n",
              "      <td id=\"T_2a96a_row3_col25\" class=\"data row3 col25\" >-0.080768</td>\n",
              "      <td id=\"T_2a96a_row3_col26\" class=\"data row3 col26\" >-0.061638</td>\n",
              "      <td id=\"T_2a96a_row3_col27\" class=\"data row3 col27\" >-0.006633</td>\n",
              "      <td id=\"T_2a96a_row3_col28\" class=\"data row3 col28\" >-0.039188</td>\n",
              "      <td id=\"T_2a96a_row3_col29\" class=\"data row3 col29\" >-0.059528</td>\n",
              "      <td id=\"T_2a96a_row3_col30\" class=\"data row3 col30\" >-0.026354</td>\n",
              "      <td id=\"T_2a96a_row3_col31\" class=\"data row3 col31\" >0.070941</td>\n",
              "      <td id=\"T_2a96a_row3_col32\" class=\"data row3 col32\" >-0.022508</td>\n",
              "    </tr>\n",
              "    <tr>\n",
              "      <th id=\"T_2a96a_level0_row4\" class=\"row_heading level0 row4\" >Parch</th>\n",
              "      <td id=\"T_2a96a_row4_col0\" class=\"data row4 col0\" >0.081629</td>\n",
              "      <td id=\"T_2a96a_row4_col1\" class=\"data row4 col1\" >0.018443</td>\n",
              "      <td id=\"T_2a96a_row4_col2\" class=\"data row4 col2\" >0.118371</td>\n",
              "      <td id=\"T_2a96a_row4_col3\" class=\"data row4 col3\" >0.414838</td>\n",
              "      <td id=\"T_2a96a_row4_col4\" class=\"data row4 col4\" >1.000000</td>\n",
              "      <td id=\"T_2a96a_row4_col5\" class=\"data row4 col5\" >0.216225</td>\n",
              "      <td id=\"T_2a96a_row4_col6\" class=\"data row4 col6\" >0.245489</td>\n",
              "      <td id=\"T_2a96a_row4_col7\" class=\"data row4 col7\" >-0.245489</td>\n",
              "      <td id=\"T_2a96a_row4_col8\" class=\"data row4 col8\" >0.267344</td>\n",
              "      <td id=\"T_2a96a_row4_col9\" class=\"data row4 col9\" >-0.016934</td>\n",
              "      <td id=\"T_2a96a_row4_col10\" class=\"data row4 col10\" >0.100998</td>\n",
              "      <td id=\"T_2a96a_row4_col11\" class=\"data row4 col11\" >-0.333905</td>\n",
              "      <td id=\"T_2a96a_row4_col12\" class=\"data row4 col12\" >0.223575</td>\n",
              "      <td id=\"T_2a96a_row4_col13\" class=\"data row4 col13\" >-0.035583</td>\n",
              "      <td id=\"T_2a96a_row4_col14\" class=\"data row4 col14\" >-0.046019</td>\n",
              "      <td id=\"T_2a96a_row4_col15\" class=\"data row4 col15\" >-0.040325</td>\n",
              "      <td id=\"T_2a96a_row4_col16\" class=\"data row4 col16\" >0.056498</td>\n",
              "      <td id=\"T_2a96a_row4_col17\" class=\"data row4 col17\" >0.030736</td>\n",
              "      <td id=\"T_2a96a_row4_col18\" class=\"data row4 col18\" >-0.019125</td>\n",
              "      <td id=\"T_2a96a_row4_col19\" class=\"data row4 col19\" >-0.016554</td>\n",
              "      <td id=\"T_2a96a_row4_col20\" class=\"data row4 col20\" >0.023694</td>\n",
              "      <td id=\"T_2a96a_row4_col21\" class=\"data row4 col21\" >0.072388</td>\n",
              "      <td id=\"T_2a96a_row4_col22\" class=\"data row4 col22\" >-0.038319</td>\n",
              "      <td id=\"T_2a96a_row4_col23\" class=\"data row4 col23\" >-0.055225</td>\n",
              "      <td id=\"T_2a96a_row4_col24\" class=\"data row4 col24\" >0.137580</td>\n",
              "      <td id=\"T_2a96a_row4_col25\" class=\"data row4 col25\" >-0.035762</td>\n",
              "      <td id=\"T_2a96a_row4_col26\" class=\"data row4 col26\" >-0.066900</td>\n",
              "      <td id=\"T_2a96a_row4_col27\" class=\"data row4 col27\" >0.025590</td>\n",
              "      <td id=\"T_2a96a_row4_col28\" class=\"data row4 col28\" >-0.068016</td>\n",
              "      <td id=\"T_2a96a_row4_col29\" class=\"data row4 col29\" >-0.011069</td>\n",
              "      <td id=\"T_2a96a_row4_col30\" class=\"data row4 col30\" >-0.081228</td>\n",
              "      <td id=\"T_2a96a_row4_col31\" class=\"data row4 col31\" >0.063036</td>\n",
              "      <td id=\"T_2a96a_row4_col32\" class=\"data row4 col32\" >-0.022467</td>\n",
              "    </tr>\n",
              "    <tr>\n",
              "      <th id=\"T_2a96a_level0_row5\" class=\"row_heading level0 row5\" >Fare</th>\n",
              "      <td id=\"T_2a96a_row5_col0\" class=\"data row5 col0\" >0.257307</td>\n",
              "      <td id=\"T_2a96a_row5_col1\" class=\"data row5 col1\" >-0.549500</td>\n",
              "      <td id=\"T_2a96a_row5_col2\" class=\"data row5 col2\" >0.103554</td>\n",
              "      <td id=\"T_2a96a_row5_col3\" class=\"data row5 col3\" >0.159651</td>\n",
              "      <td id=\"T_2a96a_row5_col4\" class=\"data row5 col4\" >0.216225</td>\n",
              "      <td id=\"T_2a96a_row5_col5\" class=\"data row5 col5\" >1.000000</td>\n",
              "      <td id=\"T_2a96a_row5_col6\" class=\"data row5 col6\" >0.182333</td>\n",
              "      <td id=\"T_2a96a_row5_col7\" class=\"data row5 col7\" >-0.182333</td>\n",
              "      <td id=\"T_2a96a_row5_col8\" class=\"data row5 col8\" >0.010908</td>\n",
              "      <td id=\"T_2a96a_row5_col9\" class=\"data row5 col9\" >0.008797</td>\n",
              "      <td id=\"T_2a96a_row5_col10\" class=\"data row5 col10\" >0.119518</td>\n",
              "      <td id=\"T_2a96a_row5_col11\" class=\"data row5 col11\" >-0.183766</td>\n",
              "      <td id=\"T_2a96a_row5_col12\" class=\"data row5 col12\" >0.107259</td>\n",
              "      <td id=\"T_2a96a_row5_col13\" class=\"data row5 col13\" >0.015044</td>\n",
              "      <td id=\"T_2a96a_row5_col14\" class=\"data row5 col14\" >0.006671</td>\n",
              "      <td id=\"T_2a96a_row5_col15\" class=\"data row5 col15\" >0.019549</td>\n",
              "      <td id=\"T_2a96a_row5_col16\" class=\"data row5 col16\" >0.386297</td>\n",
              "      <td id=\"T_2a96a_row5_col17\" class=\"data row5 col17\" >0.364318</td>\n",
              "      <td id=\"T_2a96a_row5_col18\" class=\"data row5 col18\" >0.098878</td>\n",
              "      <td id=\"T_2a96a_row5_col19\" class=\"data row5 col19\" >0.053717</td>\n",
              "      <td id=\"T_2a96a_row5_col20\" class=\"data row5 col20\" >-0.033093</td>\n",
              "      <td id=\"T_2a96a_row5_col21\" class=\"data row5 col21\" >-0.025180</td>\n",
              "      <td id=\"T_2a96a_row5_col22\" class=\"data row5 col22\" >-0.482732</td>\n",
              "      <td id=\"T_2a96a_row5_col23\" class=\"data row5 col23\" >-0.071882</td>\n",
              "      <td id=\"T_2a96a_row5_col24\" class=\"data row5 col24\" >0.344823</td>\n",
              "      <td id=\"T_2a96a_row5_col25\" class=\"data row5 col25\" >-0.173170</td>\n",
              "      <td id=\"T_2a96a_row5_col26\" class=\"data row5 col26\" >-0.068510</td>\n",
              "      <td id=\"T_2a96a_row5_col27\" class=\"data row5 col27\" >-0.025140</td>\n",
              "      <td id=\"T_2a96a_row5_col28\" class=\"data row5 col28\" >-0.068035</td>\n",
              "      <td id=\"T_2a96a_row5_col29\" class=\"data row5 col29\" >0.269335</td>\n",
              "      <td id=\"T_2a96a_row5_col30\" class=\"data row5 col30\" >-0.117216</td>\n",
              "      <td id=\"T_2a96a_row5_col31\" class=\"data row5 col31\" >-0.166603</td>\n",
              "      <td id=\"T_2a96a_row5_col32\" class=\"data row5 col32\" >0.045646</td>\n",
              "    </tr>\n",
              "    <tr>\n",
              "      <th id=\"T_2a96a_level0_row6\" class=\"row_heading level0 row6\" >Sex_female</th>\n",
              "      <td id=\"T_2a96a_row6_col0\" class=\"data row6 col0\" >0.543351</td>\n",
              "      <td id=\"T_2a96a_row6_col1\" class=\"data row6 col1\" >-0.131900</td>\n",
              "      <td id=\"T_2a96a_row6_col2\" class=\"data row6 col2\" >0.052524</td>\n",
              "      <td id=\"T_2a96a_row6_col3\" class=\"data row6 col3\" >0.114631</td>\n",
              "      <td id=\"T_2a96a_row6_col4\" class=\"data row6 col4\" >0.245489</td>\n",
              "      <td id=\"T_2a96a_row6_col5\" class=\"data row6 col5\" >0.182333</td>\n",
              "      <td id=\"T_2a96a_row6_col6\" class=\"data row6 col6\" >1.000000</td>\n",
              "      <td id=\"T_2a96a_row6_col7\" class=\"data row6 col7\" >-1.000000</td>\n",
              "      <td id=\"T_2a96a_row6_col8\" class=\"data row6 col8\" >-0.159934</td>\n",
              "      <td id=\"T_2a96a_row6_col9\" class=\"data row6 col9\" >-0.055417</td>\n",
              "      <td id=\"T_2a96a_row6_col10\" class=\"data row6 col10\" >0.693916</td>\n",
              "      <td id=\"T_2a96a_row6_col11\" class=\"data row6 col11\" >-0.867334</td>\n",
              "      <td id=\"T_2a96a_row6_col12\" class=\"data row6 col12\" >0.550146</td>\n",
              "      <td id=\"T_2a96a_row6_col13\" class=\"data row6 col13\" >0.007483</td>\n",
              "      <td id=\"T_2a96a_row6_col14\" class=\"data row6 col14\" >-0.070171</td>\n",
              "      <td id=\"T_2a96a_row6_col15\" class=\"data row6 col15\" >-0.078271</td>\n",
              "      <td id=\"T_2a96a_row6_col16\" class=\"data row6 col16\" >0.109689</td>\n",
              "      <td id=\"T_2a96a_row6_col17\" class=\"data row6 col17\" >0.058649</td>\n",
              "      <td id=\"T_2a96a_row6_col18\" class=\"data row6 col18\" >0.079248</td>\n",
              "      <td id=\"T_2a96a_row6_col19\" class=\"data row6 col19\" >0.047003</td>\n",
              "      <td id=\"T_2a96a_row6_col20\" class=\"data row6 col20\" >0.008202</td>\n",
              "      <td id=\"T_2a96a_row6_col21\" class=\"data row6 col21\" >0.091031</td>\n",
              "      <td id=\"T_2a96a_row6_col22\" class=\"data row6 col22\" >-0.142608</td>\n",
              "      <td id=\"T_2a96a_row6_col23\" class=\"data row6 col23\" >-0.083638</td>\n",
              "      <td id=\"T_2a96a_row6_col24\" class=\"data row6 col24\" >0.067944</td>\n",
              "      <td id=\"T_2a96a_row6_col25\" class=\"data row6 col25\" >0.032507</td>\n",
              "      <td id=\"T_2a96a_row6_col26\" class=\"data row6 col26\" >-0.087247</td>\n",
              "      <td id=\"T_2a96a_row6_col27\" class=\"data row6 col27\" >0.000154</td>\n",
              "      <td id=\"T_2a96a_row6_col28\" class=\"data row6 col28\" >-0.022434</td>\n",
              "      <td id=\"T_2a96a_row6_col29\" class=\"data row6 col29\" >0.082853</td>\n",
              "      <td id=\"T_2a96a_row6_col30\" class=\"data row6 col30\" >0.074115</td>\n",
              "      <td id=\"T_2a96a_row6_col31\" class=\"data row6 col31\" >-0.125722</td>\n",
              "      <td id=\"T_2a96a_row6_col32\" class=\"data row6 col32\" >0.064296</td>\n",
              "    </tr>\n",
              "    <tr>\n",
              "      <th id=\"T_2a96a_level0_row7\" class=\"row_heading level0 row7\" >Sex_male</th>\n",
              "      <td id=\"T_2a96a_row7_col0\" class=\"data row7 col0\" >-0.543351</td>\n",
              "      <td id=\"T_2a96a_row7_col1\" class=\"data row7 col1\" >0.131900</td>\n",
              "      <td id=\"T_2a96a_row7_col2\" class=\"data row7 col2\" >-0.052524</td>\n",
              "      <td id=\"T_2a96a_row7_col3\" class=\"data row7 col3\" >-0.114631</td>\n",
              "      <td id=\"T_2a96a_row7_col4\" class=\"data row7 col4\" >-0.245489</td>\n",
              "      <td id=\"T_2a96a_row7_col5\" class=\"data row7 col5\" >-0.182333</td>\n",
              "      <td id=\"T_2a96a_row7_col6\" class=\"data row7 col6\" >-1.000000</td>\n",
              "      <td id=\"T_2a96a_row7_col7\" class=\"data row7 col7\" >1.000000</td>\n",
              "      <td id=\"T_2a96a_row7_col8\" class=\"data row7 col8\" >0.159934</td>\n",
              "      <td id=\"T_2a96a_row7_col9\" class=\"data row7 col9\" >0.055417</td>\n",
              "      <td id=\"T_2a96a_row7_col10\" class=\"data row7 col10\" >-0.693916</td>\n",
              "      <td id=\"T_2a96a_row7_col11\" class=\"data row7 col11\" >0.867334</td>\n",
              "      <td id=\"T_2a96a_row7_col12\" class=\"data row7 col12\" >-0.550146</td>\n",
              "      <td id=\"T_2a96a_row7_col13\" class=\"data row7 col13\" >-0.007483</td>\n",
              "      <td id=\"T_2a96a_row7_col14\" class=\"data row7 col14\" >0.070171</td>\n",
              "      <td id=\"T_2a96a_row7_col15\" class=\"data row7 col15\" >0.078271</td>\n",
              "      <td id=\"T_2a96a_row7_col16\" class=\"data row7 col16\" >-0.109689</td>\n",
              "      <td id=\"T_2a96a_row7_col17\" class=\"data row7 col17\" >-0.058649</td>\n",
              "      <td id=\"T_2a96a_row7_col18\" class=\"data row7 col18\" >-0.079248</td>\n",
              "      <td id=\"T_2a96a_row7_col19\" class=\"data row7 col19\" >-0.047003</td>\n",
              "      <td id=\"T_2a96a_row7_col20\" class=\"data row7 col20\" >-0.008202</td>\n",
              "      <td id=\"T_2a96a_row7_col21\" class=\"data row7 col21\" >-0.091031</td>\n",
              "      <td id=\"T_2a96a_row7_col22\" class=\"data row7 col22\" >0.142608</td>\n",
              "      <td id=\"T_2a96a_row7_col23\" class=\"data row7 col23\" >0.083638</td>\n",
              "      <td id=\"T_2a96a_row7_col24\" class=\"data row7 col24\" >-0.067944</td>\n",
              "      <td id=\"T_2a96a_row7_col25\" class=\"data row7 col25\" >-0.032507</td>\n",
              "      <td id=\"T_2a96a_row7_col26\" class=\"data row7 col26\" >0.087247</td>\n",
              "      <td id=\"T_2a96a_row7_col27\" class=\"data row7 col27\" >-0.000154</td>\n",
              "      <td id=\"T_2a96a_row7_col28\" class=\"data row7 col28\" >0.022434</td>\n",
              "      <td id=\"T_2a96a_row7_col29\" class=\"data row7 col29\" >-0.082853</td>\n",
              "      <td id=\"T_2a96a_row7_col30\" class=\"data row7 col30\" >-0.074115</td>\n",
              "      <td id=\"T_2a96a_row7_col31\" class=\"data row7 col31\" >0.125722</td>\n",
              "      <td id=\"T_2a96a_row7_col32\" class=\"data row7 col32\" >-0.064296</td>\n",
              "    </tr>\n",
              "    <tr>\n",
              "      <th id=\"T_2a96a_level0_row8\" class=\"row_heading level0 row8\" >Title_Category_Master</th>\n",
              "      <td id=\"T_2a96a_row8_col0\" class=\"data row8 col0\" >0.085221</td>\n",
              "      <td id=\"T_2a96a_row8_col1\" class=\"data row8 col1\" >0.082081</td>\n",
              "      <td id=\"T_2a96a_row8_col2\" class=\"data row8 col2\" >0.041641</td>\n",
              "      <td id=\"T_2a96a_row8_col3\" class=\"data row8 col3\" >0.349559</td>\n",
              "      <td id=\"T_2a96a_row8_col4\" class=\"data row8 col4\" >0.267344</td>\n",
              "      <td id=\"T_2a96a_row8_col5\" class=\"data row8 col5\" >0.010908</td>\n",
              "      <td id=\"T_2a96a_row8_col6\" class=\"data row8 col6\" >-0.159934</td>\n",
              "      <td id=\"T_2a96a_row8_col7\" class=\"data row8 col7\" >0.159934</td>\n",
              "      <td id=\"T_2a96a_row8_col8\" class=\"data row8 col8\" >1.000000</td>\n",
              "      <td id=\"T_2a96a_row8_col9\" class=\"data row8 col9\" >-0.016287</td>\n",
              "      <td id=\"T_2a96a_row8_col10\" class=\"data row8 col10\" >-0.110981</td>\n",
              "      <td id=\"T_2a96a_row8_col11\" class=\"data row8 col11\" >-0.254903</td>\n",
              "      <td id=\"T_2a96a_row8_col12\" class=\"data row8 col12\" >-0.087987</td>\n",
              "      <td id=\"T_2a96a_row8_col13\" class=\"data row8 col13\" >-0.016287</td>\n",
              "      <td id=\"T_2a96a_row8_col14\" class=\"data row8 col14\" >-0.026381</td>\n",
              "      <td id=\"T_2a96a_row8_col15\" class=\"data row8 col15\" >0.013759</td>\n",
              "      <td id=\"T_2a96a_row8_col16\" class=\"data row8 col16\" >-0.026914</td>\n",
              "      <td id=\"T_2a96a_row8_col17\" class=\"data row8 col17\" >-0.035937</td>\n",
              "      <td id=\"T_2a96a_row8_col18\" class=\"data row8 col18\" >-0.042519</td>\n",
              "      <td id=\"T_2a96a_row8_col19\" class=\"data row8 col19\" >-0.012717</td>\n",
              "      <td id=\"T_2a96a_row8_col20\" class=\"data row8 col20\" >0.109227</td>\n",
              "      <td id=\"T_2a96a_row8_col21\" class=\"data row8 col21\" >-0.014559</td>\n",
              "      <td id=\"T_2a96a_row8_col22\" class=\"data row8 col22\" >0.027309</td>\n",
              "      <td id=\"T_2a96a_row8_col23\" class=\"data row8 col23\" >-0.033683</td>\n",
              "      <td id=\"T_2a96a_row8_col24\" class=\"data row8 col24\" >0.044091</td>\n",
              "      <td id=\"T_2a96a_row8_col25\" class=\"data row8 col25\" >0.016417</td>\n",
              "      <td id=\"T_2a96a_row8_col26\" class=\"data row8 col26\" >-0.056679</td>\n",
              "      <td id=\"T_2a96a_row8_col27\" class=\"data row8 col27\" >0.009382</td>\n",
              "      <td id=\"T_2a96a_row8_col28\" class=\"data row8 col28\" >-0.031131</td>\n",
              "      <td id=\"T_2a96a_row8_col29\" class=\"data row8 col29\" >-0.035225</td>\n",
              "      <td id=\"T_2a96a_row8_col30\" class=\"data row8 col30\" >0.010478</td>\n",
              "      <td id=\"T_2a96a_row8_col31\" class=\"data row8 col31\" >0.025291</td>\n",
              "      <td id=\"T_2a96a_row8_col32\" class=\"data row8 col32\" >-0.010283</td>\n",
              "    </tr>\n",
              "    <tr>\n",
              "      <th id=\"T_2a96a_level0_row9\" class=\"row_heading level0 row9\" >Title_Category_Military</th>\n",
              "      <td id=\"T_2a96a_row9_col0\" class=\"data row9 col0\" >0.002496</td>\n",
              "      <td id=\"T_2a96a_row9_col1\" class=\"data row9 col1\" >-0.117649</td>\n",
              "      <td id=\"T_2a96a_row9_col2\" class=\"data row9 col2\" >0.042305</td>\n",
              "      <td id=\"T_2a96a_row9_col3\" class=\"data row9 col3\" >-0.022017</td>\n",
              "      <td id=\"T_2a96a_row9_col4\" class=\"data row9 col4\" >-0.016934</td>\n",
              "      <td id=\"T_2a96a_row9_col5\" class=\"data row9 col5\" >0.008797</td>\n",
              "      <td id=\"T_2a96a_row9_col6\" class=\"data row9 col6\" >-0.055417</td>\n",
              "      <td id=\"T_2a96a_row9_col7\" class=\"data row9 col7\" >0.055417</td>\n",
              "      <td id=\"T_2a96a_row9_col8\" class=\"data row9 col8\" >-0.016287</td>\n",
              "      <td id=\"T_2a96a_row9_col9\" class=\"data row9 col9\" >1.000000</td>\n",
              "      <td id=\"T_2a96a_row9_col10\" class=\"data row9 col10\" >-0.038455</td>\n",
              "      <td id=\"T_2a96a_row9_col11\" class=\"data row9 col11\" >-0.088324</td>\n",
              "      <td id=\"T_2a96a_row9_col12\" class=\"data row9 col12\" >-0.030488</td>\n",
              "      <td id=\"T_2a96a_row9_col13\" class=\"data row9 col13\" >-0.005643</td>\n",
              "      <td id=\"T_2a96a_row9_col14\" class=\"data row9 col14\" >-0.009141</td>\n",
              "      <td id=\"T_2a96a_row9_col15\" class=\"data row9 col15\" >0.106952</td>\n",
              "      <td id=\"T_2a96a_row9_col16\" class=\"data row9 col16\" >0.116699</td>\n",
              "      <td id=\"T_2a96a_row9_col17\" class=\"data row9 col17\" >0.040416</td>\n",
              "      <td id=\"T_2a96a_row9_col18\" class=\"data row9 col18\" >-0.014733</td>\n",
              "      <td id=\"T_2a96a_row9_col19\" class=\"data row9 col19\" >-0.014499</td>\n",
              "      <td id=\"T_2a96a_row9_col20\" class=\"data row9 col20\" >-0.009141</td>\n",
              "      <td id=\"T_2a96a_row9_col21\" class=\"data row9 col21\" >-0.005045</td>\n",
              "      <td id=\"T_2a96a_row9_col22\" class=\"data row9 col22\" >-0.102477</td>\n",
              "      <td id=\"T_2a96a_row9_col23\" class=\"data row9 col23\" >-0.011671</td>\n",
              "      <td id=\"T_2a96a_row9_col24\" class=\"data row9 col24\" >-0.029207</td>\n",
              "      <td id=\"T_2a96a_row9_col25\" class=\"data row9 col25\" >0.009980</td>\n",
              "      <td id=\"T_2a96a_row9_col26\" class=\"data row9 col26\" >0.041759</td>\n",
              "      <td id=\"T_2a96a_row9_col27\" class=\"data row9 col27\" >-0.010477</td>\n",
              "      <td id=\"T_2a96a_row9_col28\" class=\"data row9 col28\" >-0.010787</td>\n",
              "      <td id=\"T_2a96a_row9_col29\" class=\"data row9 col29\" >0.002199</td>\n",
              "      <td id=\"T_2a96a_row9_col30\" class=\"data row9 col30\" >-0.023105</td>\n",
              "      <td id=\"T_2a96a_row9_col31\" class=\"data row9 col31\" >0.012959</td>\n",
              "      <td id=\"T_2a96a_row9_col32\" class=\"data row9 col32\" >-0.003563</td>\n",
              "    </tr>\n",
              "    <tr>\n",
              "      <th id=\"T_2a96a_level0_row10\" class=\"row_heading level0 row10\" >Title_Category_Miss</th>\n",
              "      <td id=\"T_2a96a_row10_col0\" class=\"data row10 col0\" >0.335636</td>\n",
              "      <td id=\"T_2a96a_row10_col1\" class=\"data row10 col1\" >-0.010261</td>\n",
              "      <td id=\"T_2a96a_row10_col2\" class=\"data row10 col2\" >-0.002680</td>\n",
              "      <td id=\"T_2a96a_row10_col3\" class=\"data row10 col3\" >0.083462</td>\n",
              "      <td id=\"T_2a96a_row10_col4\" class=\"data row10 col4\" >0.100998</td>\n",
              "      <td id=\"T_2a96a_row10_col5\" class=\"data row10 col5\" >0.119518</td>\n",
              "      <td id=\"T_2a96a_row10_col6\" class=\"data row10 col6\" >0.693916</td>\n",
              "      <td id=\"T_2a96a_row10_col7\" class=\"data row10 col7\" >-0.693916</td>\n",
              "      <td id=\"T_2a96a_row10_col8\" class=\"data row10 col8\" >-0.110981</td>\n",
              "      <td id=\"T_2a96a_row10_col9\" class=\"data row10 col9\" >-0.038455</td>\n",
              "      <td id=\"T_2a96a_row10_col10\" class=\"data row10 col10\" >1.000000</td>\n",
              "      <td id=\"T_2a96a_row10_col11\" class=\"data row10 col11\" >-0.601857</td>\n",
              "      <td id=\"T_2a96a_row10_col12\" class=\"data row10 col12\" >-0.207749</td>\n",
              "      <td id=\"T_2a96a_row10_col13\" class=\"data row10 col13\" >-0.038455</td>\n",
              "      <td id=\"T_2a96a_row10_col14\" class=\"data row10 col14\" >-0.062289</td>\n",
              "      <td id=\"T_2a96a_row10_col15\" class=\"data row10 col15\" >-0.066985</td>\n",
              "      <td id=\"T_2a96a_row10_col16\" class=\"data row10 col16\" >0.064880</td>\n",
              "      <td id=\"T_2a96a_row10_col17\" class=\"data row10 col17\" >0.008343</td>\n",
              "      <td id=\"T_2a96a_row10_col18\" class=\"data row10 col18\" >0.016822</td>\n",
              "      <td id=\"T_2a96a_row10_col19\" class=\"data row10 col19\" >0.020161</td>\n",
              "      <td id=\"T_2a96a_row10_col20\" class=\"data row10 col20\" >0.006941</td>\n",
              "      <td id=\"T_2a96a_row10_col21\" class=\"data row10 col21\" >0.048405</td>\n",
              "      <td id=\"T_2a96a_row10_col22\" class=\"data row10 col22\" >-0.045194</td>\n",
              "      <td id=\"T_2a96a_row10_col23\" class=\"data row10 col23\" >-0.079530</td>\n",
              "      <td id=\"T_2a96a_row10_col24\" class=\"data row10 col24\" >0.046756</td>\n",
              "      <td id=\"T_2a96a_row10_col25\" class=\"data row10 col25\" >0.023745</td>\n",
              "      <td id=\"T_2a96a_row10_col26\" class=\"data row10 col26\" >-0.054672</td>\n",
              "      <td id=\"T_2a96a_row10_col27\" class=\"data row10 col27\" >-0.010715</td>\n",
              "      <td id=\"T_2a96a_row10_col28\" class=\"data row10 col28\" >0.005165</td>\n",
              "      <td id=\"T_2a96a_row10_col29\" class=\"data row10 col29\" >0.036204</td>\n",
              "      <td id=\"T_2a96a_row10_col30\" class=\"data row10 col30\" >0.167531</td>\n",
              "      <td id=\"T_2a96a_row10_col31\" class=\"data row10 col31\" >-0.140414</td>\n",
              "      <td id=\"T_2a96a_row10_col32\" class=\"data row10 col32\" >0.034189</td>\n",
              "    </tr>\n",
              "    <tr>\n",
              "      <th id=\"T_2a96a_level0_row11\" class=\"row_heading level0 row11\" >Title_Category_Mr</th>\n",
              "      <td id=\"T_2a96a_row11_col0\" class=\"data row11 col0\" >-0.549199</td>\n",
              "      <td id=\"T_2a96a_row11_col1\" class=\"data row11 col1\" >0.142698</td>\n",
              "      <td id=\"T_2a96a_row11_col2\" class=\"data row11 col2\" >-0.086957</td>\n",
              "      <td id=\"T_2a96a_row11_col3\" class=\"data row11 col3\" >-0.250489</td>\n",
              "      <td id=\"T_2a96a_row11_col4\" class=\"data row11 col4\" >-0.333905</td>\n",
              "      <td id=\"T_2a96a_row11_col5\" class=\"data row11 col5\" >-0.183766</td>\n",
              "      <td id=\"T_2a96a_row11_col6\" class=\"data row11 col6\" >-0.867334</td>\n",
              "      <td id=\"T_2a96a_row11_col7\" class=\"data row11 col7\" >0.867334</td>\n",
              "      <td id=\"T_2a96a_row11_col8\" class=\"data row11 col8\" >-0.254903</td>\n",
              "      <td id=\"T_2a96a_row11_col9\" class=\"data row11 col9\" >-0.088324</td>\n",
              "      <td id=\"T_2a96a_row11_col10\" class=\"data row11 col10\" >-0.601857</td>\n",
              "      <td id=\"T_2a96a_row11_col11\" class=\"data row11 col11\" >1.000000</td>\n",
              "      <td id=\"T_2a96a_row11_col12\" class=\"data row11 col12\" >-0.477160</td>\n",
              "      <td id=\"T_2a96a_row11_col13\" class=\"data row11 col13\" >-0.088324</td>\n",
              "      <td id=\"T_2a96a_row11_col14\" class=\"data row11 col14\" >-0.143065</td>\n",
              "      <td id=\"T_2a96a_row11_col15\" class=\"data row11 col15\" >0.040591</td>\n",
              "      <td id=\"T_2a96a_row11_col16\" class=\"data row11 col16\" >-0.114673</td>\n",
              "      <td id=\"T_2a96a_row11_col17\" class=\"data row11 col17\" >-0.047873</td>\n",
              "      <td id=\"T_2a96a_row11_col18\" class=\"data row11 col18\" >-0.049952</td>\n",
              "      <td id=\"T_2a96a_row11_col19\" class=\"data row11 col19\" >-0.031384</td>\n",
              "      <td id=\"T_2a96a_row11_col20\" class=\"data row11 col20\" >-0.048235</td>\n",
              "      <td id=\"T_2a96a_row11_col21\" class=\"data row11 col21\" >-0.078955</td>\n",
              "      <td id=\"T_2a96a_row11_col22\" class=\"data row11 col22\" >0.139832</td>\n",
              "      <td id=\"T_2a96a_row11_col23\" class=\"data row11 col23\" >0.102160</td>\n",
              "      <td id=\"T_2a96a_row11_col24\" class=\"data row11 col24\" >-0.086786</td>\n",
              "      <td id=\"T_2a96a_row11_col25\" class=\"data row11 col25\" >-0.039200</td>\n",
              "      <td id=\"T_2a96a_row11_col26\" class=\"data row11 col26\" >0.101539</td>\n",
              "      <td id=\"T_2a96a_row11_col27\" class=\"data row11 col27\" >0.002257</td>\n",
              "      <td id=\"T_2a96a_row11_col28\" class=\"data row11 col28\" >0.041308</td>\n",
              "      <td id=\"T_2a96a_row11_col29\" class=\"data row11 col29\" >-0.072567</td>\n",
              "      <td id=\"T_2a96a_row11_col30\" class=\"data row11 col30\" >-0.078338</td>\n",
              "      <td id=\"T_2a96a_row11_col31\" class=\"data row11 col31\" >0.118482</td>\n",
              "      <td id=\"T_2a96a_row11_col32\" class=\"data row11 col32\" >-0.055767</td>\n",
              "    </tr>\n",
              "    <tr>\n",
              "      <th id=\"T_2a96a_level0_row12\" class=\"row_heading level0 row12\" >Title_Category_Mrs</th>\n",
              "      <td id=\"T_2a96a_row12_col0\" class=\"data row12 col0\" >0.341994</td>\n",
              "      <td id=\"T_2a96a_row12_col1\" class=\"data row12 col1\" >-0.153758</td>\n",
              "      <td id=\"T_2a96a_row12_col2\" class=\"data row12 col2\" >0.070001</td>\n",
              "      <td id=\"T_2a96a_row12_col3\" class=\"data row12 col3\" >0.061668</td>\n",
              "      <td id=\"T_2a96a_row12_col4\" class=\"data row12 col4\" >0.223575</td>\n",
              "      <td id=\"T_2a96a_row12_col5\" class=\"data row12 col5\" >0.107259</td>\n",
              "      <td id=\"T_2a96a_row12_col6\" class=\"data row12 col6\" >0.550146</td>\n",
              "      <td id=\"T_2a96a_row12_col7\" class=\"data row12 col7\" >-0.550146</td>\n",
              "      <td id=\"T_2a96a_row12_col8\" class=\"data row12 col8\" >-0.087987</td>\n",
              "      <td id=\"T_2a96a_row12_col9\" class=\"data row12 col9\" >-0.030488</td>\n",
              "      <td id=\"T_2a96a_row12_col10\" class=\"data row12 col10\" >-0.207749</td>\n",
              "      <td id=\"T_2a96a_row12_col11\" class=\"data row12 col11\" >-0.477160</td>\n",
              "      <td id=\"T_2a96a_row12_col12\" class=\"data row12 col12\" >1.000000</td>\n",
              "      <td id=\"T_2a96a_row12_col13\" class=\"data row12 col13\" >-0.030488</td>\n",
              "      <td id=\"T_2a96a_row12_col14\" class=\"data row12 col14\" >-0.049383</td>\n",
              "      <td id=\"T_2a96a_row12_col15\" class=\"data row12 col15\" >-0.053107</td>\n",
              "      <td id=\"T_2a96a_row12_col16\" class=\"data row12 col16\" >0.062731</td>\n",
              "      <td id=\"T_2a96a_row12_col17\" class=\"data row12 col17\" >0.073270</td>\n",
              "      <td id=\"T_2a96a_row12_col18\" class=\"data row12 col18\" >0.073907</td>\n",
              "      <td id=\"T_2a96a_row12_col19\" class=\"data row12 col19\" >0.042837</td>\n",
              "      <td id=\"T_2a96a_row12_col20\" class=\"data row12 col20\" >0.004341</td>\n",
              "      <td id=\"T_2a96a_row12_col21\" class=\"data row12 col21\" >0.069107</td>\n",
              "      <td id=\"T_2a96a_row12_col22\" class=\"data row12 col22\" >-0.125118</td>\n",
              "      <td id=\"T_2a96a_row12_col23\" class=\"data row12 col23\" >-0.020589</td>\n",
              "      <td id=\"T_2a96a_row12_col24\" class=\"data row12 col24\" >0.042482</td>\n",
              "      <td id=\"T_2a96a_row12_col25\" class=\"data row12 col25\" >0.011226</td>\n",
              "      <td id=\"T_2a96a_row12_col26\" class=\"data row12 col26\" >-0.053448</td>\n",
              "      <td id=\"T_2a96a_row12_col27\" class=\"data row12 col27\" >0.014031</td>\n",
              "      <td id=\"T_2a96a_row12_col28\" class=\"data row12 col28\" >-0.035381</td>\n",
              "      <td id=\"T_2a96a_row12_col29\" class=\"data row12 col29\" >0.067872</td>\n",
              "      <td id=\"T_2a96a_row12_col30\" class=\"data row12 col30\" >-0.090432</td>\n",
              "      <td id=\"T_2a96a_row12_col31\" class=\"data row12 col31\" >-0.007704</td>\n",
              "      <td id=\"T_2a96a_row12_col32\" class=\"data row12 col32\" >0.048811</td>\n",
              "    </tr>\n",
              "    <tr>\n",
              "      <th id=\"T_2a96a_level0_row13\" class=\"row_heading level0 row13\" >Title_Category_Nobility</th>\n",
              "      <td id=\"T_2a96a_row13_col0\" class=\"data row13 col0\" >0.033391</td>\n",
              "      <td id=\"T_2a96a_row13_col1\" class=\"data row13 col1\" >-0.117649</td>\n",
              "      <td id=\"T_2a96a_row13_col2\" class=\"data row13 col2\" >0.039561</td>\n",
              "      <td id=\"T_2a96a_row13_col3\" class=\"data row13 col3\" >-0.008384</td>\n",
              "      <td id=\"T_2a96a_row13_col4\" class=\"data row13 col4\" >-0.035583</td>\n",
              "      <td id=\"T_2a96a_row13_col5\" class=\"data row13 col5\" >0.015044</td>\n",
              "      <td id=\"T_2a96a_row13_col6\" class=\"data row13 col6\" >0.007483</td>\n",
              "      <td id=\"T_2a96a_row13_col7\" class=\"data row13 col7\" >-0.007483</td>\n",
              "      <td id=\"T_2a96a_row13_col8\" class=\"data row13 col8\" >-0.016287</td>\n",
              "      <td id=\"T_2a96a_row13_col9\" class=\"data row13 col9\" >-0.005643</td>\n",
              "      <td id=\"T_2a96a_row13_col10\" class=\"data row13 col10\" >-0.038455</td>\n",
              "      <td id=\"T_2a96a_row13_col11\" class=\"data row13 col11\" >-0.088324</td>\n",
              "      <td id=\"T_2a96a_row13_col12\" class=\"data row13 col12\" >-0.030488</td>\n",
              "      <td id=\"T_2a96a_row13_col13\" class=\"data row13 col13\" >1.000000</td>\n",
              "      <td id=\"T_2a96a_row13_col14\" class=\"data row13 col14\" >-0.009141</td>\n",
              "      <td id=\"T_2a96a_row13_col15\" class=\"data row13 col15\" >0.223735</td>\n",
              "      <td id=\"T_2a96a_row13_col16\" class=\"data row13 col16\" >0.049486</td>\n",
              "      <td id=\"T_2a96a_row13_col17\" class=\"data row13 col17\" >-0.020005</td>\n",
              "      <td id=\"T_2a96a_row13_col18\" class=\"data row13 col18\" >-0.014733</td>\n",
              "      <td id=\"T_2a96a_row13_col19\" class=\"data row13 col19\" >-0.014499</td>\n",
              "      <td id=\"T_2a96a_row13_col20\" class=\"data row13 col20\" >-0.009141</td>\n",
              "      <td id=\"T_2a96a_row13_col21\" class=\"data row13 col21\" >-0.005045</td>\n",
              "      <td id=\"T_2a96a_row13_col22\" class=\"data row13 col22\" >-0.066656</td>\n",
              "      <td id=\"T_2a96a_row13_col23\" class=\"data row13 col23\" >-0.011671</td>\n",
              "      <td id=\"T_2a96a_row13_col24\" class=\"data row13 col24\" >0.059763</td>\n",
              "      <td id=\"T_2a96a_row13_col25\" class=\"data row13 col25\" >-0.024353</td>\n",
              "      <td id=\"T_2a96a_row13_col26\" class=\"data row13 col26\" >-0.019639</td>\n",
              "      <td id=\"T_2a96a_row13_col27\" class=\"data row13 col27\" >-0.010477</td>\n",
              "      <td id=\"T_2a96a_row13_col28\" class=\"data row13 col28\" >-0.010787</td>\n",
              "      <td id=\"T_2a96a_row13_col29\" class=\"data row13 col29\" >0.079020</td>\n",
              "      <td id=\"T_2a96a_row13_col30\" class=\"data row13 col30\" >-0.023105</td>\n",
              "      <td id=\"T_2a96a_row13_col31\" class=\"data row13 col31\" >-0.054171</td>\n",
              "      <td id=\"T_2a96a_row13_col32\" class=\"data row13 col32\" >-0.003563</td>\n",
              "    </tr>\n",
              "    <tr>\n",
              "      <th id=\"T_2a96a_level0_row14\" class=\"row_heading level0 row14\" >Title_Category_Professional</th>\n",
              "      <td id=\"T_2a96a_row14_col0\" class=\"data row14 col0\" >-0.038299</td>\n",
              "      <td id=\"T_2a96a_row14_col1\" class=\"data row14 col1\" >-0.100953</td>\n",
              "      <td id=\"T_2a96a_row14_col2\" class=\"data row14 col2\" >0.040630</td>\n",
              "      <td id=\"T_2a96a_row14_col3\" class=\"data row14 col3\" >-0.015279</td>\n",
              "      <td id=\"T_2a96a_row14_col4\" class=\"data row14 col4\" >-0.046019</td>\n",
              "      <td id=\"T_2a96a_row14_col5\" class=\"data row14 col5\" >0.006671</td>\n",
              "      <td id=\"T_2a96a_row14_col6\" class=\"data row14 col6\" >-0.070171</td>\n",
              "      <td id=\"T_2a96a_row14_col7\" class=\"data row14 col7\" >0.070171</td>\n",
              "      <td id=\"T_2a96a_row14_col8\" class=\"data row14 col8\" >-0.026381</td>\n",
              "      <td id=\"T_2a96a_row14_col9\" class=\"data row14 col9\" >-0.009141</td>\n",
              "      <td id=\"T_2a96a_row14_col10\" class=\"data row14 col10\" >-0.062289</td>\n",
              "      <td id=\"T_2a96a_row14_col11\" class=\"data row14 col11\" >-0.143065</td>\n",
              "      <td id=\"T_2a96a_row14_col12\" class=\"data row14 col12\" >-0.049383</td>\n",
              "      <td id=\"T_2a96a_row14_col13\" class=\"data row14 col13\" >-0.009141</td>\n",
              "      <td id=\"T_2a96a_row14_col14\" class=\"data row14 col14\" >1.000000</td>\n",
              "      <td id=\"T_2a96a_row14_col15\" class=\"data row14 col15\" >-0.015923</td>\n",
              "      <td id=\"T_2a96a_row14_col16\" class=\"data row14 col16\" >0.013159</td>\n",
              "      <td id=\"T_2a96a_row14_col17\" class=\"data row14 col17\" >0.005239</td>\n",
              "      <td id=\"T_2a96a_row14_col18\" class=\"data row14 col18\" >0.025699</td>\n",
              "      <td id=\"T_2a96a_row14_col19\" class=\"data row14 col19\" >-0.023486</td>\n",
              "      <td id=\"T_2a96a_row14_col20\" class=\"data row14 col20\" >-0.014806</td>\n",
              "      <td id=\"T_2a96a_row14_col21\" class=\"data row14 col21\" >-0.008171</td>\n",
              "      <td id=\"T_2a96a_row14_col22\" class=\"data row14 col22\" >-0.000852</td>\n",
              "      <td id=\"T_2a96a_row14_col23\" class=\"data row14 col23\" >-0.018905</td>\n",
              "      <td id=\"T_2a96a_row14_col24\" class=\"data row14 col24\" >-0.019596</td>\n",
              "      <td id=\"T_2a96a_row14_col25\" class=\"data row14 col25\" >0.028999</td>\n",
              "      <td id=\"T_2a96a_row14_col26\" class=\"data row14 col26\" >0.006439</td>\n",
              "      <td id=\"T_2a96a_row14_col27\" class=\"data row14 col27\" >-0.016970</td>\n",
              "      <td id=\"T_2a96a_row14_col28\" class=\"data row14 col28\" >-0.017472</td>\n",
              "      <td id=\"T_2a96a_row14_col29\" class=\"data row14 col29\" >-0.010797</td>\n",
              "      <td id=\"T_2a96a_row14_col30\" class=\"data row14 col30\" >0.029199</td>\n",
              "      <td id=\"T_2a96a_row14_col31\" class=\"data row14 col31\" >-0.008284</td>\n",
              "      <td id=\"T_2a96a_row14_col32\" class=\"data row14 col32\" >-0.005771</td>\n",
              "    </tr>\n",
              "    <tr>\n",
              "      <th id=\"T_2a96a_level0_row15\" class=\"row_heading level0 row15\" >Cabin_Reduced_A</th>\n",
              "      <td id=\"T_2a96a_row15_col0\" class=\"data row15 col0\" >0.022287</td>\n",
              "      <td id=\"T_2a96a_row15_col1\" class=\"data row15 col1\" >-0.204934</td>\n",
              "      <td id=\"T_2a96a_row15_col2\" class=\"data row15 col2\" >0.003417</td>\n",
              "      <td id=\"T_2a96a_row15_col3\" class=\"data row15 col3\" >-0.046266</td>\n",
              "      <td id=\"T_2a96a_row15_col4\" class=\"data row15 col4\" >-0.040325</td>\n",
              "      <td id=\"T_2a96a_row15_col5\" class=\"data row15 col5\" >0.019549</td>\n",
              "      <td id=\"T_2a96a_row15_col6\" class=\"data row15 col6\" >-0.078271</td>\n",
              "      <td id=\"T_2a96a_row15_col7\" class=\"data row15 col7\" >0.078271</td>\n",
              "      <td id=\"T_2a96a_row15_col8\" class=\"data row15 col8\" >0.013759</td>\n",
              "      <td id=\"T_2a96a_row15_col9\" class=\"data row15 col9\" >0.106952</td>\n",
              "      <td id=\"T_2a96a_row15_col10\" class=\"data row15 col10\" >-0.066985</td>\n",
              "      <td id=\"T_2a96a_row15_col11\" class=\"data row15 col11\" >0.040591</td>\n",
              "      <td id=\"T_2a96a_row15_col12\" class=\"data row15 col12\" >-0.053107</td>\n",
              "      <td id=\"T_2a96a_row15_col13\" class=\"data row15 col13\" >0.223735</td>\n",
              "      <td id=\"T_2a96a_row15_col14\" class=\"data row15 col14\" >-0.015923</td>\n",
              "      <td id=\"T_2a96a_row15_col15\" class=\"data row15 col15\" >1.000000</td>\n",
              "      <td id=\"T_2a96a_row15_col16\" class=\"data row15 col16\" >-0.030880</td>\n",
              "      <td id=\"T_2a96a_row15_col17\" class=\"data row15 col17\" >-0.034846</td>\n",
              "      <td id=\"T_2a96a_row15_col18\" class=\"data row15 col18\" >-0.025663</td>\n",
              "      <td id=\"T_2a96a_row15_col19\" class=\"data row15 col19\" >-0.025256</td>\n",
              "      <td id=\"T_2a96a_row15_col20\" class=\"data row15 col20\" >-0.015923</td>\n",
              "      <td id=\"T_2a96a_row15_col21\" class=\"data row15 col21\" >-0.008787</td>\n",
              "      <td id=\"T_2a96a_row15_col22\" class=\"data row15 col22\" >-0.240902</td>\n",
              "      <td id=\"T_2a96a_row15_col23\" class=\"data row15 col23\" >-0.020330</td>\n",
              "      <td id=\"T_2a96a_row15_col24\" class=\"data row15 col24\" >0.026612</td>\n",
              "      <td id=\"T_2a96a_row15_col25\" class=\"data row15 col25\" >0.017384</td>\n",
              "      <td id=\"T_2a96a_row15_col26\" class=\"data row15 col26\" >-0.034210</td>\n",
              "      <td id=\"T_2a96a_row15_col27\" class=\"data row15 col27\" >-0.018250</td>\n",
              "      <td id=\"T_2a96a_row15_col28\" class=\"data row15 col28\" >-0.018790</td>\n",
              "      <td id=\"T_2a96a_row15_col29\" class=\"data row15 col29\" >0.093040</td>\n",
              "      <td id=\"T_2a96a_row15_col30\" class=\"data row15 col30\" >-0.040246</td>\n",
              "      <td id=\"T_2a96a_row15_col31\" class=\"data row15 col31\" >-0.055383</td>\n",
              "      <td id=\"T_2a96a_row15_col32\" class=\"data row15 col32\" >-0.006207</td>\n",
              "    </tr>\n",
              "    <tr>\n",
              "      <th id=\"T_2a96a_level0_row16\" class=\"row_heading level0 row16\" >Cabin_Reduced_B</th>\n",
              "      <td id=\"T_2a96a_row16_col0\" class=\"data row16 col0\" >0.175095</td>\n",
              "      <td id=\"T_2a96a_row16_col1\" class=\"data row16 col1\" >-0.369572</td>\n",
              "      <td id=\"T_2a96a_row16_col2\" class=\"data row16 col2\" >0.095172</td>\n",
              "      <td id=\"T_2a96a_row16_col3\" class=\"data row16 col3\" >-0.034538</td>\n",
              "      <td id=\"T_2a96a_row16_col4\" class=\"data row16 col4\" >0.056498</td>\n",
              "      <td id=\"T_2a96a_row16_col5\" class=\"data row16 col5\" >0.386297</td>\n",
              "      <td id=\"T_2a96a_row16_col6\" class=\"data row16 col6\" >0.109689</td>\n",
              "      <td id=\"T_2a96a_row16_col7\" class=\"data row16 col7\" >-0.109689</td>\n",
              "      <td id=\"T_2a96a_row16_col8\" class=\"data row16 col8\" >-0.026914</td>\n",
              "      <td id=\"T_2a96a_row16_col9\" class=\"data row16 col9\" >0.116699</td>\n",
              "      <td id=\"T_2a96a_row16_col10\" class=\"data row16 col10\" >0.064880</td>\n",
              "      <td id=\"T_2a96a_row16_col11\" class=\"data row16 col11\" >-0.114673</td>\n",
              "      <td id=\"T_2a96a_row16_col12\" class=\"data row16 col12\" >0.062731</td>\n",
              "      <td id=\"T_2a96a_row16_col13\" class=\"data row16 col13\" >0.049486</td>\n",
              "      <td id=\"T_2a96a_row16_col14\" class=\"data row16 col14\" >0.013159</td>\n",
              "      <td id=\"T_2a96a_row16_col15\" class=\"data row16 col15\" >-0.030880</td>\n",
              "      <td id=\"T_2a96a_row16_col16\" class=\"data row16 col16\" >1.000000</td>\n",
              "      <td id=\"T_2a96a_row16_col17\" class=\"data row16 col17\" >-0.062841</td>\n",
              "      <td id=\"T_2a96a_row16_col18\" class=\"data row16 col18\" >-0.046280</td>\n",
              "      <td id=\"T_2a96a_row16_col19\" class=\"data row16 col19\" >-0.045547</td>\n",
              "      <td id=\"T_2a96a_row16_col20\" class=\"data row16 col20\" >-0.028715</td>\n",
              "      <td id=\"T_2a96a_row16_col21\" class=\"data row16 col21\" >-0.015847</td>\n",
              "      <td id=\"T_2a96a_row16_col22\" class=\"data row16 col22\" >-0.434434</td>\n",
              "      <td id=\"T_2a96a_row16_col23\" class=\"data row16 col23\" >-0.036663</td>\n",
              "      <td id=\"T_2a96a_row16_col24\" class=\"data row16 col24\" >0.116375</td>\n",
              "      <td id=\"T_2a96a_row16_col25\" class=\"data row16 col25\" >-0.044374</td>\n",
              "      <td id=\"T_2a96a_row16_col26\" class=\"data row16 col26\" >-0.020656</td>\n",
              "      <td id=\"T_2a96a_row16_col27\" class=\"data row16 col27\" >-0.032911</td>\n",
              "      <td id=\"T_2a96a_row16_col28\" class=\"data row16 col28\" >-0.033885</td>\n",
              "      <td id=\"T_2a96a_row16_col29\" class=\"data row16 col29\" >0.168642</td>\n",
              "      <td id=\"T_2a96a_row16_col30\" class=\"data row16 col30\" >-0.072579</td>\n",
              "      <td id=\"T_2a96a_row16_col31\" class=\"data row16 col31\" >-0.123057</td>\n",
              "      <td id=\"T_2a96a_row16_col32\" class=\"data row16 col32\" >0.200996</td>\n",
              "    </tr>\n",
              "    <tr>\n",
              "      <th id=\"T_2a96a_level0_row17\" class=\"row_heading level0 row17\" >Cabin_Reduced_C</th>\n",
              "      <td id=\"T_2a96a_row17_col0\" class=\"data row17 col0\" >0.114652</td>\n",
              "      <td id=\"T_2a96a_row17_col1\" class=\"data row17 col1\" >-0.417048</td>\n",
              "      <td id=\"T_2a96a_row17_col2\" class=\"data row17 col2\" >0.045648</td>\n",
              "      <td id=\"T_2a96a_row17_col3\" class=\"data row17 col3\" >0.029251</td>\n",
              "      <td id=\"T_2a96a_row17_col4\" class=\"data row17 col4\" >0.030736</td>\n",
              "      <td id=\"T_2a96a_row17_col5\" class=\"data row17 col5\" >0.364318</td>\n",
              "      <td id=\"T_2a96a_row17_col6\" class=\"data row17 col6\" >0.058649</td>\n",
              "      <td id=\"T_2a96a_row17_col7\" class=\"data row17 col7\" >-0.058649</td>\n",
              "      <td id=\"T_2a96a_row17_col8\" class=\"data row17 col8\" >-0.035937</td>\n",
              "      <td id=\"T_2a96a_row17_col9\" class=\"data row17 col9\" >0.040416</td>\n",
              "      <td id=\"T_2a96a_row17_col10\" class=\"data row17 col10\" >0.008343</td>\n",
              "      <td id=\"T_2a96a_row17_col11\" class=\"data row17 col11\" >-0.047873</td>\n",
              "      <td id=\"T_2a96a_row17_col12\" class=\"data row17 col12\" >0.073270</td>\n",
              "      <td id=\"T_2a96a_row17_col13\" class=\"data row17 col13\" >-0.020005</td>\n",
              "      <td id=\"T_2a96a_row17_col14\" class=\"data row17 col14\" >0.005239</td>\n",
              "      <td id=\"T_2a96a_row17_col15\" class=\"data row17 col15\" >-0.034846</td>\n",
              "      <td id=\"T_2a96a_row17_col16\" class=\"data row17 col16\" >-0.062841</td>\n",
              "      <td id=\"T_2a96a_row17_col17\" class=\"data row17 col17\" >1.000000</td>\n",
              "      <td id=\"T_2a96a_row17_col18\" class=\"data row17 col18\" >-0.052225</td>\n",
              "      <td id=\"T_2a96a_row17_col19\" class=\"data row17 col19\" >-0.051398</td>\n",
              "      <td id=\"T_2a96a_row17_col20\" class=\"data row17 col20\" >-0.032403</td>\n",
              "      <td id=\"T_2a96a_row17_col21\" class=\"data row17 col21\" >-0.017883</td>\n",
              "      <td id=\"T_2a96a_row17_col22\" class=\"data row17 col22\" >-0.490242</td>\n",
              "      <td id=\"T_2a96a_row17_col23\" class=\"data row17 col23\" >-0.041373</td>\n",
              "      <td id=\"T_2a96a_row17_col24\" class=\"data row17 col24\" >0.096921</td>\n",
              "      <td id=\"T_2a96a_row17_col25\" class=\"data row17 col25\" >0.002373</td>\n",
              "      <td id=\"T_2a96a_row17_col26\" class=\"data row17 col26\" >-0.069618</td>\n",
              "      <td id=\"T_2a96a_row17_col27\" class=\"data row17 col27\" >-0.037139</td>\n",
              "      <td id=\"T_2a96a_row17_col28\" class=\"data row17 col28\" >-0.038238</td>\n",
              "      <td id=\"T_2a96a_row17_col29\" class=\"data row17 col29\" >0.113952</td>\n",
              "      <td id=\"T_2a96a_row17_col30\" class=\"data row17 col30\" >-0.049776</td>\n",
              "      <td id=\"T_2a96a_row17_col31\" class=\"data row17 col31\" >-0.066995</td>\n",
              "      <td id=\"T_2a96a_row17_col32\" class=\"data row17 col32\" >-0.012631</td>\n",
              "    </tr>\n",
              "    <tr>\n",
              "      <th id=\"T_2a96a_level0_row18\" class=\"row_heading level0 row18\" >Cabin_Reduced_D</th>\n",
              "      <td id=\"T_2a96a_row18_col0\" class=\"data row18 col0\" >0.150716</td>\n",
              "      <td id=\"T_2a96a_row18_col1\" class=\"data row18 col1\" >-0.278690</td>\n",
              "      <td id=\"T_2a96a_row18_col2\" class=\"data row18 col2\" >0.072008</td>\n",
              "      <td id=\"T_2a96a_row18_col3\" class=\"data row18 col3\" >-0.017575</td>\n",
              "      <td id=\"T_2a96a_row18_col4\" class=\"data row18 col4\" >-0.019125</td>\n",
              "      <td id=\"T_2a96a_row18_col5\" class=\"data row18 col5\" >0.098878</td>\n",
              "      <td id=\"T_2a96a_row18_col6\" class=\"data row18 col6\" >0.079248</td>\n",
              "      <td id=\"T_2a96a_row18_col7\" class=\"data row18 col7\" >-0.079248</td>\n",
              "      <td id=\"T_2a96a_row18_col8\" class=\"data row18 col8\" >-0.042519</td>\n",
              "      <td id=\"T_2a96a_row18_col9\" class=\"data row18 col9\" >-0.014733</td>\n",
              "      <td id=\"T_2a96a_row18_col10\" class=\"data row18 col10\" >0.016822</td>\n",
              "      <td id=\"T_2a96a_row18_col11\" class=\"data row18 col11\" >-0.049952</td>\n",
              "      <td id=\"T_2a96a_row18_col12\" class=\"data row18 col12\" >0.073907</td>\n",
              "      <td id=\"T_2a96a_row18_col13\" class=\"data row18 col13\" >-0.014733</td>\n",
              "      <td id=\"T_2a96a_row18_col14\" class=\"data row18 col14\" >0.025699</td>\n",
              "      <td id=\"T_2a96a_row18_col15\" class=\"data row18 col15\" >-0.025663</td>\n",
              "      <td id=\"T_2a96a_row18_col16\" class=\"data row18 col16\" >-0.046280</td>\n",
              "      <td id=\"T_2a96a_row18_col17\" class=\"data row18 col17\" >-0.052225</td>\n",
              "      <td id=\"T_2a96a_row18_col18\" class=\"data row18 col18\" >1.000000</td>\n",
              "      <td id=\"T_2a96a_row18_col19\" class=\"data row18 col19\" >-0.037852</td>\n",
              "      <td id=\"T_2a96a_row18_col20\" class=\"data row18 col20\" >-0.023864</td>\n",
              "      <td id=\"T_2a96a_row18_col21\" class=\"data row18 col21\" >-0.013170</td>\n",
              "      <td id=\"T_2a96a_row18_col22\" class=\"data row18 col22\" >-0.361043</td>\n",
              "      <td id=\"T_2a96a_row18_col23\" class=\"data row18 col23\" >-0.030469</td>\n",
              "      <td id=\"T_2a96a_row18_col24\" class=\"data row18 col24\" >0.011731</td>\n",
              "      <td id=\"T_2a96a_row18_col25\" class=\"data row18 col25\" >0.020622</td>\n",
              "      <td id=\"T_2a96a_row18_col26\" class=\"data row18 col26\" >-0.051271</td>\n",
              "      <td id=\"T_2a96a_row18_col27\" class=\"data row18 col27\" >0.059530</td>\n",
              "      <td id=\"T_2a96a_row18_col28\" class=\"data row18 col28\" >-0.028161</td>\n",
              "      <td id=\"T_2a96a_row18_col29\" class=\"data row18 col29\" >0.102977</td>\n",
              "      <td id=\"T_2a96a_row18_col30\" class=\"data row18 col30\" >-0.060318</td>\n",
              "      <td id=\"T_2a96a_row18_col31\" class=\"data row18 col31\" >-0.051139</td>\n",
              "      <td id=\"T_2a96a_row18_col32\" class=\"data row18 col32\" >-0.009302</td>\n",
              "    </tr>\n",
              "    <tr>\n",
              "      <th id=\"T_2a96a_level0_row19\" class=\"row_heading level0 row19\" >Cabin_Reduced_E</th>\n",
              "      <td id=\"T_2a96a_row19_col0\" class=\"data row19 col0\" >0.145321</td>\n",
              "      <td id=\"T_2a96a_row19_col1\" class=\"data row19 col1\" >-0.230091</td>\n",
              "      <td id=\"T_2a96a_row19_col2\" class=\"data row19 col2\" >0.069540</td>\n",
              "      <td id=\"T_2a96a_row19_col3\" class=\"data row19 col3\" >-0.036865</td>\n",
              "      <td id=\"T_2a96a_row19_col4\" class=\"data row19 col4\" >-0.016554</td>\n",
              "      <td id=\"T_2a96a_row19_col5\" class=\"data row19 col5\" >0.053717</td>\n",
              "      <td id=\"T_2a96a_row19_col6\" class=\"data row19 col6\" >0.047003</td>\n",
              "      <td id=\"T_2a96a_row19_col7\" class=\"data row19 col7\" >-0.047003</td>\n",
              "      <td id=\"T_2a96a_row19_col8\" class=\"data row19 col8\" >-0.012717</td>\n",
              "      <td id=\"T_2a96a_row19_col9\" class=\"data row19 col9\" >-0.014499</td>\n",
              "      <td id=\"T_2a96a_row19_col10\" class=\"data row19 col10\" >0.020161</td>\n",
              "      <td id=\"T_2a96a_row19_col11\" class=\"data row19 col11\" >-0.031384</td>\n",
              "      <td id=\"T_2a96a_row19_col12\" class=\"data row19 col12\" >0.042837</td>\n",
              "      <td id=\"T_2a96a_row19_col13\" class=\"data row19 col13\" >-0.014499</td>\n",
              "      <td id=\"T_2a96a_row19_col14\" class=\"data row19 col14\" >-0.023486</td>\n",
              "      <td id=\"T_2a96a_row19_col15\" class=\"data row19 col15\" >-0.025256</td>\n",
              "      <td id=\"T_2a96a_row19_col16\" class=\"data row19 col16\" >-0.045547</td>\n",
              "      <td id=\"T_2a96a_row19_col17\" class=\"data row19 col17\" >-0.051398</td>\n",
              "      <td id=\"T_2a96a_row19_col18\" class=\"data row19 col18\" >-0.037852</td>\n",
              "      <td id=\"T_2a96a_row19_col19\" class=\"data row19 col19\" >1.000000</td>\n",
              "      <td id=\"T_2a96a_row19_col20\" class=\"data row19 col20\" >-0.023486</td>\n",
              "      <td id=\"T_2a96a_row19_col21\" class=\"data row19 col21\" >-0.012961</td>\n",
              "      <td id=\"T_2a96a_row19_col22\" class=\"data row19 col22\" >-0.355324</td>\n",
              "      <td id=\"T_2a96a_row19_col23\" class=\"data row19 col23\" >-0.029987</td>\n",
              "      <td id=\"T_2a96a_row19_col24\" class=\"data row19 col24\" >0.032109</td>\n",
              "      <td id=\"T_2a96a_row19_col25\" class=\"data row19 col25\" >-0.010194</td>\n",
              "      <td id=\"T_2a96a_row19_col26\" class=\"data row19 col26\" >0.023486</td>\n",
              "      <td id=\"T_2a96a_row19_col27\" class=\"data row19 col27\" >-0.026918</td>\n",
              "      <td id=\"T_2a96a_row19_col28\" class=\"data row19 col28\" >-0.027715</td>\n",
              "      <td id=\"T_2a96a_row19_col29\" class=\"data row19 col29\" >-0.015939</td>\n",
              "      <td id=\"T_2a96a_row19_col30\" class=\"data row19 col30\" >-0.037897</td>\n",
              "      <td id=\"T_2a96a_row19_col31\" class=\"data row19 col31\" >0.038685</td>\n",
              "      <td id=\"T_2a96a_row19_col32\" class=\"data row19 col32\" >-0.009155</td>\n",
              "    </tr>\n",
              "    <tr>\n",
              "      <th id=\"T_2a96a_level0_row20\" class=\"row_heading level0 row20\" >Cabin_Reduced_F</th>\n",
              "      <td id=\"T_2a96a_row20_col0\" class=\"data row20 col0\" >0.057935</td>\n",
              "      <td id=\"T_2a96a_row20_col1\" class=\"data row20 col1\" >0.011063</td>\n",
              "      <td id=\"T_2a96a_row20_col2\" class=\"data row20 col2\" >0.011215</td>\n",
              "      <td id=\"T_2a96a_row20_col3\" class=\"data row20 col3\" >0.001706</td>\n",
              "      <td id=\"T_2a96a_row20_col4\" class=\"data row20 col4\" >0.023694</td>\n",
              "      <td id=\"T_2a96a_row20_col5\" class=\"data row20 col5\" >-0.033093</td>\n",
              "      <td id=\"T_2a96a_row20_col6\" class=\"data row20 col6\" >0.008202</td>\n",
              "      <td id=\"T_2a96a_row20_col7\" class=\"data row20 col7\" >-0.008202</td>\n",
              "      <td id=\"T_2a96a_row20_col8\" class=\"data row20 col8\" >0.109227</td>\n",
              "      <td id=\"T_2a96a_row20_col9\" class=\"data row20 col9\" >-0.009141</td>\n",
              "      <td id=\"T_2a96a_row20_col10\" class=\"data row20 col10\" >0.006941</td>\n",
              "      <td id=\"T_2a96a_row20_col11\" class=\"data row20 col11\" >-0.048235</td>\n",
              "      <td id=\"T_2a96a_row20_col12\" class=\"data row20 col12\" >0.004341</td>\n",
              "      <td id=\"T_2a96a_row20_col13\" class=\"data row20 col13\" >-0.009141</td>\n",
              "      <td id=\"T_2a96a_row20_col14\" class=\"data row20 col14\" >-0.014806</td>\n",
              "      <td id=\"T_2a96a_row20_col15\" class=\"data row20 col15\" >-0.015923</td>\n",
              "      <td id=\"T_2a96a_row20_col16\" class=\"data row20 col16\" >-0.028715</td>\n",
              "      <td id=\"T_2a96a_row20_col17\" class=\"data row20 col17\" >-0.032403</td>\n",
              "      <td id=\"T_2a96a_row20_col18\" class=\"data row20 col18\" >-0.023864</td>\n",
              "      <td id=\"T_2a96a_row20_col19\" class=\"data row20 col19\" >-0.023486</td>\n",
              "      <td id=\"T_2a96a_row20_col20\" class=\"data row20 col20\" >1.000000</td>\n",
              "      <td id=\"T_2a96a_row20_col21\" class=\"data row20 col21\" >-0.008171</td>\n",
              "      <td id=\"T_2a96a_row20_col22\" class=\"data row20 col22\" >-0.224012</td>\n",
              "      <td id=\"T_2a96a_row20_col23\" class=\"data row20 col23\" >-0.018905</td>\n",
              "      <td id=\"T_2a96a_row20_col24\" class=\"data row20 col24\" >0.008118</td>\n",
              "      <td id=\"T_2a96a_row20_col25\" class=\"data row20 col25\" >0.028999</td>\n",
              "      <td id=\"T_2a96a_row20_col26\" class=\"data row20 col26\" >-0.031811</td>\n",
              "      <td id=\"T_2a96a_row20_col27\" class=\"data row20 col27\" >-0.016970</td>\n",
              "      <td id=\"T_2a96a_row20_col28\" class=\"data row20 col28\" >-0.017472</td>\n",
              "      <td id=\"T_2a96a_row20_col29\" class=\"data row20 col29\" >-0.034726</td>\n",
              "      <td id=\"T_2a96a_row20_col30\" class=\"data row20 col30\" >-0.004113</td>\n",
              "      <td id=\"T_2a96a_row20_col31\" class=\"data row20 col31\" >0.033537</td>\n",
              "      <td id=\"T_2a96a_row20_col32\" class=\"data row20 col32\" >-0.005771</td>\n",
              "    </tr>\n",
              "    <tr>\n",
              "      <th id=\"T_2a96a_level0_row21\" class=\"row_heading level0 row21\" >Cabin_Reduced_G</th>\n",
              "      <td id=\"T_2a96a_row21_col0\" class=\"data row21 col0\" >0.016040</td>\n",
              "      <td id=\"T_2a96a_row21_col1\" class=\"data row21 col1\" >0.055561</td>\n",
              "      <td id=\"T_2a96a_row21_col2\" class=\"data row21 col2\" >0.030974</td>\n",
              "      <td id=\"T_2a96a_row21_col3\" class=\"data row21 col3\" >-0.001402</td>\n",
              "      <td id=\"T_2a96a_row21_col4\" class=\"data row21 col4\" >0.072388</td>\n",
              "      <td id=\"T_2a96a_row21_col5\" class=\"data row21 col5\" >-0.025180</td>\n",
              "      <td id=\"T_2a96a_row21_col6\" class=\"data row21 col6\" >0.091031</td>\n",
              "      <td id=\"T_2a96a_row21_col7\" class=\"data row21 col7\" >-0.091031</td>\n",
              "      <td id=\"T_2a96a_row21_col8\" class=\"data row21 col8\" >-0.014559</td>\n",
              "      <td id=\"T_2a96a_row21_col9\" class=\"data row21 col9\" >-0.005045</td>\n",
              "      <td id=\"T_2a96a_row21_col10\" class=\"data row21 col10\" >0.048405</td>\n",
              "      <td id=\"T_2a96a_row21_col11\" class=\"data row21 col11\" >-0.078955</td>\n",
              "      <td id=\"T_2a96a_row21_col12\" class=\"data row21 col12\" >0.069107</td>\n",
              "      <td id=\"T_2a96a_row21_col13\" class=\"data row21 col13\" >-0.005045</td>\n",
              "      <td id=\"T_2a96a_row21_col14\" class=\"data row21 col14\" >-0.008171</td>\n",
              "      <td id=\"T_2a96a_row21_col15\" class=\"data row21 col15\" >-0.008787</td>\n",
              "      <td id=\"T_2a96a_row21_col16\" class=\"data row21 col16\" >-0.015847</td>\n",
              "      <td id=\"T_2a96a_row21_col17\" class=\"data row21 col17\" >-0.017883</td>\n",
              "      <td id=\"T_2a96a_row21_col18\" class=\"data row21 col18\" >-0.013170</td>\n",
              "      <td id=\"T_2a96a_row21_col19\" class=\"data row21 col19\" >-0.012961</td>\n",
              "      <td id=\"T_2a96a_row21_col20\" class=\"data row21 col20\" >-0.008171</td>\n",
              "      <td id=\"T_2a96a_row21_col21\" class=\"data row21 col21\" >1.000000</td>\n",
              "      <td id=\"T_2a96a_row21_col22\" class=\"data row21 col22\" >-0.123627</td>\n",
              "      <td id=\"T_2a96a_row21_col23\" class=\"data row21 col23\" >-0.010433</td>\n",
              "      <td id=\"T_2a96a_row21_col24\" class=\"data row21 col24\" >-0.026109</td>\n",
              "      <td id=\"T_2a96a_row21_col25\" class=\"data row21 col25\" >-0.037115</td>\n",
              "      <td id=\"T_2a96a_row21_col26\" class=\"data row21 col26\" >0.119657</td>\n",
              "      <td id=\"T_2a96a_row21_col27\" class=\"data row21 col27\" >-0.009366</td>\n",
              "      <td id=\"T_2a96a_row21_col28\" class=\"data row21 col28\" >-0.009643</td>\n",
              "      <td id=\"T_2a96a_row21_col29\" class=\"data row21 col29\" >-0.032371</td>\n",
              "      <td id=\"T_2a96a_row21_col30\" class=\"data row21 col30\" >-0.020654</td>\n",
              "      <td id=\"T_2a96a_row21_col31\" class=\"data row21 col31\" >0.041589</td>\n",
              "      <td id=\"T_2a96a_row21_col32\" class=\"data row21 col32\" >-0.003185</td>\n",
              "    </tr>\n",
              "    <tr>\n",
              "      <th id=\"T_2a96a_level0_row22\" class=\"row_heading level0 row22\" >Cabin_Reduced_Unknown</th>\n",
              "      <td id=\"T_2a96a_row22_col0\" class=\"data row22 col0\" >-0.319572</td>\n",
              "      <td id=\"T_2a96a_row22_col1\" class=\"data row22 col1\" >0.722607</td>\n",
              "      <td id=\"T_2a96a_row22_col2\" class=\"data row22 col2\" >-0.150247</td>\n",
              "      <td id=\"T_2a96a_row22_col3\" class=\"data row22 col3\" >0.039260</td>\n",
              "      <td id=\"T_2a96a_row22_col4\" class=\"data row22 col4\" >-0.038319</td>\n",
              "      <td id=\"T_2a96a_row22_col5\" class=\"data row22 col5\" >-0.482732</td>\n",
              "      <td id=\"T_2a96a_row22_col6\" class=\"data row22 col6\" >-0.142608</td>\n",
              "      <td id=\"T_2a96a_row22_col7\" class=\"data row22 col7\" >0.142608</td>\n",
              "      <td id=\"T_2a96a_row22_col8\" class=\"data row22 col8\" >0.027309</td>\n",
              "      <td id=\"T_2a96a_row22_col9\" class=\"data row22 col9\" >-0.102477</td>\n",
              "      <td id=\"T_2a96a_row22_col10\" class=\"data row22 col10\" >-0.045194</td>\n",
              "      <td id=\"T_2a96a_row22_col11\" class=\"data row22 col11\" >0.139832</td>\n",
              "      <td id=\"T_2a96a_row22_col12\" class=\"data row22 col12\" >-0.125118</td>\n",
              "      <td id=\"T_2a96a_row22_col13\" class=\"data row22 col13\" >-0.066656</td>\n",
              "      <td id=\"T_2a96a_row22_col14\" class=\"data row22 col14\" >-0.000852</td>\n",
              "      <td id=\"T_2a96a_row22_col15\" class=\"data row22 col15\" >-0.240902</td>\n",
              "      <td id=\"T_2a96a_row22_col16\" class=\"data row22 col16\" >-0.434434</td>\n",
              "      <td id=\"T_2a96a_row22_col17\" class=\"data row22 col17\" >-0.490242</td>\n",
              "      <td id=\"T_2a96a_row22_col18\" class=\"data row22 col18\" >-0.361043</td>\n",
              "      <td id=\"T_2a96a_row22_col19\" class=\"data row22 col19\" >-0.355324</td>\n",
              "      <td id=\"T_2a96a_row22_col20\" class=\"data row22 col20\" >-0.224012</td>\n",
              "      <td id=\"T_2a96a_row22_col21\" class=\"data row22 col21\" >-0.123627</td>\n",
              "      <td id=\"T_2a96a_row22_col22\" class=\"data row22 col22\" >1.000000</td>\n",
              "      <td id=\"T_2a96a_row22_col23\" class=\"data row22 col23\" >0.084392</td>\n",
              "      <td id=\"T_2a96a_row22_col24\" class=\"data row22 col24\" >-0.145329</td>\n",
              "      <td id=\"T_2a96a_row22_col25\" class=\"data row22 col25\" >0.009772</td>\n",
              "      <td id=\"T_2a96a_row22_col26\" class=\"data row22 col26\" >0.065462</td>\n",
              "      <td id=\"T_2a96a_row22_col27\" class=\"data row22 col27\" >0.036638</td>\n",
              "      <td id=\"T_2a96a_row22_col28\" class=\"data row22 col28\" >0.077998</td>\n",
              "      <td id=\"T_2a96a_row22_col29\" class=\"data row22 col29\" >-0.210178</td>\n",
              "      <td id=\"T_2a96a_row22_col30\" class=\"data row22 col30\" >0.128973</td>\n",
              "      <td id=\"T_2a96a_row22_col31\" class=\"data row22 col31\" >0.111935</td>\n",
              "      <td id=\"T_2a96a_row22_col32\" class=\"data row22 col32\" >-0.087319</td>\n",
              "    </tr>\n",
              "    <tr>\n",
              "      <th id=\"T_2a96a_level0_row23\" class=\"row_heading level0 row23\" >Ticket_Prefix_Grouped_A5</th>\n",
              "      <td id=\"T_2a96a_row23_col0\" class=\"data row23 col0\" >-0.092199</td>\n",
              "      <td id=\"T_2a96a_row23_col1\" class=\"data row23 col1\" >0.128545</td>\n",
              "      <td id=\"T_2a96a_row23_col2\" class=\"data row23 col2\" >0.022075</td>\n",
              "      <td id=\"T_2a96a_row23_col3\" class=\"data row23 col3\" >-0.046876</td>\n",
              "      <td id=\"T_2a96a_row23_col4\" class=\"data row23 col4\" >-0.055225</td>\n",
              "      <td id=\"T_2a96a_row23_col5\" class=\"data row23 col5\" >-0.071882</td>\n",
              "      <td id=\"T_2a96a_row23_col6\" class=\"data row23 col6\" >-0.083638</td>\n",
              "      <td id=\"T_2a96a_row23_col7\" class=\"data row23 col7\" >0.083638</td>\n",
              "      <td id=\"T_2a96a_row23_col8\" class=\"data row23 col8\" >-0.033683</td>\n",
              "      <td id=\"T_2a96a_row23_col9\" class=\"data row23 col9\" >-0.011671</td>\n",
              "      <td id=\"T_2a96a_row23_col10\" class=\"data row23 col10\" >-0.079530</td>\n",
              "      <td id=\"T_2a96a_row23_col11\" class=\"data row23 col11\" >0.102160</td>\n",
              "      <td id=\"T_2a96a_row23_col12\" class=\"data row23 col12\" >-0.020589</td>\n",
              "      <td id=\"T_2a96a_row23_col13\" class=\"data row23 col13\" >-0.011671</td>\n",
              "      <td id=\"T_2a96a_row23_col14\" class=\"data row23 col14\" >-0.018905</td>\n",
              "      <td id=\"T_2a96a_row23_col15\" class=\"data row23 col15\" >-0.020330</td>\n",
              "      <td id=\"T_2a96a_row23_col16\" class=\"data row23 col16\" >-0.036663</td>\n",
              "      <td id=\"T_2a96a_row23_col17\" class=\"data row23 col17\" >-0.041373</td>\n",
              "      <td id=\"T_2a96a_row23_col18\" class=\"data row23 col18\" >-0.030469</td>\n",
              "      <td id=\"T_2a96a_row23_col19\" class=\"data row23 col19\" >-0.029987</td>\n",
              "      <td id=\"T_2a96a_row23_col20\" class=\"data row23 col20\" >-0.018905</td>\n",
              "      <td id=\"T_2a96a_row23_col21\" class=\"data row23 col21\" >-0.010433</td>\n",
              "      <td id=\"T_2a96a_row23_col22\" class=\"data row23 col22\" >0.084392</td>\n",
              "      <td id=\"T_2a96a_row23_col23\" class=\"data row23 col23\" >1.000000</td>\n",
              "      <td id=\"T_2a96a_row23_col24\" class=\"data row23 col24\" >-0.060405</td>\n",
              "      <td id=\"T_2a96a_row23_col25\" class=\"data row23 col25\" >-0.263382</td>\n",
              "      <td id=\"T_2a96a_row23_col26\" class=\"data row23 col26\" >-0.040617</td>\n",
              "      <td id=\"T_2a96a_row23_col27\" class=\"data row23 col27\" >-0.021668</td>\n",
              "      <td id=\"T_2a96a_row23_col28\" class=\"data row23 col28\" >-0.022309</td>\n",
              "      <td id=\"T_2a96a_row23_col29\" class=\"data row23 col29\" >-0.074892</td>\n",
              "      <td id=\"T_2a96a_row23_col30\" class=\"data row23 col30\" >-0.021454</td>\n",
              "      <td id=\"T_2a96a_row23_col31\" class=\"data row23 col31\" >0.079690</td>\n",
              "      <td id=\"T_2a96a_row23_col32\" class=\"data row23 col32\" >-0.007369</td>\n",
              "    </tr>\n",
              "    <tr>\n",
              "      <th id=\"T_2a96a_level0_row24\" class=\"row_heading level0 row24\" >Ticket_Prefix_Grouped_C</th>\n",
              "      <td id=\"T_2a96a_row24_col0\" class=\"data row24 col0\" >0.075785</td>\n",
              "      <td id=\"T_2a96a_row24_col1\" class=\"data row24 col1\" >-0.250982</td>\n",
              "      <td id=\"T_2a96a_row24_col2\" class=\"data row24 col2\" >0.020398</td>\n",
              "      <td id=\"T_2a96a_row24_col3\" class=\"data row24 col3\" >0.189374</td>\n",
              "      <td id=\"T_2a96a_row24_col4\" class=\"data row24 col4\" >0.137580</td>\n",
              "      <td id=\"T_2a96a_row24_col5\" class=\"data row24 col5\" >0.344823</td>\n",
              "      <td id=\"T_2a96a_row24_col6\" class=\"data row24 col6\" >0.067944</td>\n",
              "      <td id=\"T_2a96a_row24_col7\" class=\"data row24 col7\" >-0.067944</td>\n",
              "      <td id=\"T_2a96a_row24_col8\" class=\"data row24 col8\" >0.044091</td>\n",
              "      <td id=\"T_2a96a_row24_col9\" class=\"data row24 col9\" >-0.029207</td>\n",
              "      <td id=\"T_2a96a_row24_col10\" class=\"data row24 col10\" >0.046756</td>\n",
              "      <td id=\"T_2a96a_row24_col11\" class=\"data row24 col11\" >-0.086786</td>\n",
              "      <td id=\"T_2a96a_row24_col12\" class=\"data row24 col12\" >0.042482</td>\n",
              "      <td id=\"T_2a96a_row24_col13\" class=\"data row24 col13\" >0.059763</td>\n",
              "      <td id=\"T_2a96a_row24_col14\" class=\"data row24 col14\" >-0.019596</td>\n",
              "      <td id=\"T_2a96a_row24_col15\" class=\"data row24 col15\" >0.026612</td>\n",
              "      <td id=\"T_2a96a_row24_col16\" class=\"data row24 col16\" >0.116375</td>\n",
              "      <td id=\"T_2a96a_row24_col17\" class=\"data row24 col17\" >0.096921</td>\n",
              "      <td id=\"T_2a96a_row24_col18\" class=\"data row24 col18\" >0.011731</td>\n",
              "      <td id=\"T_2a96a_row24_col19\" class=\"data row24 col19\" >0.032109</td>\n",
              "      <td id=\"T_2a96a_row24_col20\" class=\"data row24 col20\" >0.008118</td>\n",
              "      <td id=\"T_2a96a_row24_col21\" class=\"data row24 col21\" >-0.026109</td>\n",
              "      <td id=\"T_2a96a_row24_col22\" class=\"data row24 col22\" >-0.145329</td>\n",
              "      <td id=\"T_2a96a_row24_col23\" class=\"data row24 col23\" >-0.060405</td>\n",
              "      <td id=\"T_2a96a_row24_col24\" class=\"data row24 col24\" >1.000000</td>\n",
              "      <td id=\"T_2a96a_row24_col25\" class=\"data row24 col25\" >-0.659112</td>\n",
              "      <td id=\"T_2a96a_row24_col26\" class=\"data row24 col26\" >-0.101643</td>\n",
              "      <td id=\"T_2a96a_row24_col27\" class=\"data row24 col27\" >-0.054224</td>\n",
              "      <td id=\"T_2a96a_row24_col28\" class=\"data row24 col28\" >-0.055828</td>\n",
              "      <td id=\"T_2a96a_row24_col29\" class=\"data row24 col29\" >0.203378</td>\n",
              "      <td id=\"T_2a96a_row24_col30\" class=\"data row24 col30\" >-0.119579</td>\n",
              "      <td id=\"T_2a96a_row24_col31\" class=\"data row24 col31\" >-0.100708</td>\n",
              "      <td id=\"T_2a96a_row24_col32\" class=\"data row24 col32\" >-0.018441</td>\n",
              "    </tr>\n",
              "    <tr>\n",
              "      <th id=\"T_2a96a_level0_row25\" class=\"row_heading level0 row25\" >Ticket_Prefix_Grouped_NUMERIC</th>\n",
              "      <td id=\"T_2a96a_row25_col0\" class=\"data row25 col0\" >0.001492</td>\n",
              "      <td id=\"T_2a96a_row25_col1\" class=\"data row25 col1\" >0.079763</td>\n",
              "      <td id=\"T_2a96a_row25_col2\" class=\"data row25 col2\" >-0.056692</td>\n",
              "      <td id=\"T_2a96a_row25_col3\" class=\"data row25 col3\" >-0.080768</td>\n",
              "      <td id=\"T_2a96a_row25_col4\" class=\"data row25 col4\" >-0.035762</td>\n",
              "      <td id=\"T_2a96a_row25_col5\" class=\"data row25 col5\" >-0.173170</td>\n",
              "      <td id=\"T_2a96a_row25_col6\" class=\"data row25 col6\" >0.032507</td>\n",
              "      <td id=\"T_2a96a_row25_col7\" class=\"data row25 col7\" >-0.032507</td>\n",
              "      <td id=\"T_2a96a_row25_col8\" class=\"data row25 col8\" >0.016417</td>\n",
              "      <td id=\"T_2a96a_row25_col9\" class=\"data row25 col9\" >0.009980</td>\n",
              "      <td id=\"T_2a96a_row25_col10\" class=\"data row25 col10\" >0.023745</td>\n",
              "      <td id=\"T_2a96a_row25_col11\" class=\"data row25 col11\" >-0.039200</td>\n",
              "      <td id=\"T_2a96a_row25_col12\" class=\"data row25 col12\" >0.011226</td>\n",
              "      <td id=\"T_2a96a_row25_col13\" class=\"data row25 col13\" >-0.024353</td>\n",
              "      <td id=\"T_2a96a_row25_col14\" class=\"data row25 col14\" >0.028999</td>\n",
              "      <td id=\"T_2a96a_row25_col15\" class=\"data row25 col15\" >0.017384</td>\n",
              "      <td id=\"T_2a96a_row25_col16\" class=\"data row25 col16\" >-0.044374</td>\n",
              "      <td id=\"T_2a96a_row25_col17\" class=\"data row25 col17\" >0.002373</td>\n",
              "      <td id=\"T_2a96a_row25_col18\" class=\"data row25 col18\" >0.020622</td>\n",
              "      <td id=\"T_2a96a_row25_col19\" class=\"data row25 col19\" >-0.010194</td>\n",
              "      <td id=\"T_2a96a_row25_col20\" class=\"data row25 col20\" >0.028999</td>\n",
              "      <td id=\"T_2a96a_row25_col21\" class=\"data row25 col21\" >-0.037115</td>\n",
              "      <td id=\"T_2a96a_row25_col22\" class=\"data row25 col22\" >0.009772</td>\n",
              "      <td id=\"T_2a96a_row25_col23\" class=\"data row25 col23\" >-0.263382</td>\n",
              "      <td id=\"T_2a96a_row25_col24\" class=\"data row25 col24\" >-0.659112</td>\n",
              "      <td id=\"T_2a96a_row25_col25\" class=\"data row25 col25\" >1.000000</td>\n",
              "      <td id=\"T_2a96a_row25_col26\" class=\"data row25 col26\" >-0.443191</td>\n",
              "      <td id=\"T_2a96a_row25_col27\" class=\"data row25 col27\" >-0.236432</td>\n",
              "      <td id=\"T_2a96a_row25_col28\" class=\"data row25 col28\" >-0.243425</td>\n",
              "      <td id=\"T_2a96a_row25_col29\" class=\"data row25 col29\" >-0.115615</td>\n",
              "      <td id=\"T_2a96a_row25_col30\" class=\"data row25 col30\" >0.172297</td>\n",
              "      <td id=\"T_2a96a_row25_col31\" class=\"data row25 col31\" >-0.010083</td>\n",
              "      <td id=\"T_2a96a_row25_col32\" class=\"data row25 col32\" >0.027979</td>\n",
              "    </tr>\n",
              "    <tr>\n",
              "      <th id=\"T_2a96a_level0_row26\" class=\"row_heading level0 row26\" >Ticket_Prefix_Grouped_OTHER</th>\n",
              "      <td id=\"T_2a96a_row26_col0\" class=\"data row26 col0\" >-0.074305</td>\n",
              "      <td id=\"T_2a96a_row26_col1\" class=\"data row26 col1\" >0.079080</td>\n",
              "      <td id=\"T_2a96a_row26_col2\" class=\"data row26 col2\" >0.015272</td>\n",
              "      <td id=\"T_2a96a_row26_col3\" class=\"data row26 col3\" >-0.061638</td>\n",
              "      <td id=\"T_2a96a_row26_col4\" class=\"data row26 col4\" >-0.066900</td>\n",
              "      <td id=\"T_2a96a_row26_col5\" class=\"data row26 col5\" >-0.068510</td>\n",
              "      <td id=\"T_2a96a_row26_col6\" class=\"data row26 col6\" >-0.087247</td>\n",
              "      <td id=\"T_2a96a_row26_col7\" class=\"data row26 col7\" >0.087247</td>\n",
              "      <td id=\"T_2a96a_row26_col8\" class=\"data row26 col8\" >-0.056679</td>\n",
              "      <td id=\"T_2a96a_row26_col9\" class=\"data row26 col9\" >0.041759</td>\n",
              "      <td id=\"T_2a96a_row26_col10\" class=\"data row26 col10\" >-0.054672</td>\n",
              "      <td id=\"T_2a96a_row26_col11\" class=\"data row26 col11\" >0.101539</td>\n",
              "      <td id=\"T_2a96a_row26_col12\" class=\"data row26 col12\" >-0.053448</td>\n",
              "      <td id=\"T_2a96a_row26_col13\" class=\"data row26 col13\" >-0.019639</td>\n",
              "      <td id=\"T_2a96a_row26_col14\" class=\"data row26 col14\" >0.006439</td>\n",
              "      <td id=\"T_2a96a_row26_col15\" class=\"data row26 col15\" >-0.034210</td>\n",
              "      <td id=\"T_2a96a_row26_col16\" class=\"data row26 col16\" >-0.020656</td>\n",
              "      <td id=\"T_2a96a_row26_col17\" class=\"data row26 col17\" >-0.069618</td>\n",
              "      <td id=\"T_2a96a_row26_col18\" class=\"data row26 col18\" >-0.051271</td>\n",
              "      <td id=\"T_2a96a_row26_col19\" class=\"data row26 col19\" >0.023486</td>\n",
              "      <td id=\"T_2a96a_row26_col20\" class=\"data row26 col20\" >-0.031811</td>\n",
              "      <td id=\"T_2a96a_row26_col21\" class=\"data row26 col21\" >0.119657</td>\n",
              "      <td id=\"T_2a96a_row26_col22\" class=\"data row26 col22\" >0.065462</td>\n",
              "      <td id=\"T_2a96a_row26_col23\" class=\"data row26 col23\" >-0.040617</td>\n",
              "      <td id=\"T_2a96a_row26_col24\" class=\"data row26 col24\" >-0.101643</td>\n",
              "      <td id=\"T_2a96a_row26_col25\" class=\"data row26 col25\" >-0.443191</td>\n",
              "      <td id=\"T_2a96a_row26_col26\" class=\"data row26 col26\" >1.000000</td>\n",
              "      <td id=\"T_2a96a_row26_col27\" class=\"data row26 col27\" >-0.036461</td>\n",
              "      <td id=\"T_2a96a_row26_col28\" class=\"data row26 col28\" >-0.037539</td>\n",
              "      <td id=\"T_2a96a_row26_col29\" class=\"data row26 col29\" >-0.102569</td>\n",
              "      <td id=\"T_2a96a_row26_col30\" class=\"data row26 col30\" >-0.080406</td>\n",
              "      <td id=\"T_2a96a_row26_col31\" class=\"data row26 col31\" >0.141412</td>\n",
              "      <td id=\"T_2a96a_row26_col32\" class=\"data row26 col32\" >-0.012400</td>\n",
              "    </tr>\n",
              "    <tr>\n",
              "      <th id=\"T_2a96a_level0_row27\" class=\"row_heading level0 row27\" >Ticket_Prefix_Grouped_SC</th>\n",
              "      <td id=\"T_2a96a_row27_col0\" class=\"data row27 col0\" >0.024878</td>\n",
              "      <td id=\"T_2a96a_row27_col1\" class=\"data row27 col1\" >-0.041696</td>\n",
              "      <td id=\"T_2a96a_row27_col2\" class=\"data row27 col2\" >0.006416</td>\n",
              "      <td id=\"T_2a96a_row27_col3\" class=\"data row27 col3\" >-0.006633</td>\n",
              "      <td id=\"T_2a96a_row27_col4\" class=\"data row27 col4\" >0.025590</td>\n",
              "      <td id=\"T_2a96a_row27_col5\" class=\"data row27 col5\" >-0.025140</td>\n",
              "      <td id=\"T_2a96a_row27_col6\" class=\"data row27 col6\" >0.000154</td>\n",
              "      <td id=\"T_2a96a_row27_col7\" class=\"data row27 col7\" >-0.000154</td>\n",
              "      <td id=\"T_2a96a_row27_col8\" class=\"data row27 col8\" >0.009382</td>\n",
              "      <td id=\"T_2a96a_row27_col9\" class=\"data row27 col9\" >-0.010477</td>\n",
              "      <td id=\"T_2a96a_row27_col10\" class=\"data row27 col10\" >-0.010715</td>\n",
              "      <td id=\"T_2a96a_row27_col11\" class=\"data row27 col11\" >0.002257</td>\n",
              "      <td id=\"T_2a96a_row27_col12\" class=\"data row27 col12\" >0.014031</td>\n",
              "      <td id=\"T_2a96a_row27_col13\" class=\"data row27 col13\" >-0.010477</td>\n",
              "      <td id=\"T_2a96a_row27_col14\" class=\"data row27 col14\" >-0.016970</td>\n",
              "      <td id=\"T_2a96a_row27_col15\" class=\"data row27 col15\" >-0.018250</td>\n",
              "      <td id=\"T_2a96a_row27_col16\" class=\"data row27 col16\" >-0.032911</td>\n",
              "      <td id=\"T_2a96a_row27_col17\" class=\"data row27 col17\" >-0.037139</td>\n",
              "      <td id=\"T_2a96a_row27_col18\" class=\"data row27 col18\" >0.059530</td>\n",
              "      <td id=\"T_2a96a_row27_col19\" class=\"data row27 col19\" >-0.026918</td>\n",
              "      <td id=\"T_2a96a_row27_col20\" class=\"data row27 col20\" >-0.016970</td>\n",
              "      <td id=\"T_2a96a_row27_col21\" class=\"data row27 col21\" >-0.009366</td>\n",
              "      <td id=\"T_2a96a_row27_col22\" class=\"data row27 col22\" >0.036638</td>\n",
              "      <td id=\"T_2a96a_row27_col23\" class=\"data row27 col23\" >-0.021668</td>\n",
              "      <td id=\"T_2a96a_row27_col24\" class=\"data row27 col24\" >-0.054224</td>\n",
              "      <td id=\"T_2a96a_row27_col25\" class=\"data row27 col25\" >-0.236432</td>\n",
              "      <td id=\"T_2a96a_row27_col26\" class=\"data row27 col26\" >-0.036461</td>\n",
              "      <td id=\"T_2a96a_row27_col27\" class=\"data row27 col27\" >1.000000</td>\n",
              "      <td id=\"T_2a96a_row27_col28\" class=\"data row27 col28\" >-0.020026</td>\n",
              "      <td id=\"T_2a96a_row27_col29\" class=\"data row27 col29\" >0.205429</td>\n",
              "      <td id=\"T_2a96a_row27_col30\" class=\"data row27 col30\" >-0.042895</td>\n",
              "      <td id=\"T_2a96a_row27_col31\" class=\"data row27 col31\" >-0.151887</td>\n",
              "      <td id=\"T_2a96a_row27_col32\" class=\"data row27 col32\" >-0.006615</td>\n",
              "    </tr>\n",
              "    <tr>\n",
              "      <th id=\"T_2a96a_level0_row28\" class=\"row_heading level0 row28\" >Ticket_Prefix_Grouped_STONO</th>\n",
              "      <td id=\"T_2a96a_row28_col0\" class=\"data row28 col0\" >0.017895</td>\n",
              "      <td id=\"T_2a96a_row28_col1\" class=\"data row28 col1\" >0.118804</td>\n",
              "      <td id=\"T_2a96a_row28_col2\" class=\"data row28 col2\" >0.070766</td>\n",
              "      <td id=\"T_2a96a_row28_col3\" class=\"data row28 col3\" >-0.039188</td>\n",
              "      <td id=\"T_2a96a_row28_col4\" class=\"data row28 col4\" >-0.068016</td>\n",
              "      <td id=\"T_2a96a_row28_col5\" class=\"data row28 col5\" >-0.068035</td>\n",
              "      <td id=\"T_2a96a_row28_col6\" class=\"data row28 col6\" >-0.022434</td>\n",
              "      <td id=\"T_2a96a_row28_col7\" class=\"data row28 col7\" >0.022434</td>\n",
              "      <td id=\"T_2a96a_row28_col8\" class=\"data row28 col8\" >-0.031131</td>\n",
              "      <td id=\"T_2a96a_row28_col9\" class=\"data row28 col9\" >-0.010787</td>\n",
              "      <td id=\"T_2a96a_row28_col10\" class=\"data row28 col10\" >0.005165</td>\n",
              "      <td id=\"T_2a96a_row28_col11\" class=\"data row28 col11\" >0.041308</td>\n",
              "      <td id=\"T_2a96a_row28_col12\" class=\"data row28 col12\" >-0.035381</td>\n",
              "      <td id=\"T_2a96a_row28_col13\" class=\"data row28 col13\" >-0.010787</td>\n",
              "      <td id=\"T_2a96a_row28_col14\" class=\"data row28 col14\" >-0.017472</td>\n",
              "      <td id=\"T_2a96a_row28_col15\" class=\"data row28 col15\" >-0.018790</td>\n",
              "      <td id=\"T_2a96a_row28_col16\" class=\"data row28 col16\" >-0.033885</td>\n",
              "      <td id=\"T_2a96a_row28_col17\" class=\"data row28 col17\" >-0.038238</td>\n",
              "      <td id=\"T_2a96a_row28_col18\" class=\"data row28 col18\" >-0.028161</td>\n",
              "      <td id=\"T_2a96a_row28_col19\" class=\"data row28 col19\" >-0.027715</td>\n",
              "      <td id=\"T_2a96a_row28_col20\" class=\"data row28 col20\" >-0.017472</td>\n",
              "      <td id=\"T_2a96a_row28_col21\" class=\"data row28 col21\" >-0.009643</td>\n",
              "      <td id=\"T_2a96a_row28_col22\" class=\"data row28 col22\" >0.077998</td>\n",
              "      <td id=\"T_2a96a_row28_col23\" class=\"data row28 col23\" >-0.022309</td>\n",
              "      <td id=\"T_2a96a_row28_col24\" class=\"data row28 col24\" >-0.055828</td>\n",
              "      <td id=\"T_2a96a_row28_col25\" class=\"data row28 col25\" >-0.243425</td>\n",
              "      <td id=\"T_2a96a_row28_col26\" class=\"data row28 col26\" >-0.037539</td>\n",
              "      <td id=\"T_2a96a_row28_col27\" class=\"data row28 col27\" >-0.020026</td>\n",
              "      <td id=\"T_2a96a_row28_col28\" class=\"data row28 col28\" >1.000000</td>\n",
              "      <td id=\"T_2a96a_row28_col29\" class=\"data row28 col29\" >-0.069217</td>\n",
              "      <td id=\"T_2a96a_row28_col30\" class=\"data row28 col30\" >-0.044163</td>\n",
              "      <td id=\"T_2a96a_row28_col31\" class=\"data row28 col31\" >0.088927</td>\n",
              "      <td id=\"T_2a96a_row28_col32\" class=\"data row28 col32\" >-0.006811</td>\n",
              "    </tr>\n",
              "    <tr>\n",
              "      <th id=\"T_2a96a_level0_row29\" class=\"row_heading level0 row29\" >Embarked_Cherbourg</th>\n",
              "      <td id=\"T_2a96a_row29_col0\" class=\"data row29 col0\" >0.168240</td>\n",
              "      <td id=\"T_2a96a_row29_col1\" class=\"data row29 col1\" >-0.243292</td>\n",
              "      <td id=\"T_2a96a_row29_col2\" class=\"data row29 col2\" >-0.032240</td>\n",
              "      <td id=\"T_2a96a_row29_col3\" class=\"data row29 col3\" >-0.059528</td>\n",
              "      <td id=\"T_2a96a_row29_col4\" class=\"data row29 col4\" >-0.011069</td>\n",
              "      <td id=\"T_2a96a_row29_col5\" class=\"data row29 col5\" >0.269335</td>\n",
              "      <td id=\"T_2a96a_row29_col6\" class=\"data row29 col6\" >0.082853</td>\n",
              "      <td id=\"T_2a96a_row29_col7\" class=\"data row29 col7\" >-0.082853</td>\n",
              "      <td id=\"T_2a96a_row29_col8\" class=\"data row29 col8\" >-0.035225</td>\n",
              "      <td id=\"T_2a96a_row29_col9\" class=\"data row29 col9\" >0.002199</td>\n",
              "      <td id=\"T_2a96a_row29_col10\" class=\"data row29 col10\" >0.036204</td>\n",
              "      <td id=\"T_2a96a_row29_col11\" class=\"data row29 col11\" >-0.072567</td>\n",
              "      <td id=\"T_2a96a_row29_col12\" class=\"data row29 col12\" >0.067872</td>\n",
              "      <td id=\"T_2a96a_row29_col13\" class=\"data row29 col13\" >0.079020</td>\n",
              "      <td id=\"T_2a96a_row29_col14\" class=\"data row29 col14\" >-0.010797</td>\n",
              "      <td id=\"T_2a96a_row29_col15\" class=\"data row29 col15\" >0.093040</td>\n",
              "      <td id=\"T_2a96a_row29_col16\" class=\"data row29 col16\" >0.168642</td>\n",
              "      <td id=\"T_2a96a_row29_col17\" class=\"data row29 col17\" >0.113952</td>\n",
              "      <td id=\"T_2a96a_row29_col18\" class=\"data row29 col18\" >0.102977</td>\n",
              "      <td id=\"T_2a96a_row29_col19\" class=\"data row29 col19\" >-0.015939</td>\n",
              "      <td id=\"T_2a96a_row29_col20\" class=\"data row29 col20\" >-0.034726</td>\n",
              "      <td id=\"T_2a96a_row29_col21\" class=\"data row29 col21\" >-0.032371</td>\n",
              "      <td id=\"T_2a96a_row29_col22\" class=\"data row29 col22\" >-0.210178</td>\n",
              "      <td id=\"T_2a96a_row29_col23\" class=\"data row29 col23\" >-0.074892</td>\n",
              "      <td id=\"T_2a96a_row29_col24\" class=\"data row29 col24\" >0.203378</td>\n",
              "      <td id=\"T_2a96a_row29_col25\" class=\"data row29 col25\" >-0.115615</td>\n",
              "      <td id=\"T_2a96a_row29_col26\" class=\"data row29 col26\" >-0.102569</td>\n",
              "      <td id=\"T_2a96a_row29_col27\" class=\"data row29 col27\" >0.205429</td>\n",
              "      <td id=\"T_2a96a_row29_col28\" class=\"data row29 col28\" >-0.069217</td>\n",
              "      <td id=\"T_2a96a_row29_col29\" class=\"data row29 col29\" >1.000000</td>\n",
              "      <td id=\"T_2a96a_row29_col30\" class=\"data row29 col30\" >-0.148258</td>\n",
              "      <td id=\"T_2a96a_row29_col31\" class=\"data row29 col31\" >-0.778359</td>\n",
              "      <td id=\"T_2a96a_row29_col32\" class=\"data row29 col32\" >-0.022864</td>\n",
              "    </tr>\n",
              "    <tr>\n",
              "      <th id=\"T_2a96a_level0_row30\" class=\"row_heading level0 row30\" >Embarked_Queenstown</th>\n",
              "      <td id=\"T_2a96a_row30_col0\" class=\"data row30 col0\" >0.003650</td>\n",
              "      <td id=\"T_2a96a_row30_col1\" class=\"data row30 col1\" >0.221009</td>\n",
              "      <td id=\"T_2a96a_row30_col2\" class=\"data row30 col2\" >-0.337683</td>\n",
              "      <td id=\"T_2a96a_row30_col3\" class=\"data row30 col3\" >-0.026354</td>\n",
              "      <td id=\"T_2a96a_row30_col4\" class=\"data row30 col4\" >-0.081228</td>\n",
              "      <td id=\"T_2a96a_row30_col5\" class=\"data row30 col5\" >-0.117216</td>\n",
              "      <td id=\"T_2a96a_row30_col6\" class=\"data row30 col6\" >0.074115</td>\n",
              "      <td id=\"T_2a96a_row30_col7\" class=\"data row30 col7\" >-0.074115</td>\n",
              "      <td id=\"T_2a96a_row30_col8\" class=\"data row30 col8\" >0.010478</td>\n",
              "      <td id=\"T_2a96a_row30_col9\" class=\"data row30 col9\" >-0.023105</td>\n",
              "      <td id=\"T_2a96a_row30_col10\" class=\"data row30 col10\" >0.167531</td>\n",
              "      <td id=\"T_2a96a_row30_col11\" class=\"data row30 col11\" >-0.078338</td>\n",
              "      <td id=\"T_2a96a_row30_col12\" class=\"data row30 col12\" >-0.090432</td>\n",
              "      <td id=\"T_2a96a_row30_col13\" class=\"data row30 col13\" >-0.023105</td>\n",
              "      <td id=\"T_2a96a_row30_col14\" class=\"data row30 col14\" >0.029199</td>\n",
              "      <td id=\"T_2a96a_row30_col15\" class=\"data row30 col15\" >-0.040246</td>\n",
              "      <td id=\"T_2a96a_row30_col16\" class=\"data row30 col16\" >-0.072579</td>\n",
              "      <td id=\"T_2a96a_row30_col17\" class=\"data row30 col17\" >-0.049776</td>\n",
              "      <td id=\"T_2a96a_row30_col18\" class=\"data row30 col18\" >-0.060318</td>\n",
              "      <td id=\"T_2a96a_row30_col19\" class=\"data row30 col19\" >-0.037897</td>\n",
              "      <td id=\"T_2a96a_row30_col20\" class=\"data row30 col20\" >-0.004113</td>\n",
              "      <td id=\"T_2a96a_row30_col21\" class=\"data row30 col21\" >-0.020654</td>\n",
              "      <td id=\"T_2a96a_row30_col22\" class=\"data row30 col22\" >0.128973</td>\n",
              "      <td id=\"T_2a96a_row30_col23\" class=\"data row30 col23\" >-0.021454</td>\n",
              "      <td id=\"T_2a96a_row30_col24\" class=\"data row30 col24\" >-0.119579</td>\n",
              "      <td id=\"T_2a96a_row30_col25\" class=\"data row30 col25\" >0.172297</td>\n",
              "      <td id=\"T_2a96a_row30_col26\" class=\"data row30 col26\" >-0.080406</td>\n",
              "      <td id=\"T_2a96a_row30_col27\" class=\"data row30 col27\" >-0.042895</td>\n",
              "      <td id=\"T_2a96a_row30_col28\" class=\"data row30 col28\" >-0.044163</td>\n",
              "      <td id=\"T_2a96a_row30_col29\" class=\"data row30 col29\" >-0.148258</td>\n",
              "      <td id=\"T_2a96a_row30_col30\" class=\"data row30 col30\" >1.000000</td>\n",
              "      <td id=\"T_2a96a_row30_col31\" class=\"data row30 col31\" >-0.496624</td>\n",
              "      <td id=\"T_2a96a_row30_col32\" class=\"data row30 col32\" >-0.014588</td>\n",
              "    </tr>\n",
              "    <tr>\n",
              "      <th id=\"T_2a96a_level0_row31\" class=\"row_heading level0 row31\" >Embarked_Southampton</th>\n",
              "      <td id=\"T_2a96a_row31_col0\" class=\"data row31 col0\" >-0.155660</td>\n",
              "      <td id=\"T_2a96a_row31_col1\" class=\"data row31 col1\" >0.081720</td>\n",
              "      <td id=\"T_2a96a_row31_col2\" class=\"data row31 col2\" >0.237399</td>\n",
              "      <td id=\"T_2a96a_row31_col3\" class=\"data row31 col3\" >0.070941</td>\n",
              "      <td id=\"T_2a96a_row31_col4\" class=\"data row31 col4\" >0.063036</td>\n",
              "      <td id=\"T_2a96a_row31_col5\" class=\"data row31 col5\" >-0.166603</td>\n",
              "      <td id=\"T_2a96a_row31_col6\" class=\"data row31 col6\" >-0.125722</td>\n",
              "      <td id=\"T_2a96a_row31_col7\" class=\"data row31 col7\" >0.125722</td>\n",
              "      <td id=\"T_2a96a_row31_col8\" class=\"data row31 col8\" >0.025291</td>\n",
              "      <td id=\"T_2a96a_row31_col9\" class=\"data row31 col9\" >0.012959</td>\n",
              "      <td id=\"T_2a96a_row31_col10\" class=\"data row31 col10\" >-0.140414</td>\n",
              "      <td id=\"T_2a96a_row31_col11\" class=\"data row31 col11\" >0.118482</td>\n",
              "      <td id=\"T_2a96a_row31_col12\" class=\"data row31 col12\" >-0.007704</td>\n",
              "      <td id=\"T_2a96a_row31_col13\" class=\"data row31 col13\" >-0.054171</td>\n",
              "      <td id=\"T_2a96a_row31_col14\" class=\"data row31 col14\" >-0.008284</td>\n",
              "      <td id=\"T_2a96a_row31_col15\" class=\"data row31 col15\" >-0.055383</td>\n",
              "      <td id=\"T_2a96a_row31_col16\" class=\"data row31 col16\" >-0.123057</td>\n",
              "      <td id=\"T_2a96a_row31_col17\" class=\"data row31 col17\" >-0.066995</td>\n",
              "      <td id=\"T_2a96a_row31_col18\" class=\"data row31 col18\" >-0.051139</td>\n",
              "      <td id=\"T_2a96a_row31_col19\" class=\"data row31 col19\" >0.038685</td>\n",
              "      <td id=\"T_2a96a_row31_col20\" class=\"data row31 col20\" >0.033537</td>\n",
              "      <td id=\"T_2a96a_row31_col21\" class=\"data row31 col21\" >0.041589</td>\n",
              "      <td id=\"T_2a96a_row31_col22\" class=\"data row31 col22\" >0.111935</td>\n",
              "      <td id=\"T_2a96a_row31_col23\" class=\"data row31 col23\" >0.079690</td>\n",
              "      <td id=\"T_2a96a_row31_col24\" class=\"data row31 col24\" >-0.100708</td>\n",
              "      <td id=\"T_2a96a_row31_col25\" class=\"data row31 col25\" >-0.010083</td>\n",
              "      <td id=\"T_2a96a_row31_col26\" class=\"data row31 col26\" >0.141412</td>\n",
              "      <td id=\"T_2a96a_row31_col27\" class=\"data row31 col27\" >-0.151887</td>\n",
              "      <td id=\"T_2a96a_row31_col28\" class=\"data row31 col28\" >0.088927</td>\n",
              "      <td id=\"T_2a96a_row31_col29\" class=\"data row31 col29\" >-0.778359</td>\n",
              "      <td id=\"T_2a96a_row31_col30\" class=\"data row31 col30\" >-0.496624</td>\n",
              "      <td id=\"T_2a96a_row31_col31\" class=\"data row31 col31\" >1.000000</td>\n",
              "      <td id=\"T_2a96a_row31_col32\" class=\"data row31 col32\" >-0.076588</td>\n",
              "    </tr>\n",
              "    <tr>\n",
              "      <th id=\"T_2a96a_level0_row32\" class=\"row_heading level0 row32\" >Embarked_Unknown</th>\n",
              "      <td id=\"T_2a96a_row32_col0\" class=\"data row32 col0\" >0.060095</td>\n",
              "      <td id=\"T_2a96a_row32_col1\" class=\"data row32 col1\" >-0.074282</td>\n",
              "      <td id=\"T_2a96a_row32_col2\" class=\"data row32 col2\" >0.025949</td>\n",
              "      <td id=\"T_2a96a_row32_col3\" class=\"data row32 col3\" >-0.022508</td>\n",
              "      <td id=\"T_2a96a_row32_col4\" class=\"data row32 col4\" >-0.022467</td>\n",
              "      <td id=\"T_2a96a_row32_col5\" class=\"data row32 col5\" >0.045646</td>\n",
              "      <td id=\"T_2a96a_row32_col6\" class=\"data row32 col6\" >0.064296</td>\n",
              "      <td id=\"T_2a96a_row32_col7\" class=\"data row32 col7\" >-0.064296</td>\n",
              "      <td id=\"T_2a96a_row32_col8\" class=\"data row32 col8\" >-0.010283</td>\n",
              "      <td id=\"T_2a96a_row32_col9\" class=\"data row32 col9\" >-0.003563</td>\n",
              "      <td id=\"T_2a96a_row32_col10\" class=\"data row32 col10\" >0.034189</td>\n",
              "      <td id=\"T_2a96a_row32_col11\" class=\"data row32 col11\" >-0.055767</td>\n",
              "      <td id=\"T_2a96a_row32_col12\" class=\"data row32 col12\" >0.048811</td>\n",
              "      <td id=\"T_2a96a_row32_col13\" class=\"data row32 col13\" >-0.003563</td>\n",
              "      <td id=\"T_2a96a_row32_col14\" class=\"data row32 col14\" >-0.005771</td>\n",
              "      <td id=\"T_2a96a_row32_col15\" class=\"data row32 col15\" >-0.006207</td>\n",
              "      <td id=\"T_2a96a_row32_col16\" class=\"data row32 col16\" >0.200996</td>\n",
              "      <td id=\"T_2a96a_row32_col17\" class=\"data row32 col17\" >-0.012631</td>\n",
              "      <td id=\"T_2a96a_row32_col18\" class=\"data row32 col18\" >-0.009302</td>\n",
              "      <td id=\"T_2a96a_row32_col19\" class=\"data row32 col19\" >-0.009155</td>\n",
              "      <td id=\"T_2a96a_row32_col20\" class=\"data row32 col20\" >-0.005771</td>\n",
              "      <td id=\"T_2a96a_row32_col21\" class=\"data row32 col21\" >-0.003185</td>\n",
              "      <td id=\"T_2a96a_row32_col22\" class=\"data row32 col22\" >-0.087319</td>\n",
              "      <td id=\"T_2a96a_row32_col23\" class=\"data row32 col23\" >-0.007369</td>\n",
              "      <td id=\"T_2a96a_row32_col24\" class=\"data row32 col24\" >-0.018441</td>\n",
              "      <td id=\"T_2a96a_row32_col25\" class=\"data row32 col25\" >0.027979</td>\n",
              "      <td id=\"T_2a96a_row32_col26\" class=\"data row32 col26\" >-0.012400</td>\n",
              "      <td id=\"T_2a96a_row32_col27\" class=\"data row32 col27\" >-0.006615</td>\n",
              "      <td id=\"T_2a96a_row32_col28\" class=\"data row32 col28\" >-0.006811</td>\n",
              "      <td id=\"T_2a96a_row32_col29\" class=\"data row32 col29\" >-0.022864</td>\n",
              "      <td id=\"T_2a96a_row32_col30\" class=\"data row32 col30\" >-0.014588</td>\n",
              "      <td id=\"T_2a96a_row32_col31\" class=\"data row32 col31\" >-0.076588</td>\n",
              "      <td id=\"T_2a96a_row32_col32\" class=\"data row32 col32\" >1.000000</td>\n",
              "    </tr>\n",
              "  </tbody>\n",
              "</table>\n"
            ]
          },
          "metadata": {},
          "execution_count": 1774
        }
      ]
    },
    {
      "cell_type": "markdown",
      "source": [
        "# Split X-y"
      ],
      "metadata": {
        "id": "j6gPvcMoeHNY"
      }
    },
    {
      "cell_type": "code",
      "source": [
        "target = 'Survived'\n",
        "features = df.columns[df.columns!=target]"
      ],
      "metadata": {
        "id": "YU0qGamUAQbd"
      },
      "execution_count": null,
      "outputs": []
    },
    {
      "cell_type": "code",
      "source": [
        "# Divide dataset en matriz de variables (X) y output (y)\n",
        "X = df[features]\n",
        "y = df[target]"
      ],
      "metadata": {
        "id": "GliY-LtpAW_1"
      },
      "execution_count": null,
      "outputs": []
    },
    {
      "cell_type": "code",
      "source": [
        "# Mismo analisis, pero desde una funcion que nos facilita la vida\n",
        "def highly_correlated(X, y, threshold):\n",
        "    col_corr = list() # Set of all the names of deleted columns\n",
        "    colnames = list()\n",
        "    rownames = list()\n",
        "    corr_matrix = X.corr().abs()\n",
        "    for i in range(len(corr_matrix.columns)):\n",
        "        for j in range(i):\n",
        "            if (corr_matrix.iloc[i, j] >= threshold) and (corr_matrix.columns[j] not in col_corr):\n",
        "                colnames.append(corr_matrix.columns[i]) # getting the name of column\n",
        "                rownames.append(corr_matrix.index[j])\n",
        "                col_corr.append(corr_matrix.iloc[i, j])\n",
        "    Z = pd.DataFrame({'F1':colnames,\n",
        "                      'F2':rownames,\n",
        "                      'corr_F1_F2':col_corr,\n",
        "                      'corr_F1_target': [np.abs(np.corrcoef(X[i],y)[0,1]) for i in colnames],\n",
        "                      'corr_F2_target': [np.abs(np.corrcoef(X[i],y)[0,1]) for i in rownames]\n",
        "                      })\n",
        "    Z['F_to_delete'] = rownames\n",
        "    Z['F_to_delete'][Z['corr_F1_target'] < Z['corr_F2_target']] = Z['F1'][Z['corr_F1_target'] < Z['corr_F2_target']]\n",
        "\n",
        "    return Z\n",
        "\n",
        "highly_corr = highly_correlated(X,y,0.95)\n",
        "highly_corr"
      ],
      "metadata": {
        "colab": {
          "base_uri": "https://localhost:8080/",
          "height": 187
        },
        "id": "ZqvIdmV48y_V",
        "outputId": "dd54c587-ccc6-4a63-ab75-3bf50abf53e2"
      },
      "execution_count": null,
      "outputs": [
        {
          "output_type": "stream",
          "name": "stderr",
          "text": [
            "<ipython-input-1777-eb730a640991>:20: SettingWithCopyWarning: \n",
            "A value is trying to be set on a copy of a slice from a DataFrame\n",
            "\n",
            "See the caveats in the documentation: https://pandas.pydata.org/pandas-docs/stable/user_guide/indexing.html#returning-a-view-versus-a-copy\n",
            "  Z['F_to_delete'][Z['corr_F1_target'] < Z['corr_F2_target']] = Z['F1'][Z['corr_F1_target'] < Z['corr_F2_target']]\n"
          ]
        },
        {
          "output_type": "execute_result",
          "data": {
            "text/plain": [
              "         F1          F2  corr_F1_F2  corr_F1_target  corr_F2_target  \\\n",
              "0  Sex_male  Sex_female         1.0        0.543351        0.543351   \n",
              "\n",
              "  F_to_delete  \n",
              "0  Sex_female  "
            ],
            "text/html": [
              "\n",
              "  <div id=\"df-90de819e-d395-43ba-b83c-341e5c1b27f1\" class=\"colab-df-container\">\n",
              "    <div>\n",
              "<style scoped>\n",
              "    .dataframe tbody tr th:only-of-type {\n",
              "        vertical-align: middle;\n",
              "    }\n",
              "\n",
              "    .dataframe tbody tr th {\n",
              "        vertical-align: top;\n",
              "    }\n",
              "\n",
              "    .dataframe thead th {\n",
              "        text-align: right;\n",
              "    }\n",
              "</style>\n",
              "<table border=\"1\" class=\"dataframe\">\n",
              "  <thead>\n",
              "    <tr style=\"text-align: right;\">\n",
              "      <th></th>\n",
              "      <th>F1</th>\n",
              "      <th>F2</th>\n",
              "      <th>corr_F1_F2</th>\n",
              "      <th>corr_F1_target</th>\n",
              "      <th>corr_F2_target</th>\n",
              "      <th>F_to_delete</th>\n",
              "    </tr>\n",
              "  </thead>\n",
              "  <tbody>\n",
              "    <tr>\n",
              "      <th>0</th>\n",
              "      <td>Sex_male</td>\n",
              "      <td>Sex_female</td>\n",
              "      <td>1.0</td>\n",
              "      <td>0.543351</td>\n",
              "      <td>0.543351</td>\n",
              "      <td>Sex_female</td>\n",
              "    </tr>\n",
              "  </tbody>\n",
              "</table>\n",
              "</div>\n",
              "    <div class=\"colab-df-buttons\">\n",
              "\n",
              "  <div class=\"colab-df-container\">\n",
              "    <button class=\"colab-df-convert\" onclick=\"convertToInteractive('df-90de819e-d395-43ba-b83c-341e5c1b27f1')\"\n",
              "            title=\"Convert this dataframe to an interactive table.\"\n",
              "            style=\"display:none;\">\n",
              "\n",
              "  <svg xmlns=\"http://www.w3.org/2000/svg\" height=\"24px\" viewBox=\"0 -960 960 960\">\n",
              "    <path d=\"M120-120v-720h720v720H120Zm60-500h600v-160H180v160Zm220 220h160v-160H400v160Zm0 220h160v-160H400v160ZM180-400h160v-160H180v160Zm440 0h160v-160H620v160ZM180-180h160v-160H180v160Zm440 0h160v-160H620v160Z\"/>\n",
              "  </svg>\n",
              "    </button>\n",
              "\n",
              "  <style>\n",
              "    .colab-df-container {\n",
              "      display:flex;\n",
              "      gap: 12px;\n",
              "    }\n",
              "\n",
              "    .colab-df-convert {\n",
              "      background-color: #E8F0FE;\n",
              "      border: none;\n",
              "      border-radius: 50%;\n",
              "      cursor: pointer;\n",
              "      display: none;\n",
              "      fill: #1967D2;\n",
              "      height: 32px;\n",
              "      padding: 0 0 0 0;\n",
              "      width: 32px;\n",
              "    }\n",
              "\n",
              "    .colab-df-convert:hover {\n",
              "      background-color: #E2EBFA;\n",
              "      box-shadow: 0px 1px 2px rgba(60, 64, 67, 0.3), 0px 1px 3px 1px rgba(60, 64, 67, 0.15);\n",
              "      fill: #174EA6;\n",
              "    }\n",
              "\n",
              "    .colab-df-buttons div {\n",
              "      margin-bottom: 4px;\n",
              "    }\n",
              "\n",
              "    [theme=dark] .colab-df-convert {\n",
              "      background-color: #3B4455;\n",
              "      fill: #D2E3FC;\n",
              "    }\n",
              "\n",
              "    [theme=dark] .colab-df-convert:hover {\n",
              "      background-color: #434B5C;\n",
              "      box-shadow: 0px 1px 3px 1px rgba(0, 0, 0, 0.15);\n",
              "      filter: drop-shadow(0px 1px 2px rgba(0, 0, 0, 0.3));\n",
              "      fill: #FFFFFF;\n",
              "    }\n",
              "  </style>\n",
              "\n",
              "    <script>\n",
              "      const buttonEl =\n",
              "        document.querySelector('#df-90de819e-d395-43ba-b83c-341e5c1b27f1 button.colab-df-convert');\n",
              "      buttonEl.style.display =\n",
              "        google.colab.kernel.accessAllowed ? 'block' : 'none';\n",
              "\n",
              "      async function convertToInteractive(key) {\n",
              "        const element = document.querySelector('#df-90de819e-d395-43ba-b83c-341e5c1b27f1');\n",
              "        const dataTable =\n",
              "          await google.colab.kernel.invokeFunction('convertToInteractive',\n",
              "                                                    [key], {});\n",
              "        if (!dataTable) return;\n",
              "\n",
              "        const docLinkHtml = 'Like what you see? Visit the ' +\n",
              "          '<a target=\"_blank\" href=https://colab.research.google.com/notebooks/data_table.ipynb>data table notebook</a>'\n",
              "          + ' to learn more about interactive tables.';\n",
              "        element.innerHTML = '';\n",
              "        dataTable['output_type'] = 'display_data';\n",
              "        await google.colab.output.renderOutput(dataTable, element);\n",
              "        const docLink = document.createElement('div');\n",
              "        docLink.innerHTML = docLinkHtml;\n",
              "        element.appendChild(docLink);\n",
              "      }\n",
              "    </script>\n",
              "  </div>\n",
              "\n",
              "    </div>\n",
              "  </div>\n"
            ],
            "application/vnd.google.colaboratory.intrinsic+json": {
              "type": "dataframe",
              "variable_name": "highly_corr",
              "summary": "{\n  \"name\": \"highly_corr\",\n  \"rows\": 1,\n  \"fields\": [\n    {\n      \"column\": \"F1\",\n      \"properties\": {\n        \"dtype\": \"string\",\n        \"samples\": [\n          \"Sex_male\"\n        ],\n        \"num_unique_values\": 1,\n        \"semantic_type\": \"\",\n        \"description\": \"\"\n      }\n    },\n    {\n      \"column\": \"F2\",\n      \"properties\": {\n        \"dtype\": \"string\",\n        \"samples\": [\n          \"Sex_female\"\n        ],\n        \"num_unique_values\": 1,\n        \"semantic_type\": \"\",\n        \"description\": \"\"\n      }\n    },\n    {\n      \"column\": \"corr_F1_F2\",\n      \"properties\": {\n        \"dtype\": \"number\",\n        \"std\": NaN,\n        \"min\": 0.9999999999999999,\n        \"max\": 0.9999999999999999,\n        \"samples\": [\n          0.9999999999999999\n        ],\n        \"num_unique_values\": 1,\n        \"semantic_type\": \"\",\n        \"description\": \"\"\n      }\n    },\n    {\n      \"column\": \"corr_F1_target\",\n      \"properties\": {\n        \"dtype\": \"number\",\n        \"std\": NaN,\n        \"min\": 0.5433513806577555,\n        \"max\": 0.5433513806577555,\n        \"samples\": [\n          0.5433513806577555\n        ],\n        \"num_unique_values\": 1,\n        \"semantic_type\": \"\",\n        \"description\": \"\"\n      }\n    },\n    {\n      \"column\": \"corr_F2_target\",\n      \"properties\": {\n        \"dtype\": \"number\",\n        \"std\": NaN,\n        \"min\": 0.5433513806577555,\n        \"max\": 0.5433513806577555,\n        \"samples\": [\n          0.5433513806577555\n        ],\n        \"num_unique_values\": 1,\n        \"semantic_type\": \"\",\n        \"description\": \"\"\n      }\n    },\n    {\n      \"column\": \"F_to_delete\",\n      \"properties\": {\n        \"dtype\": \"string\",\n        \"samples\": [\n          \"Sex_female\"\n        ],\n        \"num_unique_values\": 1,\n        \"semantic_type\": \"\",\n        \"description\": \"\"\n      }\n    }\n  ]\n}"
            }
          },
          "metadata": {},
          "execution_count": 1777
        }
      ]
    },
    {
      "cell_type": "code",
      "source": [
        "del(X['Sex_female'])"
      ],
      "metadata": {
        "id": "3LMGt74mA7Pa"
      },
      "execution_count": null,
      "outputs": []
    },
    {
      "cell_type": "code",
      "source": [
        "X.columns"
      ],
      "metadata": {
        "colab": {
          "base_uri": "https://localhost:8080/"
        },
        "id": "M4iU-r8OF7Ud",
        "outputId": "06d3232f-929e-487d-885f-ea7459df8e53"
      },
      "execution_count": null,
      "outputs": [
        {
          "output_type": "execute_result",
          "data": {
            "text/plain": [
              "Index(['Pclass', 'Age', 'SibSp', 'Parch', 'Fare', 'Sex_male',\n",
              "       'Title_Category_Master', 'Title_Category_Military',\n",
              "       'Title_Category_Miss', 'Title_Category_Mr', 'Title_Category_Mrs',\n",
              "       'Title_Category_Nobility', 'Title_Category_Professional',\n",
              "       'Cabin_Reduced_A', 'Cabin_Reduced_B', 'Cabin_Reduced_C',\n",
              "       'Cabin_Reduced_D', 'Cabin_Reduced_E', 'Cabin_Reduced_F',\n",
              "       'Cabin_Reduced_G', 'Cabin_Reduced_Unknown', 'Ticket_Prefix_Grouped_A5',\n",
              "       'Ticket_Prefix_Grouped_C', 'Ticket_Prefix_Grouped_NUMERIC',\n",
              "       'Ticket_Prefix_Grouped_OTHER', 'Ticket_Prefix_Grouped_SC',\n",
              "       'Ticket_Prefix_Grouped_STONO', 'Embarked_Cherbourg',\n",
              "       'Embarked_Queenstown', 'Embarked_Southampton', 'Embarked_Unknown'],\n",
              "      dtype='object')"
            ]
          },
          "metadata": {},
          "execution_count": 1779
        }
      ]
    },
    {
      "cell_type": "markdown",
      "source": [
        "## Eliminar mínima varianza"
      ],
      "metadata": {
        "id": "QZwpVBgtW23f"
      }
    },
    {
      "cell_type": "code",
      "source": [
        "from sklearn.feature_selection import VarianceThreshold"
      ],
      "metadata": {
        "id": "-IACnF7GW2Rz"
      },
      "execution_count": null,
      "outputs": []
    },
    {
      "cell_type": "code",
      "source": [
        "# Eliminamos columnas practicamente constantes (nula varianza)\n",
        "vt = VarianceThreshold(threshold = 0.01)\n",
        "vt.fit(X)\n",
        "\n",
        "cols_lowvar = X.columns[vt.get_support()==False]\n",
        "X.drop(columns=cols_lowvar,inplace=True)\n",
        "\n",
        "print(len(cols_lowvar),' low variance features were removed:\\n', cols_lowvar.to_list())"
      ],
      "metadata": {
        "id": "hWPgjq8kWHGC",
        "colab": {
          "base_uri": "https://localhost:8080/"
        },
        "outputId": "23d8bfe4-5ac2-45a9-b9e4-87c47d2145cd"
      },
      "execution_count": null,
      "outputs": [
        {
          "output_type": "stream",
          "name": "stdout",
          "text": [
            "4  low variance features were removed:\n",
            " ['Title_Category_Military', 'Title_Category_Nobility', 'Cabin_Reduced_G', 'Embarked_Unknown']\n"
          ]
        },
        {
          "output_type": "stream",
          "name": "stderr",
          "text": [
            "<ipython-input-1781-ec020bc1b818>:6: SettingWithCopyWarning: \n",
            "A value is trying to be set on a copy of a slice from a DataFrame\n",
            "\n",
            "See the caveats in the documentation: https://pandas.pydata.org/pandas-docs/stable/user_guide/indexing.html#returning-a-view-versus-a-copy\n",
            "  X.drop(columns=cols_lowvar,inplace=True)\n"
          ]
        }
      ]
    },
    {
      "cell_type": "code",
      "source": [
        "print('Target del modelo:', target)\n",
        "print('Variables a utilizar en el modelo:', list(features))"
      ],
      "metadata": {
        "id": "UTFt4gUaXZ16",
        "colab": {
          "base_uri": "https://localhost:8080/"
        },
        "outputId": "7c2cee45-eb4c-438e-d122-8c57380b75aa"
      },
      "execution_count": null,
      "outputs": [
        {
          "output_type": "stream",
          "name": "stdout",
          "text": [
            "Target del modelo: Survived\n",
            "Variables a utilizar en el modelo: ['Pclass', 'Age', 'SibSp', 'Parch', 'Fare', 'Sex_female', 'Sex_male', 'Title_Category_Master', 'Title_Category_Military', 'Title_Category_Miss', 'Title_Category_Mr', 'Title_Category_Mrs', 'Title_Category_Nobility', 'Title_Category_Professional', 'Cabin_Reduced_A', 'Cabin_Reduced_B', 'Cabin_Reduced_C', 'Cabin_Reduced_D', 'Cabin_Reduced_E', 'Cabin_Reduced_F', 'Cabin_Reduced_G', 'Cabin_Reduced_Unknown', 'Ticket_Prefix_Grouped_A5', 'Ticket_Prefix_Grouped_C', 'Ticket_Prefix_Grouped_NUMERIC', 'Ticket_Prefix_Grouped_OTHER', 'Ticket_Prefix_Grouped_SC', 'Ticket_Prefix_Grouped_STONO', 'Embarked_Cherbourg', 'Embarked_Queenstown', 'Embarked_Southampton', 'Embarked_Unknown']\n"
          ]
        }
      ]
    },
    {
      "cell_type": "code",
      "source": [
        "X.head(2)"
      ],
      "metadata": {
        "colab": {
          "base_uri": "https://localhost:8080/",
          "height": 161
        },
        "id": "xkB9pLpIJks-",
        "outputId": "dcd85e9b-7990-461b-e2b5-db47e8f741ae"
      },
      "execution_count": null,
      "outputs": [
        {
          "output_type": "execute_result",
          "data": {
            "text/plain": [
              "   Pclass   Age  SibSp  Parch       Fare  Sex_male  Title_Category_Master  \\\n",
              "0     2.0  22.0      1      0   7.250000         1                      0   \n",
              "1     0.0  38.0      1      0  71.283302         0                      0   \n",
              "\n",
              "   Title_Category_Miss  Title_Category_Mr  Title_Category_Mrs  ...  \\\n",
              "0                    0                  1                   0  ...   \n",
              "1                    0                  0                   1  ...   \n",
              "\n",
              "   Cabin_Reduced_Unknown  Ticket_Prefix_Grouped_A5  Ticket_Prefix_Grouped_C  \\\n",
              "0                      1                         1                        0   \n",
              "1                      0                         0                        1   \n",
              "\n",
              "   Ticket_Prefix_Grouped_NUMERIC  Ticket_Prefix_Grouped_OTHER  \\\n",
              "0                              0                            0   \n",
              "1                              0                            0   \n",
              "\n",
              "   Ticket_Prefix_Grouped_SC  Ticket_Prefix_Grouped_STONO  Embarked_Cherbourg  \\\n",
              "0                         0                            0                   0   \n",
              "1                         0                            0                   1   \n",
              "\n",
              "   Embarked_Queenstown  Embarked_Southampton  \n",
              "0                    0                     1  \n",
              "1                    0                     0  \n",
              "\n",
              "[2 rows x 27 columns]"
            ],
            "text/html": [
              "\n",
              "  <div id=\"df-33fd5a28-d68e-4dd0-9ca3-9cbdb5e942fc\" class=\"colab-df-container\">\n",
              "    <div>\n",
              "<style scoped>\n",
              "    .dataframe tbody tr th:only-of-type {\n",
              "        vertical-align: middle;\n",
              "    }\n",
              "\n",
              "    .dataframe tbody tr th {\n",
              "        vertical-align: top;\n",
              "    }\n",
              "\n",
              "    .dataframe thead th {\n",
              "        text-align: right;\n",
              "    }\n",
              "</style>\n",
              "<table border=\"1\" class=\"dataframe\">\n",
              "  <thead>\n",
              "    <tr style=\"text-align: right;\">\n",
              "      <th></th>\n",
              "      <th>Pclass</th>\n",
              "      <th>Age</th>\n",
              "      <th>SibSp</th>\n",
              "      <th>Parch</th>\n",
              "      <th>Fare</th>\n",
              "      <th>Sex_male</th>\n",
              "      <th>Title_Category_Master</th>\n",
              "      <th>Title_Category_Miss</th>\n",
              "      <th>Title_Category_Mr</th>\n",
              "      <th>Title_Category_Mrs</th>\n",
              "      <th>...</th>\n",
              "      <th>Cabin_Reduced_Unknown</th>\n",
              "      <th>Ticket_Prefix_Grouped_A5</th>\n",
              "      <th>Ticket_Prefix_Grouped_C</th>\n",
              "      <th>Ticket_Prefix_Grouped_NUMERIC</th>\n",
              "      <th>Ticket_Prefix_Grouped_OTHER</th>\n",
              "      <th>Ticket_Prefix_Grouped_SC</th>\n",
              "      <th>Ticket_Prefix_Grouped_STONO</th>\n",
              "      <th>Embarked_Cherbourg</th>\n",
              "      <th>Embarked_Queenstown</th>\n",
              "      <th>Embarked_Southampton</th>\n",
              "    </tr>\n",
              "  </thead>\n",
              "  <tbody>\n",
              "    <tr>\n",
              "      <th>0</th>\n",
              "      <td>2.0</td>\n",
              "      <td>22.0</td>\n",
              "      <td>1</td>\n",
              "      <td>0</td>\n",
              "      <td>7.250000</td>\n",
              "      <td>1</td>\n",
              "      <td>0</td>\n",
              "      <td>0</td>\n",
              "      <td>1</td>\n",
              "      <td>0</td>\n",
              "      <td>...</td>\n",
              "      <td>1</td>\n",
              "      <td>1</td>\n",
              "      <td>0</td>\n",
              "      <td>0</td>\n",
              "      <td>0</td>\n",
              "      <td>0</td>\n",
              "      <td>0</td>\n",
              "      <td>0</td>\n",
              "      <td>0</td>\n",
              "      <td>1</td>\n",
              "    </tr>\n",
              "    <tr>\n",
              "      <th>1</th>\n",
              "      <td>0.0</td>\n",
              "      <td>38.0</td>\n",
              "      <td>1</td>\n",
              "      <td>0</td>\n",
              "      <td>71.283302</td>\n",
              "      <td>0</td>\n",
              "      <td>0</td>\n",
              "      <td>0</td>\n",
              "      <td>0</td>\n",
              "      <td>1</td>\n",
              "      <td>...</td>\n",
              "      <td>0</td>\n",
              "      <td>0</td>\n",
              "      <td>1</td>\n",
              "      <td>0</td>\n",
              "      <td>0</td>\n",
              "      <td>0</td>\n",
              "      <td>0</td>\n",
              "      <td>1</td>\n",
              "      <td>0</td>\n",
              "      <td>0</td>\n",
              "    </tr>\n",
              "  </tbody>\n",
              "</table>\n",
              "<p>2 rows × 27 columns</p>\n",
              "</div>\n",
              "    <div class=\"colab-df-buttons\">\n",
              "\n",
              "  <div class=\"colab-df-container\">\n",
              "    <button class=\"colab-df-convert\" onclick=\"convertToInteractive('df-33fd5a28-d68e-4dd0-9ca3-9cbdb5e942fc')\"\n",
              "            title=\"Convert this dataframe to an interactive table.\"\n",
              "            style=\"display:none;\">\n",
              "\n",
              "  <svg xmlns=\"http://www.w3.org/2000/svg\" height=\"24px\" viewBox=\"0 -960 960 960\">\n",
              "    <path d=\"M120-120v-720h720v720H120Zm60-500h600v-160H180v160Zm220 220h160v-160H400v160Zm0 220h160v-160H400v160ZM180-400h160v-160H180v160Zm440 0h160v-160H620v160ZM180-180h160v-160H180v160Zm440 0h160v-160H620v160Z\"/>\n",
              "  </svg>\n",
              "    </button>\n",
              "\n",
              "  <style>\n",
              "    .colab-df-container {\n",
              "      display:flex;\n",
              "      gap: 12px;\n",
              "    }\n",
              "\n",
              "    .colab-df-convert {\n",
              "      background-color: #E8F0FE;\n",
              "      border: none;\n",
              "      border-radius: 50%;\n",
              "      cursor: pointer;\n",
              "      display: none;\n",
              "      fill: #1967D2;\n",
              "      height: 32px;\n",
              "      padding: 0 0 0 0;\n",
              "      width: 32px;\n",
              "    }\n",
              "\n",
              "    .colab-df-convert:hover {\n",
              "      background-color: #E2EBFA;\n",
              "      box-shadow: 0px 1px 2px rgba(60, 64, 67, 0.3), 0px 1px 3px 1px rgba(60, 64, 67, 0.15);\n",
              "      fill: #174EA6;\n",
              "    }\n",
              "\n",
              "    .colab-df-buttons div {\n",
              "      margin-bottom: 4px;\n",
              "    }\n",
              "\n",
              "    [theme=dark] .colab-df-convert {\n",
              "      background-color: #3B4455;\n",
              "      fill: #D2E3FC;\n",
              "    }\n",
              "\n",
              "    [theme=dark] .colab-df-convert:hover {\n",
              "      background-color: #434B5C;\n",
              "      box-shadow: 0px 1px 3px 1px rgba(0, 0, 0, 0.15);\n",
              "      filter: drop-shadow(0px 1px 2px rgba(0, 0, 0, 0.3));\n",
              "      fill: #FFFFFF;\n",
              "    }\n",
              "  </style>\n",
              "\n",
              "    <script>\n",
              "      const buttonEl =\n",
              "        document.querySelector('#df-33fd5a28-d68e-4dd0-9ca3-9cbdb5e942fc button.colab-df-convert');\n",
              "      buttonEl.style.display =\n",
              "        google.colab.kernel.accessAllowed ? 'block' : 'none';\n",
              "\n",
              "      async function convertToInteractive(key) {\n",
              "        const element = document.querySelector('#df-33fd5a28-d68e-4dd0-9ca3-9cbdb5e942fc');\n",
              "        const dataTable =\n",
              "          await google.colab.kernel.invokeFunction('convertToInteractive',\n",
              "                                                    [key], {});\n",
              "        if (!dataTable) return;\n",
              "\n",
              "        const docLinkHtml = 'Like what you see? Visit the ' +\n",
              "          '<a target=\"_blank\" href=https://colab.research.google.com/notebooks/data_table.ipynb>data table notebook</a>'\n",
              "          + ' to learn more about interactive tables.';\n",
              "        element.innerHTML = '';\n",
              "        dataTable['output_type'] = 'display_data';\n",
              "        await google.colab.output.renderOutput(dataTable, element);\n",
              "        const docLink = document.createElement('div');\n",
              "        docLink.innerHTML = docLinkHtml;\n",
              "        element.appendChild(docLink);\n",
              "      }\n",
              "    </script>\n",
              "  </div>\n",
              "\n",
              "\n",
              "<div id=\"df-6eec23ba-3a09-4007-ab6d-97026c15fb5f\">\n",
              "  <button class=\"colab-df-quickchart\" onclick=\"quickchart('df-6eec23ba-3a09-4007-ab6d-97026c15fb5f')\"\n",
              "            title=\"Suggest charts\"\n",
              "            style=\"display:none;\">\n",
              "\n",
              "<svg xmlns=\"http://www.w3.org/2000/svg\" height=\"24px\"viewBox=\"0 0 24 24\"\n",
              "     width=\"24px\">\n",
              "    <g>\n",
              "        <path d=\"M19 3H5c-1.1 0-2 .9-2 2v14c0 1.1.9 2 2 2h14c1.1 0 2-.9 2-2V5c0-1.1-.9-2-2-2zM9 17H7v-7h2v7zm4 0h-2V7h2v10zm4 0h-2v-4h2v4z\"/>\n",
              "    </g>\n",
              "</svg>\n",
              "  </button>\n",
              "\n",
              "<style>\n",
              "  .colab-df-quickchart {\n",
              "      --bg-color: #E8F0FE;\n",
              "      --fill-color: #1967D2;\n",
              "      --hover-bg-color: #E2EBFA;\n",
              "      --hover-fill-color: #174EA6;\n",
              "      --disabled-fill-color: #AAA;\n",
              "      --disabled-bg-color: #DDD;\n",
              "  }\n",
              "\n",
              "  [theme=dark] .colab-df-quickchart {\n",
              "      --bg-color: #3B4455;\n",
              "      --fill-color: #D2E3FC;\n",
              "      --hover-bg-color: #434B5C;\n",
              "      --hover-fill-color: #FFFFFF;\n",
              "      --disabled-bg-color: #3B4455;\n",
              "      --disabled-fill-color: #666;\n",
              "  }\n",
              "\n",
              "  .colab-df-quickchart {\n",
              "    background-color: var(--bg-color);\n",
              "    border: none;\n",
              "    border-radius: 50%;\n",
              "    cursor: pointer;\n",
              "    display: none;\n",
              "    fill: var(--fill-color);\n",
              "    height: 32px;\n",
              "    padding: 0;\n",
              "    width: 32px;\n",
              "  }\n",
              "\n",
              "  .colab-df-quickchart:hover {\n",
              "    background-color: var(--hover-bg-color);\n",
              "    box-shadow: 0 1px 2px rgba(60, 64, 67, 0.3), 0 1px 3px 1px rgba(60, 64, 67, 0.15);\n",
              "    fill: var(--button-hover-fill-color);\n",
              "  }\n",
              "\n",
              "  .colab-df-quickchart-complete:disabled,\n",
              "  .colab-df-quickchart-complete:disabled:hover {\n",
              "    background-color: var(--disabled-bg-color);\n",
              "    fill: var(--disabled-fill-color);\n",
              "    box-shadow: none;\n",
              "  }\n",
              "\n",
              "  .colab-df-spinner {\n",
              "    border: 2px solid var(--fill-color);\n",
              "    border-color: transparent;\n",
              "    border-bottom-color: var(--fill-color);\n",
              "    animation:\n",
              "      spin 1s steps(1) infinite;\n",
              "  }\n",
              "\n",
              "  @keyframes spin {\n",
              "    0% {\n",
              "      border-color: transparent;\n",
              "      border-bottom-color: var(--fill-color);\n",
              "      border-left-color: var(--fill-color);\n",
              "    }\n",
              "    20% {\n",
              "      border-color: transparent;\n",
              "      border-left-color: var(--fill-color);\n",
              "      border-top-color: var(--fill-color);\n",
              "    }\n",
              "    30% {\n",
              "      border-color: transparent;\n",
              "      border-left-color: var(--fill-color);\n",
              "      border-top-color: var(--fill-color);\n",
              "      border-right-color: var(--fill-color);\n",
              "    }\n",
              "    40% {\n",
              "      border-color: transparent;\n",
              "      border-right-color: var(--fill-color);\n",
              "      border-top-color: var(--fill-color);\n",
              "    }\n",
              "    60% {\n",
              "      border-color: transparent;\n",
              "      border-right-color: var(--fill-color);\n",
              "    }\n",
              "    80% {\n",
              "      border-color: transparent;\n",
              "      border-right-color: var(--fill-color);\n",
              "      border-bottom-color: var(--fill-color);\n",
              "    }\n",
              "    90% {\n",
              "      border-color: transparent;\n",
              "      border-bottom-color: var(--fill-color);\n",
              "    }\n",
              "  }\n",
              "</style>\n",
              "\n",
              "  <script>\n",
              "    async function quickchart(key) {\n",
              "      const quickchartButtonEl =\n",
              "        document.querySelector('#' + key + ' button');\n",
              "      quickchartButtonEl.disabled = true;  // To prevent multiple clicks.\n",
              "      quickchartButtonEl.classList.add('colab-df-spinner');\n",
              "      try {\n",
              "        const charts = await google.colab.kernel.invokeFunction(\n",
              "            'suggestCharts', [key], {});\n",
              "      } catch (error) {\n",
              "        console.error('Error during call to suggestCharts:', error);\n",
              "      }\n",
              "      quickchartButtonEl.classList.remove('colab-df-spinner');\n",
              "      quickchartButtonEl.classList.add('colab-df-quickchart-complete');\n",
              "    }\n",
              "    (() => {\n",
              "      let quickchartButtonEl =\n",
              "        document.querySelector('#df-6eec23ba-3a09-4007-ab6d-97026c15fb5f button');\n",
              "      quickchartButtonEl.style.display =\n",
              "        google.colab.kernel.accessAllowed ? 'block' : 'none';\n",
              "    })();\n",
              "  </script>\n",
              "</div>\n",
              "    </div>\n",
              "  </div>\n"
            ],
            "application/vnd.google.colaboratory.intrinsic+json": {
              "type": "dataframe",
              "variable_name": "X"
            }
          },
          "metadata": {},
          "execution_count": 1783
        }
      ]
    },
    {
      "cell_type": "markdown",
      "source": [
        "# Target distribution"
      ],
      "metadata": {
        "id": "mj2n5hJQecpH"
      }
    },
    {
      "cell_type": "code",
      "source": [
        "y.value_counts()"
      ],
      "metadata": {
        "colab": {
          "base_uri": "https://localhost:8080/"
        },
        "id": "UV4iBek6KpSZ",
        "outputId": "7f5803a9-2041-4234-c40c-366004b1ed11"
      },
      "execution_count": null,
      "outputs": [
        {
          "output_type": "execute_result",
          "data": {
            "text/plain": [
              "0    549\n",
              "1    342\n",
              "Name: Survived, dtype: int64"
            ]
          },
          "metadata": {},
          "execution_count": 1784
        }
      ]
    },
    {
      "cell_type": "code",
      "source": [
        "342/(549+342)"
      ],
      "metadata": {
        "colab": {
          "base_uri": "https://localhost:8080/"
        },
        "id": "5CUXEJKep3T2",
        "outputId": "697e2db4-0c23-4540-9318-7ed5ca0311cb"
      },
      "execution_count": null,
      "outputs": [
        {
          "output_type": "execute_result",
          "data": {
            "text/plain": [
              "0.3838383838383838"
            ]
          },
          "metadata": {},
          "execution_count": 1785
        }
      ]
    },
    {
      "cell_type": "code",
      "source": [
        "y.value_counts()\n",
        "y.value_counts() / df.shape[0] * 100\n",
        "sns.countplot(x=y)\n",
        "plt.title('TARGET DISTRIBUTION: '+target)\n",
        "plt.show()"
      ],
      "metadata": {
        "colab": {
          "base_uri": "https://localhost:8080/",
          "height": 472
        },
        "id": "1HppQ8pSDwdb",
        "outputId": "c89d0fd3-c238-4a26-df18-f86374144ccb"
      },
      "execution_count": null,
      "outputs": [
        {
          "output_type": "display_data",
          "data": {
            "text/plain": [
              "<Figure size 640x480 with 1 Axes>"
            ],
            "image/png": "[encoded data removed]"
          },
          "metadata": {}
        }
      ]
    },
    {
      "cell_type": "markdown",
      "source": [
        "# Split train-test (NO)"
      ],
      "metadata": {
        "id": "HIqBHOPbcFau"
      }
    },
    {
      "cell_type": "markdown",
      "source": [
        "Como estamos en una competicion no sacrificaremos parte del dataset para TEST, haremos Cross-Validation para seleccionar el mejor modelo."
      ],
      "metadata": {
        "id": "bPhHMDoeeiih"
      }
    },
    {
      "cell_type": "code",
      "source": [
        "X_train = X\n",
        "y_train = y"
      ],
      "metadata": {
        "id": "KrQloUUhgiBP"
      },
      "execution_count": null,
      "outputs": []
    },
    {
      "cell_type": "markdown",
      "source": [
        "# Rescaling"
      ],
      "metadata": {
        "id": "fyz-xaJfgYOm"
      }
    },
    {
      "cell_type": "markdown",
      "source": [
        "Definimos el scaler en el train (.fit_transform)."
      ],
      "metadata": {
        "id": "kIqLbqfXgbiz"
      }
    },
    {
      "cell_type": "code",
      "source": [
        "from sklearn.preprocessing import StandardScaler"
      ],
      "metadata": {
        "id": "yGYzTxj6gXHI"
      },
      "execution_count": null,
      "outputs": []
    },
    {
      "cell_type": "code",
      "source": [
        "scaler = StandardScaler()\n"
      ],
      "metadata": {
        "id": "b5uZPXqgMGsw"
      },
      "execution_count": null,
      "outputs": []
    },
    {
      "cell_type": "code",
      "source": [
        "X_train_scaled = scaler.fit_transform(X_train)"
      ],
      "metadata": {
        "id": "NT1QQ1vAM5IR"
      },
      "execution_count": null,
      "outputs": []
    },
    {
      "cell_type": "code",
      "source": [
        "X_train_scaled = pd.DataFrame(X_train_scaled, columns = X_train.columns)"
      ],
      "metadata": {
        "id": "BeIcAWducDaC"
      },
      "execution_count": null,
      "outputs": []
    },
    {
      "cell_type": "markdown",
      "source": [
        "# TRAIN MODEL"
      ],
      "metadata": {
        "id": "7yFBIJRKhaL6"
      }
    },
    {
      "cell_type": "markdown",
      "source": [
        "## Model competition"
      ],
      "metadata": {
        "id": "eNNM04MDe7YL"
      }
    },
    {
      "cell_type": "markdown",
      "source": [
        "* Prueba distintos modelos de https://scikit-learn.org/stable/modules/classes.html\n",
        "y mide su performance con Cross Validation.\n",
        "* Para ello utiliza la funcion evaluate_classification() para registrar los resultados del benchmark de modelos."
      ],
      "metadata": {
        "id": "j0Q_3RLGfx3X"
      }
    },
    {
      "cell_type": "code",
      "source": [
        "from sklearn.model_selection import cross_val_score\n",
        "from sklearn.metrics import roc_auc_score\n",
        "from sklearn.ensemble import GradientBoostingClassifier\n",
        "from sklearn.linear_model import LogisticRegression\n",
        "from sklearn.naive_bayes import BernoulliNB\n",
        "from sklearn.ensemble import AdaBoostClassifier\n",
        "import xgboost as xgb"
      ],
      "metadata": {
        "id": "kjxIIvyqcMkO"
      },
      "execution_count": null,
      "outputs": []
    },
    {
      "cell_type": "markdown",
      "source": [
        "Definimos las métricas:"
      ],
      "metadata": {
        "id": "MWYUpdTmXRTd"
      }
    },
    {
      "cell_type": "code",
      "source": [
        "#Funcion que calcula el AUC de un modelo sobre un dataset (X-y). Args: modelo a validar, X, y\n",
        "def auc(model,X,y):\n",
        "  model.fit(X,y)\n",
        "  return roc_auc_score(y,model.predict_proba(X)[:,1])\n",
        "\n",
        "#Funcion que calcula el AUC en Cross-Validation (X-y). Args: modelo a validar, X, y\n",
        "def auc_cross_validation(model,X,y):\n",
        "  cross_val = cross_val_score(model,\n",
        "                              X, y,\n",
        "                              cv=4,                 # Numero de folds que vamos a utilizar para validar\n",
        "                              scoring='roc_auc'     # La metrica de validacion que se medira en cada train-valida\n",
        "                              )\n",
        "  return cross_val.mean()"
      ],
      "metadata": {
        "id": "eoFzenrBb3Ms"
      },
      "execution_count": null,
      "outputs": []
    },
    {
      "cell_type": "code",
      "source": [
        "# Inicializa resultados\n",
        "label_, auc_train_ , auc_valida_ = [], [], []\n",
        "\n",
        "# Completa un registro en dataframe con los resultados de las funciones definidas previsamente ( AUC y AUC con cross-validation)\n",
        "\n",
        "# Inputs:\n",
        "#   * modelo\n",
        "#   * (X,y)\n",
        "#   * label especifico si queremos registrar el resultado con otro nombre (opcional)\n",
        "\n",
        "\n",
        "def evaluate_classification(model, X, y, label=None):\n",
        "  if label is None:\n",
        "    label=str(model)\n",
        "  label_.append(label)\n",
        "\n",
        "  auc_train = auc(model,X,y)\n",
        "  auc_valida = auc_cross_validation(model,X,y)\n",
        "  auc_train_.append(auc_train)\n",
        "  auc_valida_.append(auc_valida)\n",
        "\n",
        "  return pd.DataFrame({'Model': label_,\n",
        "                      'AUC Train': auc_train_,\n",
        "                      'AUC Cross-Valida': auc_valida_\n",
        "                      }).sort_values('AUC Cross-Valida',ascending=False)"
      ],
      "metadata": {
        "id": "hwpXY-Frg9UT"
      },
      "execution_count": null,
      "outputs": []
    },
    {
      "cell_type": "markdown",
      "source": [
        "Algunos modelos a probar:"
      ],
      "metadata": {
        "id": "mIAuRynAcOyw"
      }
    },
    {
      "cell_type": "code",
      "source": [
        "from sklearn.linear_model import LogisticRegression\n",
        "from sklearn.ensemble import RandomForestClassifier\n",
        "from xgboost import XGBClassifier\n",
        "from lightgbm import LGBMClassifier\n",
        "from sklearn.neighbors import KNeighborsClassifier"
      ],
      "metadata": {
        "id": "lsakTtir2Wq4"
      },
      "execution_count": null,
      "outputs": []
    },
    {
      "cell_type": "code",
      "source": [
        "evaluate_classification(GradientBoostingClassifier(),X_train,y_train)"
      ],
      "metadata": {
        "id": "K-_JWT4XMUY4",
        "colab": {
          "base_uri": "https://localhost:8080/",
          "height": 80
        },
        "outputId": "38fd7d0a-2a54-47c8-a216-2753ef898e41"
      },
      "execution_count": null,
      "outputs": [
        {
          "output_type": "execute_result",
          "data": {
            "text/plain": [
              "                          Model  AUC Train  AUC Cross-Valida\n",
              "0  GradientBoostingClassifier()   0.950071          0.877231"
            ],
            "text/html": [
              "\n",
              "  <div id=\"df-11b26a9e-e961-4937-a43f-460259a18103\" class=\"colab-df-container\">\n",
              "    <div>\n",
              "<style scoped>\n",
              "    .dataframe tbody tr th:only-of-type {\n",
              "        vertical-align: middle;\n",
              "    }\n",
              "\n",
              "    .dataframe tbody tr th {\n",
              "        vertical-align: top;\n",
              "    }\n",
              "\n",
              "    .dataframe thead th {\n",
              "        text-align: right;\n",
              "    }\n",
              "</style>\n",
              "<table border=\"1\" class=\"dataframe\">\n",
              "  <thead>\n",
              "    <tr style=\"text-align: right;\">\n",
              "      <th></th>\n",
              "      <th>Model</th>\n",
              "      <th>AUC Train</th>\n",
              "      <th>AUC Cross-Valida</th>\n",
              "    </tr>\n",
              "  </thead>\n",
              "  <tbody>\n",
              "    <tr>\n",
              "      <th>0</th>\n",
              "      <td>GradientBoostingClassifier()</td>\n",
              "      <td>0.950071</td>\n",
              "      <td>0.877231</td>\n",
              "    </tr>\n",
              "  </tbody>\n",
              "</table>\n",
              "</div>\n",
              "    <div class=\"colab-df-buttons\">\n",
              "\n",
              "  <div class=\"colab-df-container\">\n",
              "    <button class=\"colab-df-convert\" onclick=\"convertToInteractive('df-11b26a9e-e961-4937-a43f-460259a18103')\"\n",
              "            title=\"Convert this dataframe to an interactive table.\"\n",
              "            style=\"display:none;\">\n",
              "\n",
              "  <svg xmlns=\"http://www.w3.org/2000/svg\" height=\"24px\" viewBox=\"0 -960 960 960\">\n",
              "    <path d=\"M120-120v-720h720v720H120Zm60-500h600v-160H180v160Zm220 220h160v-160H400v160Zm0 220h160v-160H400v160ZM180-400h160v-160H180v160Zm440 0h160v-160H620v160ZM180-180h160v-160H180v160Zm440 0h160v-160H620v160Z\"/>\n",
              "  </svg>\n",
              "    </button>\n",
              "\n",
              "  <style>\n",
              "    .colab-df-container {\n",
              "      display:flex;\n",
              "      gap: 12px;\n",
              "    }\n",
              "\n",
              "    .colab-df-convert {\n",
              "      background-color: #E8F0FE;\n",
              "      border: none;\n",
              "      border-radius: 50%;\n",
              "      cursor: pointer;\n",
              "      display: none;\n",
              "      fill: #1967D2;\n",
              "      height: 32px;\n",
              "      padding: 0 0 0 0;\n",
              "      width: 32px;\n",
              "    }\n",
              "\n",
              "    .colab-df-convert:hover {\n",
              "      background-color: #E2EBFA;\n",
              "      box-shadow: 0px 1px 2px rgba(60, 64, 67, 0.3), 0px 1px 3px 1px rgba(60, 64, 67, 0.15);\n",
              "      fill: #174EA6;\n",
              "    }\n",
              "\n",
              "    .colab-df-buttons div {\n",
              "      margin-bottom: 4px;\n",
              "    }\n",
              "\n",
              "    [theme=dark] .colab-df-convert {\n",
              "      background-color: #3B4455;\n",
              "      fill: #D2E3FC;\n",
              "    }\n",
              "\n",
              "    [theme=dark] .colab-df-convert:hover {\n",
              "      background-color: #434B5C;\n",
              "      box-shadow: 0px 1px 3px 1px rgba(0, 0, 0, 0.15);\n",
              "      filter: drop-shadow(0px 1px 2px rgba(0, 0, 0, 0.3));\n",
              "      fill: #FFFFFF;\n",
              "    }\n",
              "  </style>\n",
              "\n",
              "    <script>\n",
              "      const buttonEl =\n",
              "        document.querySelector('#df-11b26a9e-e961-4937-a43f-460259a18103 button.colab-df-convert');\n",
              "      buttonEl.style.display =\n",
              "        google.colab.kernel.accessAllowed ? 'block' : 'none';\n",
              "\n",
              "      async function convertToInteractive(key) {\n",
              "        const element = document.querySelector('#df-11b26a9e-e961-4937-a43f-460259a18103');\n",
              "        const dataTable =\n",
              "          await google.colab.kernel.invokeFunction('convertToInteractive',\n",
              "                                                    [key], {});\n",
              "        if (!dataTable) return;\n",
              "\n",
              "        const docLinkHtml = 'Like what you see? Visit the ' +\n",
              "          '<a target=\"_blank\" href=https://colab.research.google.com/notebooks/data_table.ipynb>data table notebook</a>'\n",
              "          + ' to learn more about interactive tables.';\n",
              "        element.innerHTML = '';\n",
              "        dataTable['output_type'] = 'display_data';\n",
              "        await google.colab.output.renderOutput(dataTable, element);\n",
              "        const docLink = document.createElement('div');\n",
              "        docLink.innerHTML = docLinkHtml;\n",
              "        element.appendChild(docLink);\n",
              "      }\n",
              "    </script>\n",
              "  </div>\n",
              "\n",
              "    </div>\n",
              "  </div>\n"
            ],
            "application/vnd.google.colaboratory.intrinsic+json": {
              "type": "dataframe",
              "summary": "{\n  \"name\": \"evaluate_classification(GradientBoostingClassifier(),X_train,y_train)\",\n  \"rows\": 1,\n  \"fields\": [\n    {\n      \"column\": \"Model\",\n      \"properties\": {\n        \"dtype\": \"string\",\n        \"samples\": [\n          \"GradientBoostingClassifier()\"\n        ],\n        \"num_unique_values\": 1,\n        \"semantic_type\": \"\",\n        \"description\": \"\"\n      }\n    },\n    {\n      \"column\": \"AUC Train\",\n      \"properties\": {\n        \"dtype\": \"number\",\n        \"std\": NaN,\n        \"min\": 0.9500713684636607,\n        \"max\": 0.9500713684636607,\n        \"samples\": [\n          0.9500713684636607\n        ],\n        \"num_unique_values\": 1,\n        \"semantic_type\": \"\",\n        \"description\": \"\"\n      }\n    },\n    {\n      \"column\": \"AUC Cross-Valida\",\n      \"properties\": {\n        \"dtype\": \"number\",\n        \"std\": NaN,\n        \"min\": 0.8772305471825981,\n        \"max\": 0.8772305471825981,\n        \"samples\": [\n          0.8772305471825981\n        ],\n        \"num_unique_values\": 1,\n        \"semantic_type\": \"\",\n        \"description\": \"\"\n      }\n    }\n  ]\n}"
            }
          },
          "metadata": {},
          "execution_count": 1796
        }
      ]
    },
    {
      "cell_type": "code",
      "source": [
        "..."
      ],
      "metadata": {
        "id": "0RZWm_NrcbBh",
        "colab": {
          "base_uri": "https://localhost:8080/"
        },
        "outputId": "e7dd8b70-fe6a-4fd6-a810-4334f0656ef3"
      },
      "execution_count": null,
      "outputs": [
        {
          "output_type": "execute_result",
          "data": {
            "text/plain": [
              "Ellipsis"
            ]
          },
          "metadata": {},
          "execution_count": 1797
        }
      ]
    },
    {
      "cell_type": "markdown",
      "source": [
        "## Hyperparameter tuning"
      ],
      "metadata": {
        "id": "z00v523UfBFo"
      }
    },
    {
      "cell_type": "markdown",
      "source": [
        "La hiperparametrización puede ser costosa sino acotamos lo suficiente el abanico de posibles valores. Como consejo, centrarse en hiperparametrizar los primeros valores que aparecen dentro de la funcion del algoritmo, suelen ser los más determinantes, y no dejar de consultar la documentacion para entender que posibles valores adopta cada parametro."
      ],
      "metadata": {
        "id": "UTkcnfvctHCY"
      }
    },
    {
      "cell_type": "code",
      "source": [
        "from sklearn.model_selection import RandomizedSearchCV"
      ],
      "metadata": {
        "id": "hYyxLlFffDyy"
      },
      "execution_count": null,
      "outputs": []
    },
    {
      "cell_type": "code",
      "source": [
        "# Definición de parámetros para RandomizedSearchCV\n",
        "parameters_hp = {\n",
        "    'learning_rate': [0.05, 0.1, 0.2],  # Tasas de aprendizaje sugeridas\n",
        "    'max_depth': [3, 4, 5],  # Profundidades máximas sugeridas\n",
        "    'n_estimators': [25, 50, 75, 100],  # Número de árboles sugeridos\n",
        "    'subsample': [0.8, 0.9, 1.0],  # Fracción de muestras para entrenar cada árbol\n",
        "    'min_samples_split': [2, 10, 20],  # Número mínimo de muestras requeridas para dividir un nodo interno\n",
        "    'min_samples_leaf': [1, 5, 10],  # Número mínimo de muestras requeridas para ser una hoja\n",
        "    'max_features': ['sqrt', 'log2', 'auto']  # Número de características a considerar para la mejor división\n",
        "}\n",
        "\n",
        "# Configuración de RandomizedSearchCV\n",
        "search_hp = RandomizedSearchCV(\n",
        "    estimator=XGBClassifier(random_state=42),  # Estimador GradientBoostingClassifier\n",
        "    param_distributions=parameters_hp,\n",
        "    scoring='roc_auc',  # Métrica a optimizar: AUC\n",
        "    cv=3,  # Número de folds para cross-validation\n",
        "    n_iter=500,  # Número de iteraciones, cada una testeará una configuración distinta\n",
        "    n_jobs=-1,  # Utilizar todos los procesadores disponibles\n",
        "    verbose=True\n",
        ")\n",
        "\n",
        "# Entrenamiento con el conjunto de entrenamiento\n",
        "search_hp.fit(X_train, y_train)\n",
        "\n",
        "# Resultados de la búsqueda aleatoria\n",
        "print(\"---- Results from Random Search -----\" )\n",
        "print(\"\\n The best estimator across ALL searched params:\", search_hp.best_estimator_)\n",
        "print(\"\\n The best AUC:\", search_hp.best_score_)\n",
        "print(\"\\n The best parameters across ALL searched params:\\n\", search_hp.best_params_)"
      ],
      "metadata": {
        "id": "Q68GAdqKQzEZ",
        "colab": {
          "base_uri": "https://localhost:8080/"
        },
        "outputId": "6f1e83d0-4c72-43fa-ce6c-6a03d3a42c86"
      },
      "execution_count": null,
      "outputs": [
        {
          "output_type": "stream",
          "name": "stdout",
          "text": [
            "Fitting 3 folds for each of 500 candidates, totalling 1500 fits\n",
            "---- Results from Random Search -----\n",
            "\n",
            " The best estimator across ALL searched params: XGBClassifier(base_score=None, booster=None, callbacks=None,\n",
            "              colsample_bylevel=None, colsample_bynode=None,\n",
            "              colsample_bytree=None, device=None, early_stopping_rounds=None,\n",
            "              enable_categorical=False, eval_metric=None, feature_types=None,\n",
            "              gamma=None, grow_policy=None, importance_type=None,\n",
            "              interaction_constraints=None, learning_rate=0.05, max_bin=None,\n",
            "              max_cat_threshold=None, max_cat_to_onehot=None,\n",
            "              max_delta_step=None, max_depth=4, max_features='auto',\n",
            "              max_leaves=None, min_child_weight=None, min_samples_leaf=5,\n",
            "              min_samples_split=10, missing=nan, monotone_constraints=None,\n",
            "              multi_strategy=None, n_estimators=25, ...)\n",
            "\n",
            " The best AUC: 0.8753475218099894\n",
            "\n",
            " The best parameters across ALL searched params:\n",
            " {'subsample': 0.8, 'n_estimators': 25, 'min_samples_split': 10, 'min_samples_leaf': 5, 'max_features': 'auto', 'max_depth': 4, 'learning_rate': 0.05}\n"
          ]
        },
        {
          "output_type": "stream",
          "name": "stderr",
          "text": [
            "/usr/local/lib/python3.10/dist-packages/xgboost/core.py:160: UserWarning: [20:01:16] WARNING: /workspace/src/learner.cc:742: \n",
            "Parameters: { \"max_features\", \"min_samples_leaf\", \"min_samples_split\" } are not used.\n",
            "\n",
            "  warnings.warn(smsg, UserWarning)\n"
          ]
        }
      ]
    },
    {
      "cell_type": "code",
      "source": [
        " search_hp.best_estimator_"
      ],
      "metadata": {
        "id": "6FiSMlV47jAo",
        "colab": {
          "base_uri": "https://localhost:8080/",
          "height": 248
        },
        "outputId": "a417357d-95ed-42bf-df2d-4356f2eb7d41"
      },
      "execution_count": null,
      "outputs": [
        {
          "output_type": "execute_result",
          "data": {
            "text/plain": [
              "XGBClassifier(base_score=None, booster=None, callbacks=None,\n",
              "              colsample_bylevel=None, colsample_bynode=None,\n",
              "              colsample_bytree=None, device=None, early_stopping_rounds=None,\n",
              "              enable_categorical=False, eval_metric=None, feature_types=None,\n",
              "              gamma=None, grow_policy=None, importance_type=None,\n",
              "              interaction_constraints=None, learning_rate=0.05, max_bin=None,\n",
              "              max_cat_threshold=None, max_cat_to_onehot=None,\n",
              "              max_delta_step=None, max_depth=4, max_features='auto',\n",
              "              max_leaves=None, min_child_weight=None, min_samples_leaf=5,\n",
              "              min_samples_split=10, missing=nan, monotone_constraints=None,\n",
              "              multi_strategy=None, n_estimators=25, ...)"
            ],
            "text/html": [
              "<style>#sk-container-id-7 {color: black;background-color: white;}#sk-container-id-7 pre{padding: 0;}#sk-container-id-7 div.sk-toggleable {background-color: white;}#sk-container-id-7 label.sk-toggleable__label {cursor: pointer;display: block;width: 100%;margin-bottom: 0;padding: 0.3em;box-sizing: border-box;text-align: center;}#sk-container-id-7 label.sk-toggleable__label-arrow:before {content: \"▸\";float: left;margin-right: 0.25em;color: #696969;}#sk-container-id-7 label.sk-toggleable__label-arrow:hover:before {color: black;}#sk-container-id-7 div.sk-estimator:hover label.sk-toggleable__label-arrow:before {color: black;}#sk-container-id-7 div.sk-toggleable__content {max-height: 0;max-width: 0;overflow: hidden;text-align: left;background-color: #f0f8ff;}#sk-container-id-7 div.sk-toggleable__content pre {margin: 0.2em;color: black;border-radius: 0.25em;background-color: #f0f8ff;}#sk-container-id-7 input.sk-toggleable__control:checked~div.sk-toggleable__content {max-height: 200px;max-width: 100%;overflow: auto;}#sk-container-id-7 input.sk-toggleable__control:checked~label.sk-toggleable__label-arrow:before {content: \"▾\";}#sk-container-id-7 div.sk-estimator input.sk-toggleable__control:checked~label.sk-toggleable__label {background-color: #d4ebff;}#sk-container-id-7 div.sk-label input.sk-toggleable__control:checked~label.sk-toggleable__label {background-color: #d4ebff;}#sk-container-id-7 input.sk-hidden--visually {border: 0;clip: rect(1px 1px 1px 1px);clip: rect(1px, 1px, 1px, 1px);height: 1px;margin: -1px;overflow: hidden;padding: 0;position: absolute;width: 1px;}#sk-container-id-7 div.sk-estimator {font-family: monospace;background-color: #f0f8ff;border: 1px dotted black;border-radius: 0.25em;box-sizing: border-box;margin-bottom: 0.5em;}#sk-container-id-7 div.sk-estimator:hover {background-color: #d4ebff;}#sk-container-id-7 div.sk-parallel-item::after {content: \"\";width: 100%;border-bottom: 1px solid gray;flex-grow: 1;}#sk-container-id-7 div.sk-label:hover label.sk-toggleable__label {background-color: #d4ebff;}#sk-container-id-7 div.sk-serial::before {content: \"\";position: absolute;border-left: 1px solid gray;box-sizing: border-box;top: 0;bottom: 0;left: 50%;z-index: 0;}#sk-container-id-7 div.sk-serial {display: flex;flex-direction: column;align-items: center;background-color: white;padding-right: 0.2em;padding-left: 0.2em;position: relative;}#sk-container-id-7 div.sk-item {position: relative;z-index: 1;}#sk-container-id-7 div.sk-parallel {display: flex;align-items: stretch;justify-content: center;background-color: white;position: relative;}#sk-container-id-7 div.sk-item::before, #sk-container-id-7 div.sk-parallel-item::before {content: \"\";position: absolute;border-left: 1px solid gray;box-sizing: border-box;top: 0;bottom: 0;left: 50%;z-index: -1;}#sk-container-id-7 div.sk-parallel-item {display: flex;flex-direction: column;z-index: 1;position: relative;background-color: white;}#sk-container-id-7 div.sk-parallel-item:first-child::after {align-self: flex-end;width: 50%;}#sk-container-id-7 div.sk-parallel-item:last-child::after {align-self: flex-start;width: 50%;}#sk-container-id-7 div.sk-parallel-item:only-child::after {width: 0;}#sk-container-id-7 div.sk-dashed-wrapped {border: 1px dashed gray;margin: 0 0.4em 0.5em 0.4em;box-sizing: border-box;padding-bottom: 0.4em;background-color: white;}#sk-container-id-7 div.sk-label label {font-family: monospace;font-weight: bold;display: inline-block;line-height: 1.2em;}#sk-container-id-7 div.sk-label-container {text-align: center;}#sk-container-id-7 div.sk-container {/* jupyter's `normalize.less` sets `[hidden] { display: none; }` but bootstrap.min.css set `[hidden] { display: none !important; }` so we also need the `!important` here to be able to override the default hidden behavior on the sphinx rendered scikit-learn.org. See: https://github.com/scikit-learn/scikit-learn/issues/21755 */display: inline-block !important;position: relative;}#sk-container-id-7 div.sk-text-repr-fallback {display: none;}</style><div id=\"sk-container-id-7\" class=\"sk-top-container\"><div class=\"sk-text-repr-fallback\"><pre>XGBClassifier(base_score=None, booster=None, callbacks=None,\n",
              "              colsample_bylevel=None, colsample_bynode=None,\n",
              "              colsample_bytree=None, device=None, early_stopping_rounds=None,\n",
              "              enable_categorical=False, eval_metric=None, feature_types=None,\n",
              "              gamma=None, grow_policy=None, importance_type=None,\n",
              "              interaction_constraints=None, learning_rate=0.05, max_bin=None,\n",
              "              max_cat_threshold=None, max_cat_to_onehot=None,\n",
              "              max_delta_step=None, max_depth=4, max_features=&#x27;auto&#x27;,\n",
              "              max_leaves=None, min_child_weight=None, min_samples_leaf=5,\n",
              "              min_samples_split=10, missing=nan, monotone_constraints=None,\n",
              "              multi_strategy=None, n_estimators=25, ...)</pre><b>In a Jupyter environment, please rerun this cell to show the HTML representation or trust the notebook. <br />On GitHub, the HTML representation is unable to render, please try loading this page with nbviewer.org.</b></div><div class=\"sk-container\" hidden><div class=\"sk-item\"><div class=\"sk-estimator sk-toggleable\"><input class=\"sk-toggleable__control sk-hidden--visually\" id=\"sk-estimator-id-7\" type=\"checkbox\" checked><label for=\"sk-estimator-id-7\" class=\"sk-toggleable__label sk-toggleable__label-arrow\">XGBClassifier</label><div class=\"sk-toggleable__content\"><pre>XGBClassifier(base_score=None, booster=None, callbacks=None,\n",
              "              colsample_bylevel=None, colsample_bynode=None,\n",
              "              colsample_bytree=None, device=None, early_stopping_rounds=None,\n",
              "              enable_categorical=False, eval_metric=None, feature_types=None,\n",
              "              gamma=None, grow_policy=None, importance_type=None,\n",
              "              interaction_constraints=None, learning_rate=0.05, max_bin=None,\n",
              "              max_cat_threshold=None, max_cat_to_onehot=None,\n",
              "              max_delta_step=None, max_depth=4, max_features=&#x27;auto&#x27;,\n",
              "              max_leaves=None, min_child_weight=None, min_samples_leaf=5,\n",
              "              min_samples_split=10, missing=nan, monotone_constraints=None,\n",
              "              multi_strategy=None, n_estimators=25, ...)</pre></div></div></div></div></div>"
            ]
          },
          "metadata": {},
          "execution_count": 1800
        }
      ]
    },
    {
      "cell_type": "code",
      "source": [
        " search_hp.best_score_"
      ],
      "metadata": {
        "colab": {
          "base_uri": "https://localhost:8080/"
        },
        "id": "DvVBrvA8zBTu",
        "outputId": "753a03d3-d81b-48fc-be5c-d339cad9b176"
      },
      "execution_count": null,
      "outputs": [
        {
          "output_type": "execute_result",
          "data": {
            "text/plain": [
              "0.8753475218099894"
            ]
          },
          "metadata": {},
          "execution_count": 1801
        }
      ]
    },
    {
      "cell_type": "markdown",
      "source": [
        "## Final model"
      ],
      "metadata": {
        "id": "6yGqmpMmg_7k"
      }
    },
    {
      "cell_type": "markdown",
      "source": [
        "Como hemos aplicado hiperparametrizacion, el modelo sera el resultado del proceso (si conseguimos mejorar a la parametrización por default).\n",
        "\n"
      ],
      "metadata": {
        "id": "o02MGBiDhFq5"
      }
    },
    {
      "cell_type": "code",
      "source": [
        "best_model = search_hp.best_estimator_"
      ],
      "metadata": {
        "id": "tHVA_h8hg_c4"
      },
      "execution_count": null,
      "outputs": []
    },
    {
      "cell_type": "markdown",
      "source": [
        "# PREDICT FOR SUBMISSION"
      ],
      "metadata": {
        "id": "n-B0MjZ3he-G"
      }
    },
    {
      "cell_type": "markdown",
      "source": [
        "Para hacer el submit de los datos en la competicion, tenemos que hacer un predict sobre el dataset 'titanic_test.csv'."
      ],
      "metadata": {
        "id": "Q5D-qnYmhmWD"
      }
    },
    {
      "cell_type": "code",
      "source": [
        "X_pred = pd.read_csv('/content/drive/MyDrive/Titanic - Machine Learning from Disaster/test.csv')\n",
        "print(X_pred)\n",
        "X_pred.head()"
      ],
      "metadata": {
        "id": "1oBMGv7qhhHI",
        "colab": {
          "base_uri": "https://localhost:8080/",
          "height": 744
        },
        "outputId": "0e8f44a7-309c-4084-f595-10fd17ec8f09"
      },
      "execution_count": null,
      "outputs": [
        {
          "output_type": "stream",
          "name": "stdout",
          "text": [
            "     PassengerId  Pclass                                          Name  \\\n",
            "0            892       3                              Kelly, Mr. James   \n",
            "1            893       3              Wilkes, Mrs. James (Ellen Needs)   \n",
            "2            894       2                     Myles, Mr. Thomas Francis   \n",
            "3            895       3                              Wirz, Mr. Albert   \n",
            "4            896       3  Hirvonen, Mrs. Alexander (Helga E Lindqvist)   \n",
            "..           ...     ...                                           ...   \n",
            "413         1305       3                            Spector, Mr. Woolf   \n",
            "414         1306       1                  Oliva y Ocana, Dona. Fermina   \n",
            "415         1307       3                  Saether, Mr. Simon Sivertsen   \n",
            "416         1308       3                           Ware, Mr. Frederick   \n",
            "417         1309       3                      Peter, Master. Michael J   \n",
            "\n",
            "        Sex   Age  SibSp  Parch              Ticket      Fare Cabin Embarked  \n",
            "0      male  34.5      0      0              330911    7.8292   NaN        Q  \n",
            "1    female  47.0      1      0              363272    7.0000   NaN        S  \n",
            "2      male  62.0      0      0              240276    9.6875   NaN        Q  \n",
            "3      male  27.0      0      0              315154    8.6625   NaN        S  \n",
            "4    female  22.0      1      1             3101298   12.2875   NaN        S  \n",
            "..      ...   ...    ...    ...                 ...       ...   ...      ...  \n",
            "413    male   NaN      0      0           A.5. 3236    8.0500   NaN        S  \n",
            "414  female  39.0      0      0            PC 17758  108.9000  C105        C  \n",
            "415    male  38.5      0      0  SOTON/O.Q. 3101262    7.2500   NaN        S  \n",
            "416    male   NaN      0      0              359309    8.0500   NaN        S  \n",
            "417    male   NaN      1      1                2668   22.3583   NaN        C  \n",
            "\n",
            "[418 rows x 11 columns]\n"
          ]
        },
        {
          "output_type": "execute_result",
          "data": {
            "text/plain": [
              "   PassengerId  Pclass                                          Name     Sex  \\\n",
              "0          892       3                              Kelly, Mr. James    male   \n",
              "1          893       3              Wilkes, Mrs. James (Ellen Needs)  female   \n",
              "2          894       2                     Myles, Mr. Thomas Francis    male   \n",
              "3          895       3                              Wirz, Mr. Albert    male   \n",
              "4          896       3  Hirvonen, Mrs. Alexander (Helga E Lindqvist)  female   \n",
              "\n",
              "    Age  SibSp  Parch   Ticket     Fare Cabin Embarked  \n",
              "0  34.5      0      0   330911   7.8292   NaN        Q  \n",
              "1  47.0      1      0   363272   7.0000   NaN        S  \n",
              "2  62.0      0      0   240276   9.6875   NaN        Q  \n",
              "3  27.0      0      0   315154   8.6625   NaN        S  \n",
              "4  22.0      1      1  3101298  12.2875   NaN        S  "
            ],
            "text/html": [
              "\n",
              "  <div id=\"df-d5949ef5-1554-40be-bd9d-08c0f32d3756\" class=\"colab-df-container\">\n",
              "    <div>\n",
              "<style scoped>\n",
              "    .dataframe tbody tr th:only-of-type {\n",
              "        vertical-align: middle;\n",
              "    }\n",
              "\n",
              "    .dataframe tbody tr th {\n",
              "        vertical-align: top;\n",
              "    }\n",
              "\n",
              "    .dataframe thead th {\n",
              "        text-align: right;\n",
              "    }\n",
              "</style>\n",
              "<table border=\"1\" class=\"dataframe\">\n",
              "  <thead>\n",
              "    <tr style=\"text-align: right;\">\n",
              "      <th></th>\n",
              "      <th>PassengerId</th>\n",
              "      <th>Pclass</th>\n",
              "      <th>Name</th>\n",
              "      <th>Sex</th>\n",
              "      <th>Age</th>\n",
              "      <th>SibSp</th>\n",
              "      <th>Parch</th>\n",
              "      <th>Ticket</th>\n",
              "      <th>Fare</th>\n",
              "      <th>Cabin</th>\n",
              "      <th>Embarked</th>\n",
              "    </tr>\n",
              "  </thead>\n",
              "  <tbody>\n",
              "    <tr>\n",
              "      <th>0</th>\n",
              "      <td>892</td>\n",
              "      <td>3</td>\n",
              "      <td>Kelly, Mr. James</td>\n",
              "      <td>male</td>\n",
              "      <td>34.5</td>\n",
              "      <td>0</td>\n",
              "      <td>0</td>\n",
              "      <td>330911</td>\n",
              "      <td>7.8292</td>\n",
              "      <td>NaN</td>\n",
              "      <td>Q</td>\n",
              "    </tr>\n",
              "    <tr>\n",
              "      <th>1</th>\n",
              "      <td>893</td>\n",
              "      <td>3</td>\n",
              "      <td>Wilkes, Mrs. James (Ellen Needs)</td>\n",
              "      <td>female</td>\n",
              "      <td>47.0</td>\n",
              "      <td>1</td>\n",
              "      <td>0</td>\n",
              "      <td>363272</td>\n",
              "      <td>7.0000</td>\n",
              "      <td>NaN</td>\n",
              "      <td>S</td>\n",
              "    </tr>\n",
              "    <tr>\n",
              "      <th>2</th>\n",
              "      <td>894</td>\n",
              "      <td>2</td>\n",
              "      <td>Myles, Mr. Thomas Francis</td>\n",
              "      <td>male</td>\n",
              "      <td>62.0</td>\n",
              "      <td>0</td>\n",
              "      <td>0</td>\n",
              "      <td>240276</td>\n",
              "      <td>9.6875</td>\n",
              "      <td>NaN</td>\n",
              "      <td>Q</td>\n",
              "    </tr>\n",
              "    <tr>\n",
              "      <th>3</th>\n",
              "      <td>895</td>\n",
              "      <td>3</td>\n",
              "      <td>Wirz, Mr. Albert</td>\n",
              "      <td>male</td>\n",
              "      <td>27.0</td>\n",
              "      <td>0</td>\n",
              "      <td>0</td>\n",
              "      <td>315154</td>\n",
              "      <td>8.6625</td>\n",
              "      <td>NaN</td>\n",
              "      <td>S</td>\n",
              "    </tr>\n",
              "    <tr>\n",
              "      <th>4</th>\n",
              "      <td>896</td>\n",
              "      <td>3</td>\n",
              "      <td>Hirvonen, Mrs. Alexander (Helga E Lindqvist)</td>\n",
              "      <td>female</td>\n",
              "      <td>22.0</td>\n",
              "      <td>1</td>\n",
              "      <td>1</td>\n",
              "      <td>3101298</td>\n",
              "      <td>12.2875</td>\n",
              "      <td>NaN</td>\n",
              "      <td>S</td>\n",
              "    </tr>\n",
              "  </tbody>\n",
              "</table>\n",
              "</div>\n",
              "    <div class=\"colab-df-buttons\">\n",
              "\n",
              "  <div class=\"colab-df-container\">\n",
              "    <button class=\"colab-df-convert\" onclick=\"convertToInteractive('df-d5949ef5-1554-40be-bd9d-08c0f32d3756')\"\n",
              "            title=\"Convert this dataframe to an interactive table.\"\n",
              "            style=\"display:none;\">\n",
              "\n",
              "  <svg xmlns=\"http://www.w3.org/2000/svg\" height=\"24px\" viewBox=\"0 -960 960 960\">\n",
              "    <path d=\"M120-120v-720h720v720H120Zm60-500h600v-160H180v160Zm220 220h160v-160H400v160Zm0 220h160v-160H400v160ZM180-400h160v-160H180v160Zm440 0h160v-160H620v160ZM180-180h160v-160H180v160Zm440 0h160v-160H620v160Z\"/>\n",
              "  </svg>\n",
              "    </button>\n",
              "\n",
              "  <style>\n",
              "    .colab-df-container {\n",
              "      display:flex;\n",
              "      gap: 12px;\n",
              "    }\n",
              "\n",
              "    .colab-df-convert {\n",
              "      background-color: #E8F0FE;\n",
              "      border: none;\n",
              "      border-radius: 50%;\n",
              "      cursor: pointer;\n",
              "      display: none;\n",
              "      fill: #1967D2;\n",
              "      height: 32px;\n",
              "      padding: 0 0 0 0;\n",
              "      width: 32px;\n",
              "    }\n",
              "\n",
              "    .colab-df-convert:hover {\n",
              "      background-color: #E2EBFA;\n",
              "      box-shadow: 0px 1px 2px rgba(60, 64, 67, 0.3), 0px 1px 3px 1px rgba(60, 64, 67, 0.15);\n",
              "      fill: #174EA6;\n",
              "    }\n",
              "\n",
              "    .colab-df-buttons div {\n",
              "      margin-bottom: 4px;\n",
              "    }\n",
              "\n",
              "    [theme=dark] .colab-df-convert {\n",
              "      background-color: #3B4455;\n",
              "      fill: #D2E3FC;\n",
              "    }\n",
              "\n",
              "    [theme=dark] .colab-df-convert:hover {\n",
              "      background-color: #434B5C;\n",
              "      box-shadow: 0px 1px 3px 1px rgba(0, 0, 0, 0.15);\n",
              "      filter: drop-shadow(0px 1px 2px rgba(0, 0, 0, 0.3));\n",
              "      fill: #FFFFFF;\n",
              "    }\n",
              "  </style>\n",
              "\n",
              "    <script>\n",
              "      const buttonEl =\n",
              "        document.querySelector('#df-d5949ef5-1554-40be-bd9d-08c0f32d3756 button.colab-df-convert');\n",
              "      buttonEl.style.display =\n",
              "        google.colab.kernel.accessAllowed ? 'block' : 'none';\n",
              "\n",
              "      async function convertToInteractive(key) {\n",
              "        const element = document.querySelector('#df-d5949ef5-1554-40be-bd9d-08c0f32d3756');\n",
              "        const dataTable =\n",
              "          await google.colab.kernel.invokeFunction('convertToInteractive',\n",
              "                                                    [key], {});\n",
              "        if (!dataTable) return;\n",
              "\n",
              "        const docLinkHtml = 'Like what you see? Visit the ' +\n",
              "          '<a target=\"_blank\" href=https://colab.research.google.com/notebooks/data_table.ipynb>data table notebook</a>'\n",
              "          + ' to learn more about interactive tables.';\n",
              "        element.innerHTML = '';\n",
              "        dataTable['output_type'] = 'display_data';\n",
              "        await google.colab.output.renderOutput(dataTable, element);\n",
              "        const docLink = document.createElement('div');\n",
              "        docLink.innerHTML = docLinkHtml;\n",
              "        element.appendChild(docLink);\n",
              "      }\n",
              "    </script>\n",
              "  </div>\n",
              "\n",
              "\n",
              "<div id=\"df-73a0fc33-5632-49b1-8aef-33280e35dabf\">\n",
              "  <button class=\"colab-df-quickchart\" onclick=\"quickchart('df-73a0fc33-5632-49b1-8aef-33280e35dabf')\"\n",
              "            title=\"Suggest charts\"\n",
              "            style=\"display:none;\">\n",
              "\n",
              "<svg xmlns=\"http://www.w3.org/2000/svg\" height=\"24px\"viewBox=\"0 0 24 24\"\n",
              "     width=\"24px\">\n",
              "    <g>\n",
              "        <path d=\"M19 3H5c-1.1 0-2 .9-2 2v14c0 1.1.9 2 2 2h14c1.1 0 2-.9 2-2V5c0-1.1-.9-2-2-2zM9 17H7v-7h2v7zm4 0h-2V7h2v10zm4 0h-2v-4h2v4z\"/>\n",
              "    </g>\n",
              "</svg>\n",
              "  </button>\n",
              "\n",
              "<style>\n",
              "  .colab-df-quickchart {\n",
              "      --bg-color: #E8F0FE;\n",
              "      --fill-color: #1967D2;\n",
              "      --hover-bg-color: #E2EBFA;\n",
              "      --hover-fill-color: #174EA6;\n",
              "      --disabled-fill-color: #AAA;\n",
              "      --disabled-bg-color: #DDD;\n",
              "  }\n",
              "\n",
              "  [theme=dark] .colab-df-quickchart {\n",
              "      --bg-color: #3B4455;\n",
              "      --fill-color: #D2E3FC;\n",
              "      --hover-bg-color: #434B5C;\n",
              "      --hover-fill-color: #FFFFFF;\n",
              "      --disabled-bg-color: #3B4455;\n",
              "      --disabled-fill-color: #666;\n",
              "  }\n",
              "\n",
              "  .colab-df-quickchart {\n",
              "    background-color: var(--bg-color);\n",
              "    border: none;\n",
              "    border-radius: 50%;\n",
              "    cursor: pointer;\n",
              "    display: none;\n",
              "    fill: var(--fill-color);\n",
              "    height: 32px;\n",
              "    padding: 0;\n",
              "    width: 32px;\n",
              "  }\n",
              "\n",
              "  .colab-df-quickchart:hover {\n",
              "    background-color: var(--hover-bg-color);\n",
              "    box-shadow: 0 1px 2px rgba(60, 64, 67, 0.3), 0 1px 3px 1px rgba(60, 64, 67, 0.15);\n",
              "    fill: var(--button-hover-fill-color);\n",
              "  }\n",
              "\n",
              "  .colab-df-quickchart-complete:disabled,\n",
              "  .colab-df-quickchart-complete:disabled:hover {\n",
              "    background-color: var(--disabled-bg-color);\n",
              "    fill: var(--disabled-fill-color);\n",
              "    box-shadow: none;\n",
              "  }\n",
              "\n",
              "  .colab-df-spinner {\n",
              "    border: 2px solid var(--fill-color);\n",
              "    border-color: transparent;\n",
              "    border-bottom-color: var(--fill-color);\n",
              "    animation:\n",
              "      spin 1s steps(1) infinite;\n",
              "  }\n",
              "\n",
              "  @keyframes spin {\n",
              "    0% {\n",
              "      border-color: transparent;\n",
              "      border-bottom-color: var(--fill-color);\n",
              "      border-left-color: var(--fill-color);\n",
              "    }\n",
              "    20% {\n",
              "      border-color: transparent;\n",
              "      border-left-color: var(--fill-color);\n",
              "      border-top-color: var(--fill-color);\n",
              "    }\n",
              "    30% {\n",
              "      border-color: transparent;\n",
              "      border-left-color: var(--fill-color);\n",
              "      border-top-color: var(--fill-color);\n",
              "      border-right-color: var(--fill-color);\n",
              "    }\n",
              "    40% {\n",
              "      border-color: transparent;\n",
              "      border-right-color: var(--fill-color);\n",
              "      border-top-color: var(--fill-color);\n",
              "    }\n",
              "    60% {\n",
              "      border-color: transparent;\n",
              "      border-right-color: var(--fill-color);\n",
              "    }\n",
              "    80% {\n",
              "      border-color: transparent;\n",
              "      border-right-color: var(--fill-color);\n",
              "      border-bottom-color: var(--fill-color);\n",
              "    }\n",
              "    90% {\n",
              "      border-color: transparent;\n",
              "      border-bottom-color: var(--fill-color);\n",
              "    }\n",
              "  }\n",
              "</style>\n",
              "\n",
              "  <script>\n",
              "    async function quickchart(key) {\n",
              "      const quickchartButtonEl =\n",
              "        document.querySelector('#' + key + ' button');\n",
              "      quickchartButtonEl.disabled = true;  // To prevent multiple clicks.\n",
              "      quickchartButtonEl.classList.add('colab-df-spinner');\n",
              "      try {\n",
              "        const charts = await google.colab.kernel.invokeFunction(\n",
              "            'suggestCharts', [key], {});\n",
              "      } catch (error) {\n",
              "        console.error('Error during call to suggestCharts:', error);\n",
              "      }\n",
              "      quickchartButtonEl.classList.remove('colab-df-spinner');\n",
              "      quickchartButtonEl.classList.add('colab-df-quickchart-complete');\n",
              "    }\n",
              "    (() => {\n",
              "      let quickchartButtonEl =\n",
              "        document.querySelector('#df-73a0fc33-5632-49b1-8aef-33280e35dabf button');\n",
              "      quickchartButtonEl.style.display =\n",
              "        google.colab.kernel.accessAllowed ? 'block' : 'none';\n",
              "    })();\n",
              "  </script>\n",
              "</div>\n",
              "    </div>\n",
              "  </div>\n"
            ],
            "application/vnd.google.colaboratory.intrinsic+json": {
              "type": "dataframe",
              "variable_name": "X_pred",
              "summary": "{\n  \"name\": \"X_pred\",\n  \"rows\": 418,\n  \"fields\": [\n    {\n      \"column\": \"PassengerId\",\n      \"properties\": {\n        \"dtype\": \"number\",\n        \"std\": 120,\n        \"min\": 892,\n        \"max\": 1309,\n        \"samples\": [\n          1213,\n          1216,\n          1280\n        ],\n        \"num_unique_values\": 418,\n        \"semantic_type\": \"\",\n        \"description\": \"\"\n      }\n    },\n    {\n      \"column\": \"Pclass\",\n      \"properties\": {\n        \"dtype\": \"number\",\n        \"std\": 0,\n        \"min\": 1,\n        \"max\": 3,\n        \"samples\": [\n          3,\n          2,\n          1\n        ],\n        \"num_unique_values\": 3,\n        \"semantic_type\": \"\",\n        \"description\": \"\"\n      }\n    },\n    {\n      \"column\": \"Name\",\n      \"properties\": {\n        \"dtype\": \"string\",\n        \"samples\": [\n          \"Krekorian, Mr. Neshan\",\n          \"Kreuchen, Miss. Emilie\",\n          \"Canavan, Mr. Patrick\"\n        ],\n        \"num_unique_values\": 418,\n        \"semantic_type\": \"\",\n        \"description\": \"\"\n      }\n    },\n    {\n      \"column\": \"Sex\",\n      \"properties\": {\n        \"dtype\": \"category\",\n        \"samples\": [\n          \"female\",\n          \"male\"\n        ],\n        \"num_unique_values\": 2,\n        \"semantic_type\": \"\",\n        \"description\": \"\"\n      }\n    },\n    {\n      \"column\": \"Age\",\n      \"properties\": {\n        \"dtype\": \"number\",\n        \"std\": 14.181209235624422,\n        \"min\": 0.17,\n        \"max\": 76.0,\n        \"samples\": [\n          10.0,\n          34.5\n        ],\n        \"num_unique_values\": 79,\n        \"semantic_type\": \"\",\n        \"description\": \"\"\n      }\n    },\n    {\n      \"column\": \"SibSp\",\n      \"properties\": {\n        \"dtype\": \"number\",\n        \"std\": 0,\n        \"min\": 0,\n        \"max\": 8,\n        \"samples\": [\n          0,\n          1\n        ],\n        \"num_unique_values\": 7,\n        \"semantic_type\": \"\",\n        \"description\": \"\"\n      }\n    },\n    {\n      \"column\": \"Parch\",\n      \"properties\": {\n        \"dtype\": \"number\",\n        \"std\": 0,\n        \"min\": 0,\n        \"max\": 9,\n        \"samples\": [\n          1,\n          6\n        ],\n        \"num_unique_values\": 8,\n        \"semantic_type\": \"\",\n        \"description\": \"\"\n      }\n    },\n    {\n      \"column\": \"Ticket\",\n      \"properties\": {\n        \"dtype\": \"string\",\n        \"samples\": [\n          \"2673\",\n          \"W./C. 6607\"\n        ],\n        \"num_unique_values\": 363,\n        \"semantic_type\": \"\",\n        \"description\": \"\"\n      }\n    },\n    {\n      \"column\": \"Fare\",\n      \"properties\": {\n        \"dtype\": \"number\",\n        \"std\": 55.907576179973844,\n        \"min\": 0.0,\n        \"max\": 512.3292,\n        \"samples\": [\n          41.5792,\n          57.75\n        ],\n        \"num_unique_values\": 169,\n        \"semantic_type\": \"\",\n        \"description\": \"\"\n      }\n    },\n    {\n      \"column\": \"Cabin\",\n      \"properties\": {\n        \"dtype\": \"category\",\n        \"samples\": [\n          \"A21\",\n          \"E45\"\n        ],\n        \"num_unique_values\": 76,\n        \"semantic_type\": \"\",\n        \"description\": \"\"\n      }\n    },\n    {\n      \"column\": \"Embarked\",\n      \"properties\": {\n        \"dtype\": \"category\",\n        \"samples\": [\n          \"Q\",\n          \"S\"\n        ],\n        \"num_unique_values\": 3,\n        \"semantic_type\": \"\",\n        \"description\": \"\"\n      }\n    }\n  ]\n}"
            }
          },
          "metadata": {},
          "execution_count": 1803
        }
      ]
    },
    {
      "cell_type": "code",
      "source": [
        "X_pred = X_pred.set_index(['PassengerId'])"
      ],
      "metadata": {
        "id": "6Z3fBbB1wF1T"
      },
      "execution_count": null,
      "outputs": []
    },
    {
      "cell_type": "markdown",
      "source": [
        "## Model features"
      ],
      "metadata": {
        "id": "8zpYS0Gsw8nk"
      }
    },
    {
      "cell_type": "code",
      "source": [
        "features_model =  list(best_model.feature_names_in_)\n",
        "print('Estas son las variables que tenemos que conseguir en el preprocessing para que el modelo funcione:\\n', features_model)"
      ],
      "metadata": {
        "id": "iq47K3vww7zo",
        "colab": {
          "base_uri": "https://localhost:8080/"
        },
        "outputId": "08069167-7af8-4d9e-e53a-4f1787878206"
      },
      "execution_count": null,
      "outputs": [
        {
          "output_type": "stream",
          "name": "stdout",
          "text": [
            "Estas son las variables que tenemos que conseguir en el preprocessing para que el modelo funcione:\n",
            " ['Pclass', 'Age', 'SibSp', 'Parch', 'Fare', 'Sex_male', 'Title_Category_Master', 'Title_Category_Miss', 'Title_Category_Mr', 'Title_Category_Mrs', 'Title_Category_Professional', 'Cabin_Reduced_A', 'Cabin_Reduced_B', 'Cabin_Reduced_C', 'Cabin_Reduced_D', 'Cabin_Reduced_E', 'Cabin_Reduced_F', 'Cabin_Reduced_Unknown', 'Ticket_Prefix_Grouped_A5', 'Ticket_Prefix_Grouped_C', 'Ticket_Prefix_Grouped_NUMERIC', 'Ticket_Prefix_Grouped_OTHER', 'Ticket_Prefix_Grouped_SC', 'Ticket_Prefix_Grouped_STONO', 'Embarked_Cherbourg', 'Embarked_Queenstown', 'Embarked_Southampton']\n"
          ]
        }
      ]
    },
    {
      "cell_type": "markdown",
      "source": [
        "## ML Preprocessing"
      ],
      "metadata": {
        "id": "1M4HcU4Rh6_I"
      }
    },
    {
      "cell_type": "markdown",
      "source": [
        "Se deben acometer las mismas transformaciones que las realizadas en el preprocessing del train data:\n",
        "* Generacion de nuevas variables\n",
        "* Imputación de nulos (mismos valores)\n",
        "* One Hot Encoding\n",
        "* Drop de columnas\n",
        "<br><br>\n",
        "No repetimos:\n",
        "* Analisis exploratorio\n",
        "* Analisis de altas correlaciones\n",
        "* Analisis de baja varianza"
      ],
      "metadata": {
        "id": "xy0-HokIh-Mm"
      }
    },
    {
      "cell_type": "code",
      "source": [
        "X_pred['Age'].fillna(-999,inplace=True)"
      ],
      "metadata": {
        "id": "SxzQ15TIBKX7"
      },
      "execution_count": null,
      "outputs": []
    },
    {
      "cell_type": "code",
      "source": [
        "X_pred['Age'] = X_pred['Age'].astype('float32')"
      ],
      "metadata": {
        "id": "UDCVopuLBUPe"
      },
      "execution_count": null,
      "outputs": []
    },
    {
      "cell_type": "code",
      "source": [
        "X_pred['Embarked'] = X_pred['Embarked'].replace({'C' : 'Cherbourg', 'Q': 'Queenstown', 'S' : 'Southampton'})"
      ],
      "metadata": {
        "id": "kpRy4OthBuem"
      },
      "execution_count": null,
      "outputs": []
    },
    {
      "cell_type": "code",
      "source": [
        "X_pred['Embarked'].fillna('Unknown', inplace = True)"
      ],
      "metadata": {
        "id": "ptia4lQaBues"
      },
      "execution_count": null,
      "outputs": []
    },
    {
      "cell_type": "code",
      "source": [
        "X_pred['Embarked'] = X_pred['Embarked'].astype('category')"
      ],
      "metadata": {
        "id": "d9pFtQtiBues"
      },
      "execution_count": null,
      "outputs": []
    },
    {
      "cell_type": "code",
      "source": [
        "X_pred['Title'] = X_pred['Name'].apply(extract_title)"
      ],
      "metadata": {
        "id": "f-iWieEXC_y5"
      },
      "execution_count": null,
      "outputs": []
    },
    {
      "cell_type": "code",
      "source": [
        "X_pred['Title_Category'] = X_pred['Title'].map(title_mapping)"
      ],
      "metadata": {
        "id": "k4yxijfnDVQX"
      },
      "execution_count": null,
      "outputs": []
    },
    {
      "cell_type": "code",
      "source": [
        "X_pred.drop(['Name','Title'], axis = 1, inplace = True)"
      ],
      "metadata": {
        "id": "g7DxJ6UdDVQX"
      },
      "execution_count": null,
      "outputs": []
    },
    {
      "cell_type": "code",
      "source": [
        "X_pred.duplicated().any() # No hay registros duplicados"
      ],
      "metadata": {
        "colab": {
          "base_uri": "https://localhost:8080/"
        },
        "outputId": "46b6edf9-197a-4ea8-e011-3fb139f26ce4",
        "id": "17CSfIrSDVQX"
      },
      "execution_count": null,
      "outputs": [
        {
          "output_type": "execute_result",
          "data": {
            "text/plain": [
              "True"
            ]
          },
          "metadata": {},
          "execution_count": 1814
        }
      ]
    },
    {
      "cell_type": "code",
      "source": [
        "X_pred['Ticket_Prefix'] = X_pred['Ticket'].apply(extract_ticket_prefix)"
      ],
      "metadata": {
        "id": "RprqCYpdhozA"
      },
      "execution_count": null,
      "outputs": []
    },
    {
      "cell_type": "code",
      "source": [
        "X_pred['Ticket_Prefix_Grouped'] = X_pred['Ticket_Prefix'].apply(normalize_and_group_prefix)"
      ],
      "metadata": {
        "id": "XZbKVYeOhozB"
      },
      "execution_count": null,
      "outputs": []
    },
    {
      "cell_type": "code",
      "source": [
        "X_pred.drop(['Ticket_Prefix', 'Ticket'], axis = 1, inplace = True)"
      ],
      "metadata": {
        "id": "2LpRnJtRhozB"
      },
      "execution_count": null,
      "outputs": []
    },
    {
      "cell_type": "code",
      "source": [
        "X_pred['Cabin'].fillna('Unknown', inplace = True)"
      ],
      "metadata": {
        "id": "b-LK_zjchozB"
      },
      "execution_count": null,
      "outputs": []
    },
    {
      "cell_type": "code",
      "source": [
        "X_pred['Cabin_Reduced'] = X_pred['Cabin'].apply(process_cabin)"
      ],
      "metadata": {
        "id": "qRxGyQYShozB"
      },
      "execution_count": null,
      "outputs": []
    },
    {
      "cell_type": "code",
      "source": [
        "X_pred['Pclass'] = X_pred['Pclass'].astype('category')\n",
        "X_pred['Pclass'] = X_pred['Pclass'].replace({1: \"1ª clase\", 2: \"2ª clase\", 3: \"3ª clase\"})"
      ],
      "metadata": {
        "id": "EzyXBR6OhozC"
      },
      "execution_count": null,
      "outputs": []
    },
    {
      "cell_type": "code",
      "source": [
        "X_pred['Sex'] = X_pred['Sex'].astype('category')"
      ],
      "metadata": {
        "id": "-Z4g3IIZhozC"
      },
      "execution_count": null,
      "outputs": []
    },
    {
      "cell_type": "code",
      "source": [
        "X_pred['SibSp'] = X_pred['SibSp'].astype('int8')"
      ],
      "metadata": {
        "id": "X5nC-DMPhozC"
      },
      "execution_count": null,
      "outputs": []
    },
    {
      "cell_type": "code",
      "source": [
        "X_pred['Parch'] = X_pred['Parch'].astype('int8')"
      ],
      "metadata": {
        "id": "rl04YUPLhozC"
      },
      "execution_count": null,
      "outputs": []
    },
    {
      "cell_type": "code",
      "source": [
        "X_pred['Fare'] = X_pred['Fare'].astype('float32')"
      ],
      "metadata": {
        "id": "kEWEkHLJhozC"
      },
      "execution_count": null,
      "outputs": []
    },
    {
      "cell_type": "code",
      "source": [
        "del(X_pred['Cabin'])"
      ],
      "metadata": {
        "id": "5u4NJsJvhozC"
      },
      "execution_count": null,
      "outputs": []
    },
    {
      "cell_type": "code",
      "source": [
        "#del(X_pred['PassengerId'])"
      ],
      "metadata": {
        "id": "Fx-TY-PysFJ2"
      },
      "execution_count": null,
      "outputs": []
    },
    {
      "cell_type": "code",
      "source": [
        "X_pred['Title_Category'] = X_pred['Title_Category'].astype('category')"
      ],
      "metadata": {
        "id": "kNc51Ch1hozD"
      },
      "execution_count": null,
      "outputs": []
    },
    {
      "cell_type": "code",
      "source": [
        "X_pred['Ticket_Prefix_Grouped'] = X_pred['Ticket_Prefix_Grouped'].astype('category')"
      ],
      "metadata": {
        "id": "Ew1ZSNchhozD"
      },
      "execution_count": null,
      "outputs": []
    },
    {
      "cell_type": "code",
      "source": [
        "X_pred['Cabin_Reduced'] = X_pred['Cabin_Reduced'].astype('category')"
      ],
      "metadata": {
        "id": "iMGdw-FwhozD"
      },
      "execution_count": null,
      "outputs": []
    },
    {
      "cell_type": "code",
      "source": [
        "encoder = OrdinalEncoder(categories=[['1ª clase', '2ª clase', '3ª clase']])\n",
        "X_pred['Pclass'] = encoder.fit_transform(X_pred[['Pclass']])\n",
        "# '3ª clase' == 2.0, '2ª clase' == 1.0, '1ª clase' == 0.0"
      ],
      "metadata": {
        "id": "7bVXo38-n1wK"
      },
      "execution_count": null,
      "outputs": []
    },
    {
      "cell_type": "code",
      "source": [
        "X_pred = pd.get_dummies(X_pred, columns=['Sex', 'Title_Category', 'Cabin_Reduced', 'Ticket_Prefix_Grouped', 'Embarked'])\n"
      ],
      "metadata": {
        "id": "KcNXl6r4n1wL"
      },
      "execution_count": null,
      "outputs": []
    },
    {
      "cell_type": "markdown",
      "source": [
        "## Check model features"
      ],
      "metadata": {
        "id": "9ixlhTAbxsMA"
      }
    },
    {
      "cell_type": "markdown",
      "source": [
        "Check de variables. Las variables del dataset para PREDICT deben coincidir con las variables utilizadas en el entrenamiento."
      ],
      "metadata": {
        "id": "uHQN7lX3avcx"
      }
    },
    {
      "cell_type": "code",
      "source": [
        "del(X_pred['Sex_female'])"
      ],
      "metadata": {
        "id": "WghNbZmbjkkF"
      },
      "execution_count": null,
      "outputs": []
    },
    {
      "cell_type": "code",
      "source": [
        "X_pred.drop(['Title_Category_Military', 'Title_Category_Nobility', 'Cabin_Reduced_G'], axis=1, inplace=True)"
      ],
      "metadata": {
        "id": "DRjK2yvkjsYN"
      },
      "execution_count": null,
      "outputs": []
    },
    {
      "cell_type": "code",
      "source": [
        "features_test = list(X_pred.columns)\n",
        "\n",
        "print('Columnas en dataset:',len(features_test))\n",
        "print('Variables en modelos:',len(features_model))\n",
        "print('¿Match?:', features_model == features_test)"
      ],
      "metadata": {
        "id": "pV3KyqkmzLWI",
        "colab": {
          "base_uri": "https://localhost:8080/"
        },
        "outputId": "ec6a1bad-ca12-42de-8c25-6201a55a8adf"
      },
      "execution_count": null,
      "outputs": [
        {
          "output_type": "stream",
          "name": "stdout",
          "text": [
            "Columnas en dataset: 27\n",
            "Variables en modelos: 27\n",
            "¿Match?: True\n"
          ]
        }
      ]
    },
    {
      "cell_type": "code",
      "source": [
        "missing_features = [i for i in features_model if i not in features_test]\n",
        "print('Variables que faltan el el dataset:\\n', missing_features)"
      ],
      "metadata": {
        "id": "7mVl_WF5ygoU",
        "colab": {
          "base_uri": "https://localhost:8080/"
        },
        "outputId": "4d445c63-1264-42bb-e2a1-a609f1a32ad1"
      },
      "execution_count": null,
      "outputs": [
        {
          "output_type": "stream",
          "name": "stdout",
          "text": [
            "Variables que faltan el el dataset:\n",
            " []\n"
          ]
        }
      ]
    },
    {
      "cell_type": "code",
      "source": [
        "for col in missing_features:\n",
        "  X_pred[col]= 0"
      ],
      "metadata": {
        "id": "aG0W93fY1D6a"
      },
      "execution_count": null,
      "outputs": []
    },
    {
      "cell_type": "code",
      "source": [
        "drop_features = [i for i in features_test if i not in features_model]\n",
        "print('Variables que debes eliminar de tu dataset:\\n', drop_features)"
      ],
      "metadata": {
        "id": "encMw6N1y7AS",
        "colab": {
          "base_uri": "https://localhost:8080/"
        },
        "outputId": "4ea8bc4c-c948-4299-a980-4e8471f369f8"
      },
      "execution_count": null,
      "outputs": [
        {
          "output_type": "stream",
          "name": "stdout",
          "text": [
            "Variables que debes eliminar de tu dataset:\n",
            " []\n"
          ]
        }
      ]
    },
    {
      "cell_type": "code",
      "source": [
        "X_pred.drop(columns = drop_features, inplace=True)"
      ],
      "metadata": {
        "id": "3yXstMLxRosr"
      },
      "execution_count": null,
      "outputs": []
    },
    {
      "cell_type": "code",
      "source": [
        "features_test = list(X_pred.columns)\n",
        "\n",
        "print('Columnas en dataset:',len(features_test))\n",
        "print('Variables en modelos:',len(features_model))\n",
        "print('¿Match?:', features_model == features_test)"
      ],
      "metadata": {
        "id": "HO355lD_1bZ7",
        "colab": {
          "base_uri": "https://localhost:8080/"
        },
        "outputId": "602c440b-31e9-40df-8430-30891c1f945a"
      },
      "execution_count": null,
      "outputs": [
        {
          "output_type": "stream",
          "name": "stdout",
          "text": [
            "Columnas en dataset: 27\n",
            "Variables en modelos: 27\n",
            "¿Match?: True\n"
          ]
        }
      ]
    },
    {
      "cell_type": "code",
      "source": [
        "# Reordena variables\n",
        "X_pred = X_pred[features_model]"
      ],
      "metadata": {
        "id": "5b3Q1zss1ctp"
      },
      "execution_count": null,
      "outputs": []
    },
    {
      "cell_type": "code",
      "source": [
        "X_pred['Fare'].fillna(-999, inplace=True)"
      ],
      "metadata": {
        "id": "g45hprZTpJ65"
      },
      "execution_count": null,
      "outputs": []
    },
    {
      "cell_type": "markdown",
      "source": [
        "## Rescaling"
      ],
      "metadata": {
        "id": "t1yD85_uiU4C"
      }
    },
    {
      "cell_type": "markdown",
      "source": [
        "Aplicamos mismo scaler que en el training (\".transform\", no hacer \".fit\")"
      ],
      "metadata": {
        "id": "opXidYk9ib4d"
      }
    },
    {
      "cell_type": "code",
      "source": [],
      "metadata": {
        "id": "tqOhiKWozw5c"
      },
      "execution_count": null,
      "outputs": []
    },
    {
      "cell_type": "markdown",
      "source": [
        "## Predictions"
      ],
      "metadata": {
        "id": "Z6ae7xLhiqn8"
      }
    },
    {
      "cell_type": "code",
      "source": [
        "predictions = best_model.predict(X_pred)"
      ],
      "metadata": {
        "id": "FpmK6LG-i1IE"
      },
      "execution_count": null,
      "outputs": []
    },
    {
      "cell_type": "code",
      "source": [
        "predictions"
      ],
      "metadata": {
        "colab": {
          "base_uri": "https://localhost:8080/"
        },
        "id": "CjDTra8Kpm0x",
        "outputId": "c5738233-23a8-48ec-f866-5b121c0c556f"
      },
      "execution_count": null,
      "outputs": [
        {
          "output_type": "execute_result",
          "data": {
            "text/plain": [
              "array([0, 0, 0, 0, 1, 0, 0, 0, 1, 0, 0, 0, 1, 0, 1, 1, 0, 0, 0, 0, 0, 1,\n",
              "       1, 0, 1, 0, 1, 0, 0, 0, 0, 0, 0, 0, 0, 0, 1, 0, 0, 0, 0, 1, 0, 1,\n",
              "       1, 0, 0, 0, 1, 0, 0, 0, 1, 1, 0, 0, 0, 0, 0, 1, 0, 0, 0, 1, 1, 1,\n",
              "       1, 0, 0, 1, 1, 0, 0, 0, 1, 0, 0, 1, 0, 1, 1, 0, 0, 0, 0, 0, 1, 0,\n",
              "       1, 1, 1, 0, 1, 0, 0, 0, 1, 0, 1, 0, 1, 0, 0, 0, 1, 0, 0, 0, 0, 0,\n",
              "       0, 1, 1, 1, 1, 0, 0, 1, 0, 1, 1, 0, 1, 0, 0, 1, 0, 1, 0, 0, 0, 1,\n",
              "       0, 0, 0, 0, 0, 0, 0, 0, 0, 1, 0, 0, 0, 0, 0, 0, 0, 0, 1, 0, 0, 0,\n",
              "       0, 0, 1, 1, 1, 0, 1, 1, 1, 0, 0, 0, 0, 0, 1, 0, 0, 0, 0, 0, 0, 1,\n",
              "       1, 0, 1, 1, 0, 0, 1, 0, 1, 0, 1, 0, 0, 0, 0, 0, 1, 0, 1, 0, 1, 1,\n",
              "       0, 1, 1, 1, 1, 1, 0, 0, 0, 0, 1, 0, 0, 0, 0, 1, 0, 0, 1, 0, 1, 0,\n",
              "       1, 0, 1, 0, 1, 1, 0, 1, 0, 0, 0, 1, 0, 0, 0, 0, 0, 0, 1, 1, 1, 1,\n",
              "       0, 0, 0, 0, 1, 0, 1, 1, 1, 0, 0, 0, 0, 0, 0, 0, 1, 0, 0, 0, 1, 1,\n",
              "       0, 0, 0, 0, 1, 0, 0, 0, 1, 1, 0, 1, 0, 0, 0, 0, 0, 1, 1, 1, 1, 0,\n",
              "       0, 0, 0, 0, 0, 0, 0, 0, 0, 0, 1, 0, 0, 0, 0, 0, 0, 0, 1, 1, 0, 1,\n",
              "       0, 0, 0, 0, 0, 0, 1, 1, 0, 0, 0, 0, 0, 0, 0, 0, 1, 0, 1, 0, 0, 0,\n",
              "       1, 0, 0, 1, 0, 0, 0, 0, 0, 1, 0, 0, 0, 1, 1, 1, 0, 0, 0, 1, 1, 0,\n",
              "       0, 0, 1, 0, 1, 0, 0, 0, 0, 1, 1, 0, 1, 0, 0, 0, 1, 0, 0, 1, 0, 0,\n",
              "       1, 1, 0, 0, 0, 0, 0, 0, 1, 1, 0, 1, 0, 0, 0, 0, 0, 1, 1, 0, 0, 1,\n",
              "       0, 1, 0, 0, 1, 0, 1, 0, 0, 0, 0, 0, 1, 1, 1, 1, 0, 0, 1, 0, 0, 1])"
            ]
          },
          "metadata": {},
          "execution_count": 1843
        }
      ]
    },
    {
      "cell_type": "code",
      "source": [
        "predictions.sum()/len(predictions)"
      ],
      "metadata": {
        "colab": {
          "base_uri": "https://localhost:8080/"
        },
        "id": "h7Cp5rytpui0",
        "outputId": "fdc17bc3-4193-4031-c118-a0ac42798a27"
      },
      "execution_count": null,
      "outputs": [
        {
          "output_type": "execute_result",
          "data": {
            "text/plain": [
              "0.3373205741626794"
            ]
          },
          "metadata": {},
          "execution_count": 1844
        }
      ]
    },
    {
      "cell_type": "markdown",
      "source": [
        "# Upload predictions to Kaggle.com"
      ],
      "metadata": {
        "id": "nSPEWDLPi_52"
      }
    },
    {
      "cell_type": "markdown",
      "source": [
        "Se deben subir las predicciones en un .csv con 2 columnas (PassengerId, Survived) en el apartado de submissions en https://www.kaggle.com/competitions/titanic/data. Debe contener 418 rows + header."
      ],
      "metadata": {
        "id": "QwhN2_4_jD_-"
      }
    },
    {
      "cell_type": "code",
      "source": [
        "submission = pd.DataFrame(predictions, columns=['Survived'], index = X_pred.index)"
      ],
      "metadata": {
        "id": "-PzpHmltjCOm"
      },
      "execution_count": null,
      "outputs": []
    },
    {
      "cell_type": "code",
      "source": [
        "submission.to_csv('/content/drive/MyDrive/M4_Machine_Learning/Notebooks/ML3 - Kaggle competition.csv')"
      ],
      "metadata": {
        "id": "kRbZ-ElC25G5"
      },
      "execution_count": null,
      "outputs": []
    },
    {
      "cell_type": "code",
      "source": [
        "X_train.head(2)"
      ],
      "metadata": {
        "colab": {
          "base_uri": "https://localhost:8080/",
          "height": 161
        },
        "id": "lBHBcMUc4S12",
        "outputId": "e55e6aa9-68f0-4357-90f6-2c6061891326"
      },
      "execution_count": null,
      "outputs": [
        {
          "output_type": "execute_result",
          "data": {
            "text/plain": [
              "   Pclass   Age  SibSp  Parch       Fare  Sex_male  Title_Category_Master  \\\n",
              "0     2.0  22.0      1      0   7.250000         1                      0   \n",
              "1     0.0  38.0      1      0  71.283302         0                      0   \n",
              "\n",
              "   Title_Category_Miss  Title_Category_Mr  Title_Category_Mrs  ...  \\\n",
              "0                    0                  1                   0  ...   \n",
              "1                    0                  0                   1  ...   \n",
              "\n",
              "   Cabin_Reduced_Unknown  Ticket_Prefix_Grouped_A5  Ticket_Prefix_Grouped_C  \\\n",
              "0                      1                         1                        0   \n",
              "1                      0                         0                        1   \n",
              "\n",
              "   Ticket_Prefix_Grouped_NUMERIC  Ticket_Prefix_Grouped_OTHER  \\\n",
              "0                              0                            0   \n",
              "1                              0                            0   \n",
              "\n",
              "   Ticket_Prefix_Grouped_SC  Ticket_Prefix_Grouped_STONO  Embarked_Cherbourg  \\\n",
              "0                         0                            0                   0   \n",
              "1                         0                            0                   1   \n",
              "\n",
              "   Embarked_Queenstown  Embarked_Southampton  \n",
              "0                    0                     1  \n",
              "1                    0                     0  \n",
              "\n",
              "[2 rows x 27 columns]"
            ],
            "text/html": [
              "\n",
              "  <div id=\"df-b9c80060-ab30-4b2b-8204-3b15079988b2\" class=\"colab-df-container\">\n",
              "    <div>\n",
              "<style scoped>\n",
              "    .dataframe tbody tr th:only-of-type {\n",
              "        vertical-align: middle;\n",
              "    }\n",
              "\n",
              "    .dataframe tbody tr th {\n",
              "        vertical-align: top;\n",
              "    }\n",
              "\n",
              "    .dataframe thead th {\n",
              "        text-align: right;\n",
              "    }\n",
              "</style>\n",
              "<table border=\"1\" class=\"dataframe\">\n",
              "  <thead>\n",
              "    <tr style=\"text-align: right;\">\n",
              "      <th></th>\n",
              "      <th>Pclass</th>\n",
              "      <th>Age</th>\n",
              "      <th>SibSp</th>\n",
              "      <th>Parch</th>\n",
              "      <th>Fare</th>\n",
              "      <th>Sex_male</th>\n",
              "      <th>Title_Category_Master</th>\n",
              "      <th>Title_Category_Miss</th>\n",
              "      <th>Title_Category_Mr</th>\n",
              "      <th>Title_Category_Mrs</th>\n",
              "      <th>...</th>\n",
              "      <th>Cabin_Reduced_Unknown</th>\n",
              "      <th>Ticket_Prefix_Grouped_A5</th>\n",
              "      <th>Ticket_Prefix_Grouped_C</th>\n",
              "      <th>Ticket_Prefix_Grouped_NUMERIC</th>\n",
              "      <th>Ticket_Prefix_Grouped_OTHER</th>\n",
              "      <th>Ticket_Prefix_Grouped_SC</th>\n",
              "      <th>Ticket_Prefix_Grouped_STONO</th>\n",
              "      <th>Embarked_Cherbourg</th>\n",
              "      <th>Embarked_Queenstown</th>\n",
              "      <th>Embarked_Southampton</th>\n",
              "    </tr>\n",
              "  </thead>\n",
              "  <tbody>\n",
              "    <tr>\n",
              "      <th>0</th>\n",
              "      <td>2.0</td>\n",
              "      <td>22.0</td>\n",
              "      <td>1</td>\n",
              "      <td>0</td>\n",
              "      <td>7.250000</td>\n",
              "      <td>1</td>\n",
              "      <td>0</td>\n",
              "      <td>0</td>\n",
              "      <td>1</td>\n",
              "      <td>0</td>\n",
              "      <td>...</td>\n",
              "      <td>1</td>\n",
              "      <td>1</td>\n",
              "      <td>0</td>\n",
              "      <td>0</td>\n",
              "      <td>0</td>\n",
              "      <td>0</td>\n",
              "      <td>0</td>\n",
              "      <td>0</td>\n",
              "      <td>0</td>\n",
              "      <td>1</td>\n",
              "    </tr>\n",
              "    <tr>\n",
              "      <th>1</th>\n",
              "      <td>0.0</td>\n",
              "      <td>38.0</td>\n",
              "      <td>1</td>\n",
              "      <td>0</td>\n",
              "      <td>71.283302</td>\n",
              "      <td>0</td>\n",
              "      <td>0</td>\n",
              "      <td>0</td>\n",
              "      <td>0</td>\n",
              "      <td>1</td>\n",
              "      <td>...</td>\n",
              "      <td>0</td>\n",
              "      <td>0</td>\n",
              "      <td>1</td>\n",
              "      <td>0</td>\n",
              "      <td>0</td>\n",
              "      <td>0</td>\n",
              "      <td>0</td>\n",
              "      <td>1</td>\n",
              "      <td>0</td>\n",
              "      <td>0</td>\n",
              "    </tr>\n",
              "  </tbody>\n",
              "</table>\n",
              "<p>2 rows × 27 columns</p>\n",
              "</div>\n",
              "    <div class=\"colab-df-buttons\">\n",
              "\n",
              "  <div class=\"colab-df-container\">\n",
              "    <button class=\"colab-df-convert\" onclick=\"convertToInteractive('df-b9c80060-ab30-4b2b-8204-3b15079988b2')\"\n",
              "            title=\"Convert this dataframe to an interactive table.\"\n",
              "            style=\"display:none;\">\n",
              "\n",
              "  <svg xmlns=\"http://www.w3.org/2000/svg\" height=\"24px\" viewBox=\"0 -960 960 960\">\n",
              "    <path d=\"M120-120v-720h720v720H120Zm60-500h600v-160H180v160Zm220 220h160v-160H400v160Zm0 220h160v-160H400v160ZM180-400h160v-160H180v160Zm440 0h160v-160H620v160ZM180-180h160v-160H180v160Zm440 0h160v-160H620v160Z\"/>\n",
              "  </svg>\n",
              "    </button>\n",
              "\n",
              "  <style>\n",
              "    .colab-df-container {\n",
              "      display:flex;\n",
              "      gap: 12px;\n",
              "    }\n",
              "\n",
              "    .colab-df-convert {\n",
              "      background-color: #E8F0FE;\n",
              "      border: none;\n",
              "      border-radius: 50%;\n",
              "      cursor: pointer;\n",
              "      display: none;\n",
              "      fill: #1967D2;\n",
              "      height: 32px;\n",
              "      padding: 0 0 0 0;\n",
              "      width: 32px;\n",
              "    }\n",
              "\n",
              "    .colab-df-convert:hover {\n",
              "      background-color: #E2EBFA;\n",
              "      box-shadow: 0px 1px 2px rgba(60, 64, 67, 0.3), 0px 1px 3px 1px rgba(60, 64, 67, 0.15);\n",
              "      fill: #174EA6;\n",
              "    }\n",
              "\n",
              "    .colab-df-buttons div {\n",
              "      margin-bottom: 4px;\n",
              "    }\n",
              "\n",
              "    [theme=dark] .colab-df-convert {\n",
              "      background-color: #3B4455;\n",
              "      fill: #D2E3FC;\n",
              "    }\n",
              "\n",
              "    [theme=dark] .colab-df-convert:hover {\n",
              "      background-color: #434B5C;\n",
              "      box-shadow: 0px 1px 3px 1px rgba(0, 0, 0, 0.15);\n",
              "      filter: drop-shadow(0px 1px 2px rgba(0, 0, 0, 0.3));\n",
              "      fill: #FFFFFF;\n",
              "    }\n",
              "  </style>\n",
              "\n",
              "    <script>\n",
              "      const buttonEl =\n",
              "        document.querySelector('#df-b9c80060-ab30-4b2b-8204-3b15079988b2 button.colab-df-convert');\n",
              "      buttonEl.style.display =\n",
              "        google.colab.kernel.accessAllowed ? 'block' : 'none';\n",
              "\n",
              "      async function convertToInteractive(key) {\n",
              "        const element = document.querySelector('#df-b9c80060-ab30-4b2b-8204-3b15079988b2');\n",
              "        const dataTable =\n",
              "          await google.colab.kernel.invokeFunction('convertToInteractive',\n",
              "                                                    [key], {});\n",
              "        if (!dataTable) return;\n",
              "\n",
              "        const docLinkHtml = 'Like what you see? Visit the ' +\n",
              "          '<a target=\"_blank\" href=https://colab.research.google.com/notebooks/data_table.ipynb>data table notebook</a>'\n",
              "          + ' to learn more about interactive tables.';\n",
              "        element.innerHTML = '';\n",
              "        dataTable['output_type'] = 'display_data';\n",
              "        await google.colab.output.renderOutput(dataTable, element);\n",
              "        const docLink = document.createElement('div');\n",
              "        docLink.innerHTML = docLinkHtml;\n",
              "        element.appendChild(docLink);\n",
              "      }\n",
              "    </script>\n",
              "  </div>\n",
              "\n",
              "\n",
              "<div id=\"df-8e6439e5-69c2-43e5-b0e2-6c9a50286436\">\n",
              "  <button class=\"colab-df-quickchart\" onclick=\"quickchart('df-8e6439e5-69c2-43e5-b0e2-6c9a50286436')\"\n",
              "            title=\"Suggest charts\"\n",
              "            style=\"display:none;\">\n",
              "\n",
              "<svg xmlns=\"http://www.w3.org/2000/svg\" height=\"24px\"viewBox=\"0 0 24 24\"\n",
              "     width=\"24px\">\n",
              "    <g>\n",
              "        <path d=\"M19 3H5c-1.1 0-2 .9-2 2v14c0 1.1.9 2 2 2h14c1.1 0 2-.9 2-2V5c0-1.1-.9-2-2-2zM9 17H7v-7h2v7zm4 0h-2V7h2v10zm4 0h-2v-4h2v4z\"/>\n",
              "    </g>\n",
              "</svg>\n",
              "  </button>\n",
              "\n",
              "<style>\n",
              "  .colab-df-quickchart {\n",
              "      --bg-color: #E8F0FE;\n",
              "      --fill-color: #1967D2;\n",
              "      --hover-bg-color: #E2EBFA;\n",
              "      --hover-fill-color: #174EA6;\n",
              "      --disabled-fill-color: #AAA;\n",
              "      --disabled-bg-color: #DDD;\n",
              "  }\n",
              "\n",
              "  [theme=dark] .colab-df-quickchart {\n",
              "      --bg-color: #3B4455;\n",
              "      --fill-color: #D2E3FC;\n",
              "      --hover-bg-color: #434B5C;\n",
              "      --hover-fill-color: #FFFFFF;\n",
              "      --disabled-bg-color: #3B4455;\n",
              "      --disabled-fill-color: #666;\n",
              "  }\n",
              "\n",
              "  .colab-df-quickchart {\n",
              "    background-color: var(--bg-color);\n",
              "    border: none;\n",
              "    border-radius: 50%;\n",
              "    cursor: pointer;\n",
              "    display: none;\n",
              "    fill: var(--fill-color);\n",
              "    height: 32px;\n",
              "    padding: 0;\n",
              "    width: 32px;\n",
              "  }\n",
              "\n",
              "  .colab-df-quickchart:hover {\n",
              "    background-color: var(--hover-bg-color);\n",
              "    box-shadow: 0 1px 2px rgba(60, 64, 67, 0.3), 0 1px 3px 1px rgba(60, 64, 67, 0.15);\n",
              "    fill: var(--button-hover-fill-color);\n",
              "  }\n",
              "\n",
              "  .colab-df-quickchart-complete:disabled,\n",
              "  .colab-df-quickchart-complete:disabled:hover {\n",
              "    background-color: var(--disabled-bg-color);\n",
              "    fill: var(--disabled-fill-color);\n",
              "    box-shadow: none;\n",
              "  }\n",
              "\n",
              "  .colab-df-spinner {\n",
              "    border: 2px solid var(--fill-color);\n",
              "    border-color: transparent;\n",
              "    border-bottom-color: var(--fill-color);\n",
              "    animation:\n",
              "      spin 1s steps(1) infinite;\n",
              "  }\n",
              "\n",
              "  @keyframes spin {\n",
              "    0% {\n",
              "      border-color: transparent;\n",
              "      border-bottom-color: var(--fill-color);\n",
              "      border-left-color: var(--fill-color);\n",
              "    }\n",
              "    20% {\n",
              "      border-color: transparent;\n",
              "      border-left-color: var(--fill-color);\n",
              "      border-top-color: var(--fill-color);\n",
              "    }\n",
              "    30% {\n",
              "      border-color: transparent;\n",
              "      border-left-color: var(--fill-color);\n",
              "      border-top-color: var(--fill-color);\n",
              "      border-right-color: var(--fill-color);\n",
              "    }\n",
              "    40% {\n",
              "      border-color: transparent;\n",
              "      border-right-color: var(--fill-color);\n",
              "      border-top-color: var(--fill-color);\n",
              "    }\n",
              "    60% {\n",
              "      border-color: transparent;\n",
              "      border-right-color: var(--fill-color);\n",
              "    }\n",
              "    80% {\n",
              "      border-color: transparent;\n",
              "      border-right-color: var(--fill-color);\n",
              "      border-bottom-color: var(--fill-color);\n",
              "    }\n",
              "    90% {\n",
              "      border-color: transparent;\n",
              "      border-bottom-color: var(--fill-color);\n",
              "    }\n",
              "  }\n",
              "</style>\n",
              "\n",
              "  <script>\n",
              "    async function quickchart(key) {\n",
              "      const quickchartButtonEl =\n",
              "        document.querySelector('#' + key + ' button');\n",
              "      quickchartButtonEl.disabled = true;  // To prevent multiple clicks.\n",
              "      quickchartButtonEl.classList.add('colab-df-spinner');\n",
              "      try {\n",
              "        const charts = await google.colab.kernel.invokeFunction(\n",
              "            'suggestCharts', [key], {});\n",
              "      } catch (error) {\n",
              "        console.error('Error during call to suggestCharts:', error);\n",
              "      }\n",
              "      quickchartButtonEl.classList.remove('colab-df-spinner');\n",
              "      quickchartButtonEl.classList.add('colab-df-quickchart-complete');\n",
              "    }\n",
              "    (() => {\n",
              "      let quickchartButtonEl =\n",
              "        document.querySelector('#df-8e6439e5-69c2-43e5-b0e2-6c9a50286436 button');\n",
              "      quickchartButtonEl.style.display =\n",
              "        google.colab.kernel.accessAllowed ? 'block' : 'none';\n",
              "    })();\n",
              "  </script>\n",
              "</div>\n",
              "    </div>\n",
              "  </div>\n"
            ],
            "application/vnd.google.colaboratory.intrinsic+json": {
              "type": "dataframe",
              "variable_name": "X_train"
            }
          },
          "metadata": {},
          "execution_count": 1847
        }
      ]
    },
    {
      "cell_type": "code",
      "source": [
        "X_pred.head(2)"
      ],
      "metadata": {
        "colab": {
          "base_uri": "https://localhost:8080/",
          "height": 192
        },
        "id": "ex4YkNLP4Vdz",
        "outputId": "6d9b55fc-7afb-4262-bb23-60547b72d113"
      },
      "execution_count": null,
      "outputs": [
        {
          "output_type": "execute_result",
          "data": {
            "text/plain": [
              "             Pclass   Age  SibSp  Parch    Fare  Sex_male  \\\n",
              "PassengerId                                                 \n",
              "892             2.0  34.5      0      0  7.8292         1   \n",
              "893             2.0  47.0      1      0  7.0000         0   \n",
              "\n",
              "             Title_Category_Master  Title_Category_Miss  Title_Category_Mr  \\\n",
              "PassengerId                                                                  \n",
              "892                              0                    0                  1   \n",
              "893                              0                    0                  0   \n",
              "\n",
              "             Title_Category_Mrs  ...  Cabin_Reduced_Unknown  \\\n",
              "PassengerId                      ...                          \n",
              "892                           0  ...                      1   \n",
              "893                           1  ...                      1   \n",
              "\n",
              "             Ticket_Prefix_Grouped_A5  Ticket_Prefix_Grouped_C  \\\n",
              "PassengerId                                                      \n",
              "892                                 0                        0   \n",
              "893                                 0                        0   \n",
              "\n",
              "             Ticket_Prefix_Grouped_NUMERIC  Ticket_Prefix_Grouped_OTHER  \\\n",
              "PassengerId                                                               \n",
              "892                                      1                            0   \n",
              "893                                      1                            0   \n",
              "\n",
              "             Ticket_Prefix_Grouped_SC  Ticket_Prefix_Grouped_STONO  \\\n",
              "PassengerId                                                          \n",
              "892                                 0                            0   \n",
              "893                                 0                            0   \n",
              "\n",
              "             Embarked_Cherbourg  Embarked_Queenstown  Embarked_Southampton  \n",
              "PassengerId                                                                 \n",
              "892                           0                    1                     0  \n",
              "893                           0                    0                     1  \n",
              "\n",
              "[2 rows x 27 columns]"
            ],
            "text/html": [
              "\n",
              "  <div id=\"df-a401621c-5124-4719-8bdb-b39f4c2dd2df\" class=\"colab-df-container\">\n",
              "    <div>\n",
              "<style scoped>\n",
              "    .dataframe tbody tr th:only-of-type {\n",
              "        vertical-align: middle;\n",
              "    }\n",
              "\n",
              "    .dataframe tbody tr th {\n",
              "        vertical-align: top;\n",
              "    }\n",
              "\n",
              "    .dataframe thead th {\n",
              "        text-align: right;\n",
              "    }\n",
              "</style>\n",
              "<table border=\"1\" class=\"dataframe\">\n",
              "  <thead>\n",
              "    <tr style=\"text-align: right;\">\n",
              "      <th></th>\n",
              "      <th>Pclass</th>\n",
              "      <th>Age</th>\n",
              "      <th>SibSp</th>\n",
              "      <th>Parch</th>\n",
              "      <th>Fare</th>\n",
              "      <th>Sex_male</th>\n",
              "      <th>Title_Category_Master</th>\n",
              "      <th>Title_Category_Miss</th>\n",
              "      <th>Title_Category_Mr</th>\n",
              "      <th>Title_Category_Mrs</th>\n",
              "      <th>...</th>\n",
              "      <th>Cabin_Reduced_Unknown</th>\n",
              "      <th>Ticket_Prefix_Grouped_A5</th>\n",
              "      <th>Ticket_Prefix_Grouped_C</th>\n",
              "      <th>Ticket_Prefix_Grouped_NUMERIC</th>\n",
              "      <th>Ticket_Prefix_Grouped_OTHER</th>\n",
              "      <th>Ticket_Prefix_Grouped_SC</th>\n",
              "      <th>Ticket_Prefix_Grouped_STONO</th>\n",
              "      <th>Embarked_Cherbourg</th>\n",
              "      <th>Embarked_Queenstown</th>\n",
              "      <th>Embarked_Southampton</th>\n",
              "    </tr>\n",
              "    <tr>\n",
              "      <th>PassengerId</th>\n",
              "      <th></th>\n",
              "      <th></th>\n",
              "      <th></th>\n",
              "      <th></th>\n",
              "      <th></th>\n",
              "      <th></th>\n",
              "      <th></th>\n",
              "      <th></th>\n",
              "      <th></th>\n",
              "      <th></th>\n",
              "      <th></th>\n",
              "      <th></th>\n",
              "      <th></th>\n",
              "      <th></th>\n",
              "      <th></th>\n",
              "      <th></th>\n",
              "      <th></th>\n",
              "      <th></th>\n",
              "      <th></th>\n",
              "      <th></th>\n",
              "      <th></th>\n",
              "    </tr>\n",
              "  </thead>\n",
              "  <tbody>\n",
              "    <tr>\n",
              "      <th>892</th>\n",
              "      <td>2.0</td>\n",
              "      <td>34.5</td>\n",
              "      <td>0</td>\n",
              "      <td>0</td>\n",
              "      <td>7.8292</td>\n",
              "      <td>1</td>\n",
              "      <td>0</td>\n",
              "      <td>0</td>\n",
              "      <td>1</td>\n",
              "      <td>0</td>\n",
              "      <td>...</td>\n",
              "      <td>1</td>\n",
              "      <td>0</td>\n",
              "      <td>0</td>\n",
              "      <td>1</td>\n",
              "      <td>0</td>\n",
              "      <td>0</td>\n",
              "      <td>0</td>\n",
              "      <td>0</td>\n",
              "      <td>1</td>\n",
              "      <td>0</td>\n",
              "    </tr>\n",
              "    <tr>\n",
              "      <th>893</th>\n",
              "      <td>2.0</td>\n",
              "      <td>47.0</td>\n",
              "      <td>1</td>\n",
              "      <td>0</td>\n",
              "      <td>7.0000</td>\n",
              "      <td>0</td>\n",
              "      <td>0</td>\n",
              "      <td>0</td>\n",
              "      <td>0</td>\n",
              "      <td>1</td>\n",
              "      <td>...</td>\n",
              "      <td>1</td>\n",
              "      <td>0</td>\n",
              "      <td>0</td>\n",
              "      <td>1</td>\n",
              "      <td>0</td>\n",
              "      <td>0</td>\n",
              "      <td>0</td>\n",
              "      <td>0</td>\n",
              "      <td>0</td>\n",
              "      <td>1</td>\n",
              "    </tr>\n",
              "  </tbody>\n",
              "</table>\n",
              "<p>2 rows × 27 columns</p>\n",
              "</div>\n",
              "    <div class=\"colab-df-buttons\">\n",
              "\n",
              "  <div class=\"colab-df-container\">\n",
              "    <button class=\"colab-df-convert\" onclick=\"convertToInteractive('df-a401621c-5124-4719-8bdb-b39f4c2dd2df')\"\n",
              "            title=\"Convert this dataframe to an interactive table.\"\n",
              "            style=\"display:none;\">\n",
              "\n",
              "  <svg xmlns=\"http://www.w3.org/2000/svg\" height=\"24px\" viewBox=\"0 -960 960 960\">\n",
              "    <path d=\"M120-120v-720h720v720H120Zm60-500h600v-160H180v160Zm220 220h160v-160H400v160Zm0 220h160v-160H400v160ZM180-400h160v-160H180v160Zm440 0h160v-160H620v160ZM180-180h160v-160H180v160Zm440 0h160v-160H620v160Z\"/>\n",
              "  </svg>\n",
              "    </button>\n",
              "\n",
              "  <style>\n",
              "    .colab-df-container {\n",
              "      display:flex;\n",
              "      gap: 12px;\n",
              "    }\n",
              "\n",
              "    .colab-df-convert {\n",
              "      background-color: #E8F0FE;\n",
              "      border: none;\n",
              "      border-radius: 50%;\n",
              "      cursor: pointer;\n",
              "      display: none;\n",
              "      fill: #1967D2;\n",
              "      height: 32px;\n",
              "      padding: 0 0 0 0;\n",
              "      width: 32px;\n",
              "    }\n",
              "\n",
              "    .colab-df-convert:hover {\n",
              "      background-color: #E2EBFA;\n",
              "      box-shadow: 0px 1px 2px rgba(60, 64, 67, 0.3), 0px 1px 3px 1px rgba(60, 64, 67, 0.15);\n",
              "      fill: #174EA6;\n",
              "    }\n",
              "\n",
              "    .colab-df-buttons div {\n",
              "      margin-bottom: 4px;\n",
              "    }\n",
              "\n",
              "    [theme=dark] .colab-df-convert {\n",
              "      background-color: #3B4455;\n",
              "      fill: #D2E3FC;\n",
              "    }\n",
              "\n",
              "    [theme=dark] .colab-df-convert:hover {\n",
              "      background-color: #434B5C;\n",
              "      box-shadow: 0px 1px 3px 1px rgba(0, 0, 0, 0.15);\n",
              "      filter: drop-shadow(0px 1px 2px rgba(0, 0, 0, 0.3));\n",
              "      fill: #FFFFFF;\n",
              "    }\n",
              "  </style>\n",
              "\n",
              "    <script>\n",
              "      const buttonEl =\n",
              "        document.querySelector('#df-a401621c-5124-4719-8bdb-b39f4c2dd2df button.colab-df-convert');\n",
              "      buttonEl.style.display =\n",
              "        google.colab.kernel.accessAllowed ? 'block' : 'none';\n",
              "\n",
              "      async function convertToInteractive(key) {\n",
              "        const element = document.querySelector('#df-a401621c-5124-4719-8bdb-b39f4c2dd2df');\n",
              "        const dataTable =\n",
              "          await google.colab.kernel.invokeFunction('convertToInteractive',\n",
              "                                                    [key], {});\n",
              "        if (!dataTable) return;\n",
              "\n",
              "        const docLinkHtml = 'Like what you see? Visit the ' +\n",
              "          '<a target=\"_blank\" href=https://colab.research.google.com/notebooks/data_table.ipynb>data table notebook</a>'\n",
              "          + ' to learn more about interactive tables.';\n",
              "        element.innerHTML = '';\n",
              "        dataTable['output_type'] = 'display_data';\n",
              "        await google.colab.output.renderOutput(dataTable, element);\n",
              "        const docLink = document.createElement('div');\n",
              "        docLink.innerHTML = docLinkHtml;\n",
              "        element.appendChild(docLink);\n",
              "      }\n",
              "    </script>\n",
              "  </div>\n",
              "\n",
              "\n",
              "<div id=\"df-aa751763-4079-4a9c-93cd-f057a4344414\">\n",
              "  <button class=\"colab-df-quickchart\" onclick=\"quickchart('df-aa751763-4079-4a9c-93cd-f057a4344414')\"\n",
              "            title=\"Suggest charts\"\n",
              "            style=\"display:none;\">\n",
              "\n",
              "<svg xmlns=\"http://www.w3.org/2000/svg\" height=\"24px\"viewBox=\"0 0 24 24\"\n",
              "     width=\"24px\">\n",
              "    <g>\n",
              "        <path d=\"M19 3H5c-1.1 0-2 .9-2 2v14c0 1.1.9 2 2 2h14c1.1 0 2-.9 2-2V5c0-1.1-.9-2-2-2zM9 17H7v-7h2v7zm4 0h-2V7h2v10zm4 0h-2v-4h2v4z\"/>\n",
              "    </g>\n",
              "</svg>\n",
              "  </button>\n",
              "\n",
              "<style>\n",
              "  .colab-df-quickchart {\n",
              "      --bg-color: #E8F0FE;\n",
              "      --fill-color: #1967D2;\n",
              "      --hover-bg-color: #E2EBFA;\n",
              "      --hover-fill-color: #174EA6;\n",
              "      --disabled-fill-color: #AAA;\n",
              "      --disabled-bg-color: #DDD;\n",
              "  }\n",
              "\n",
              "  [theme=dark] .colab-df-quickchart {\n",
              "      --bg-color: #3B4455;\n",
              "      --fill-color: #D2E3FC;\n",
              "      --hover-bg-color: #434B5C;\n",
              "      --hover-fill-color: #FFFFFF;\n",
              "      --disabled-bg-color: #3B4455;\n",
              "      --disabled-fill-color: #666;\n",
              "  }\n",
              "\n",
              "  .colab-df-quickchart {\n",
              "    background-color: var(--bg-color);\n",
              "    border: none;\n",
              "    border-radius: 50%;\n",
              "    cursor: pointer;\n",
              "    display: none;\n",
              "    fill: var(--fill-color);\n",
              "    height: 32px;\n",
              "    padding: 0;\n",
              "    width: 32px;\n",
              "  }\n",
              "\n",
              "  .colab-df-quickchart:hover {\n",
              "    background-color: var(--hover-bg-color);\n",
              "    box-shadow: 0 1px 2px rgba(60, 64, 67, 0.3), 0 1px 3px 1px rgba(60, 64, 67, 0.15);\n",
              "    fill: var(--button-hover-fill-color);\n",
              "  }\n",
              "\n",
              "  .colab-df-quickchart-complete:disabled,\n",
              "  .colab-df-quickchart-complete:disabled:hover {\n",
              "    background-color: var(--disabled-bg-color);\n",
              "    fill: var(--disabled-fill-color);\n",
              "    box-shadow: none;\n",
              "  }\n",
              "\n",
              "  .colab-df-spinner {\n",
              "    border: 2px solid var(--fill-color);\n",
              "    border-color: transparent;\n",
              "    border-bottom-color: var(--fill-color);\n",
              "    animation:\n",
              "      spin 1s steps(1) infinite;\n",
              "  }\n",
              "\n",
              "  @keyframes spin {\n",
              "    0% {\n",
              "      border-color: transparent;\n",
              "      border-bottom-color: var(--fill-color);\n",
              "      border-left-color: var(--fill-color);\n",
              "    }\n",
              "    20% {\n",
              "      border-color: transparent;\n",
              "      border-left-color: var(--fill-color);\n",
              "      border-top-color: var(--fill-color);\n",
              "    }\n",
              "    30% {\n",
              "      border-color: transparent;\n",
              "      border-left-color: var(--fill-color);\n",
              "      border-top-color: var(--fill-color);\n",
              "      border-right-color: var(--fill-color);\n",
              "    }\n",
              "    40% {\n",
              "      border-color: transparent;\n",
              "      border-right-color: var(--fill-color);\n",
              "      border-top-color: var(--fill-color);\n",
              "    }\n",
              "    60% {\n",
              "      border-color: transparent;\n",
              "      border-right-color: var(--fill-color);\n",
              "    }\n",
              "    80% {\n",
              "      border-color: transparent;\n",
              "      border-right-color: var(--fill-color);\n",
              "      border-bottom-color: var(--fill-color);\n",
              "    }\n",
              "    90% {\n",
              "      border-color: transparent;\n",
              "      border-bottom-color: var(--fill-color);\n",
              "    }\n",
              "  }\n",
              "</style>\n",
              "\n",
              "  <script>\n",
              "    async function quickchart(key) {\n",
              "      const quickchartButtonEl =\n",
              "        document.querySelector('#' + key + ' button');\n",
              "      quickchartButtonEl.disabled = true;  // To prevent multiple clicks.\n",
              "      quickchartButtonEl.classList.add('colab-df-spinner');\n",
              "      try {\n",
              "        const charts = await google.colab.kernel.invokeFunction(\n",
              "            'suggestCharts', [key], {});\n",
              "      } catch (error) {\n",
              "        console.error('Error during call to suggestCharts:', error);\n",
              "      }\n",
              "      quickchartButtonEl.classList.remove('colab-df-spinner');\n",
              "      quickchartButtonEl.classList.add('colab-df-quickchart-complete');\n",
              "    }\n",
              "    (() => {\n",
              "      let quickchartButtonEl =\n",
              "        document.querySelector('#df-aa751763-4079-4a9c-93cd-f057a4344414 button');\n",
              "      quickchartButtonEl.style.display =\n",
              "        google.colab.kernel.accessAllowed ? 'block' : 'none';\n",
              "    })();\n",
              "  </script>\n",
              "</div>\n",
              "    </div>\n",
              "  </div>\n"
            ],
            "application/vnd.google.colaboratory.intrinsic+json": {
              "type": "dataframe",
              "variable_name": "X_pred"
            }
          },
          "metadata": {},
          "execution_count": 1848
        }
      ]
    }
  ]
}